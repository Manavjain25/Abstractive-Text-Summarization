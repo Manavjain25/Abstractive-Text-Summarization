{
  "nbformat": 4,
  "nbformat_minor": 0,
  "metadata": {
    "kernelspec": {
      "name": "python3",
      "display_name": "Python 3",
      "language": "python"
    },
    "language_info": {
      "name": "python",
      "version": "3.7.6",
      "mimetype": "text/x-python",
      "codemirror_mode": {
        "name": "ipython",
        "version": 3
      },
      "pygments_lexer": "ipython3",
      "nbconvert_exporter": "python",
      "file_extension": ".py"
    },
    "colab": {
      "name": "LSTM.ipynb",
      "provenance": [],
      "collapsed_sections": []
    },
    "accelerator": "GPU"
  },
  "cells": [
    {
      "cell_type": "code",
      "metadata": {
        "id": "pBpXnSd9fO-z",
        "colab": {
          "base_uri": "https://localhost:8080/",
          "height": 55
        },
        "outputId": "34a1a7c2-6f48-4124-e564-7b94f487911c"
      },
      "source": [
        "from google.colab import drive\n",
        "drive.mount('/content/gdrive')"
      ],
      "execution_count": null,
      "outputs": [
        {
          "output_type": "stream",
          "text": [
            "Drive already mounted at /content/gdrive; to attempt to forcibly remount, call drive.mount(\"/content/gdrive\", force_remount=True).\n"
          ],
          "name": "stdout"
        }
      ]
    },
    {
      "cell_type": "code",
      "metadata": {
        "id": "sv5hedw0fhiP"
      },
      "source": [
        "import os\n",
        "os.environ['KAGGLE_CONFIG_DIR'] = \"/content/gdrive/My Drive/Kaggle\"\n",
        "# /content/gdrive/My Drive/Kaggle is the path where kaggle.json is present in the Google Drive"
      ],
      "execution_count": null,
      "outputs": []
    },
    {
      "cell_type": "code",
      "metadata": {
        "id": "xWNCxfu5gBJ4",
        "colab": {
          "base_uri": "https://localhost:8080/",
          "height": 69
        },
        "outputId": "66db178c-60a6-4e57-e083-5922e80de7ec"
      },
      "source": [
        "!kaggle datasets download -d snap/amazon-fine-food-reviews"
      ],
      "execution_count": null,
      "outputs": [
        {
          "output_type": "stream",
          "text": [
            "Downloading amazon-fine-food-reviews.zip to /content\n",
            " 98% 238M/242M [00:01<00:00, 147MB/s]\n",
            "100% 242M/242M [00:01<00:00, 186MB/s]\n"
          ],
          "name": "stdout"
        }
      ]
    },
    {
      "cell_type": "code",
      "metadata": {
        "id": "N6vWL5vJgVNY",
        "colab": {
          "base_uri": "https://localhost:8080/",
          "height": 52
        },
        "outputId": "613e4778-2dca-4cbe-c285-e51dff8747bb"
      },
      "source": [
        "!ls"
      ],
      "execution_count": null,
      "outputs": [
        {
          "output_type": "stream",
          "text": [
            "amazon-fine-food-reviews.zip  gdrive\t  Reviews.csv\n",
            "database.sqlite\t\t      hashes.txt  sample_data\n"
          ],
          "name": "stdout"
        }
      ]
    },
    {
      "cell_type": "code",
      "metadata": {
        "id": "r4Kyn4C0gjby",
        "colab": {
          "base_uri": "https://localhost:8080/",
          "height": 87
        },
        "outputId": "b77800d8-0bc8-48f8-c9d2-071c44adedf2"
      },
      "source": [
        "#unzipping the zip files and deleting the zip files\n",
        "!unzip \\*.zip  && rm *.zip"
      ],
      "execution_count": null,
      "outputs": [
        {
          "output_type": "stream",
          "text": [
            "Archive:  amazon-fine-food-reviews.zip\n",
            "replace Reviews.csv? [y]es, [n]o, [A]ll, [N]one, [r]ename: no\n",
            "replace database.sqlite? [y]es, [n]o, [A]ll, [N]one, [r]ename: no\n",
            "replace hashes.txt? [y]es, [n]o, [A]ll, [N]one, [r]ename: no\n"
          ],
          "name": "stdout"
        }
      ]
    },
    {
      "cell_type": "code",
      "metadata": {
        "_uuid": "cdaabc04-ce75-4b9f-898c-716525ce5923",
        "_cell_guid": "627eacfc-8393-419e-85ea-c0ee1b2e9fc4",
        "trusted": true,
        "id": "b4e57DVMWp79"
      },
      "source": [
        "import numpy as np\n",
        "import pandas as pd \n",
        "import re\n",
        "from bs4 import BeautifulSoup\n",
        "from keras.preprocessing.text import Tokenizer \n",
        "from keras.preprocessing.sequence import pad_sequences\n",
        "from nltk.corpus import stopwords\n",
        "from tensorflow.keras.layers import Input, LSTM, Embedding, Dense, Concatenate, TimeDistributed\n",
        "from tensorflow.keras.models import Model\n",
        "from tensorflow.keras.callbacks import EarlyStopping\n",
        "import warnings\n",
        "pd.set_option(\"display.max_colwidth\", 200)\n",
        "warnings.filterwarnings(\"ignore\") "
      ],
      "execution_count": null,
      "outputs": []
    },
    {
      "cell_type": "code",
      "metadata": {
        "trusted": true,
        "id": "m6-WblEKWp8D",
        "colab": {
          "base_uri": "https://localhost:8080/",
          "height": 1000
        },
        "outputId": "1ee509ad-834d-4e7a-e83e-ad0672c0273c"
      },
      "source": [
        "data= pd.read_csv(\"/content/Reviews.csv\",nrows=100000,error_bad_lines=False)\n",
        "data.head(10)"
      ],
      "execution_count": null,
      "outputs": [
        {
          "output_type": "execute_result",
          "data": {
            "text/html": [
              "<div>\n",
              "<style scoped>\n",
              "    .dataframe tbody tr th:only-of-type {\n",
              "        vertical-align: middle;\n",
              "    }\n",
              "\n",
              "    .dataframe tbody tr th {\n",
              "        vertical-align: top;\n",
              "    }\n",
              "\n",
              "    .dataframe thead th {\n",
              "        text-align: right;\n",
              "    }\n",
              "</style>\n",
              "<table border=\"1\" class=\"dataframe\">\n",
              "  <thead>\n",
              "    <tr style=\"text-align: right;\">\n",
              "      <th></th>\n",
              "      <th>Id</th>\n",
              "      <th>ProductId</th>\n",
              "      <th>UserId</th>\n",
              "      <th>ProfileName</th>\n",
              "      <th>HelpfulnessNumerator</th>\n",
              "      <th>HelpfulnessDenominator</th>\n",
              "      <th>Score</th>\n",
              "      <th>Time</th>\n",
              "      <th>Summary</th>\n",
              "      <th>Text</th>\n",
              "    </tr>\n",
              "  </thead>\n",
              "  <tbody>\n",
              "    <tr>\n",
              "      <th>0</th>\n",
              "      <td>1</td>\n",
              "      <td>B001E4KFG0</td>\n",
              "      <td>A3SGXH7AUHU8GW</td>\n",
              "      <td>delmartian</td>\n",
              "      <td>1</td>\n",
              "      <td>1</td>\n",
              "      <td>5</td>\n",
              "      <td>1303862400</td>\n",
              "      <td>Good Quality Dog Food</td>\n",
              "      <td>I have bought several of the Vitality canned dog food products and have found them all to be of good quality. The product looks more like a stew than a processed meat and it smells better. My Labr...</td>\n",
              "    </tr>\n",
              "    <tr>\n",
              "      <th>1</th>\n",
              "      <td>2</td>\n",
              "      <td>B00813GRG4</td>\n",
              "      <td>A1D87F6ZCVE5NK</td>\n",
              "      <td>dll pa</td>\n",
              "      <td>0</td>\n",
              "      <td>0</td>\n",
              "      <td>1</td>\n",
              "      <td>1346976000</td>\n",
              "      <td>Not as Advertised</td>\n",
              "      <td>Product arrived labeled as Jumbo Salted Peanuts...the peanuts were actually small sized unsalted. Not sure if this was an error or if the vendor intended to represent the product as \"Jumbo\".</td>\n",
              "    </tr>\n",
              "    <tr>\n",
              "      <th>2</th>\n",
              "      <td>3</td>\n",
              "      <td>B000LQOCH0</td>\n",
              "      <td>ABXLMWJIXXAIN</td>\n",
              "      <td>Natalia Corres \"Natalia Corres\"</td>\n",
              "      <td>1</td>\n",
              "      <td>1</td>\n",
              "      <td>4</td>\n",
              "      <td>1219017600</td>\n",
              "      <td>\"Delight\" says it all</td>\n",
              "      <td>This is a confection that has been around a few centuries.  It is a light, pillowy citrus gelatin with nuts - in this case Filberts. And it is cut into tiny squares and then liberally coated with ...</td>\n",
              "    </tr>\n",
              "    <tr>\n",
              "      <th>3</th>\n",
              "      <td>4</td>\n",
              "      <td>B000UA0QIQ</td>\n",
              "      <td>A395BORC6FGVXV</td>\n",
              "      <td>Karl</td>\n",
              "      <td>3</td>\n",
              "      <td>3</td>\n",
              "      <td>2</td>\n",
              "      <td>1307923200</td>\n",
              "      <td>Cough Medicine</td>\n",
              "      <td>If you are looking for the secret ingredient in Robitussin I believe I have found it.  I got this in addition to the Root Beer Extract I ordered (which was good) and made some cherry soda.  The fl...</td>\n",
              "    </tr>\n",
              "    <tr>\n",
              "      <th>4</th>\n",
              "      <td>5</td>\n",
              "      <td>B006K2ZZ7K</td>\n",
              "      <td>A1UQRSCLF8GW1T</td>\n",
              "      <td>Michael D. Bigham \"M. Wassir\"</td>\n",
              "      <td>0</td>\n",
              "      <td>0</td>\n",
              "      <td>5</td>\n",
              "      <td>1350777600</td>\n",
              "      <td>Great taffy</td>\n",
              "      <td>Great taffy at a great price.  There was a wide assortment of yummy taffy.  Delivery was very quick.  If your a taffy lover, this is a deal.</td>\n",
              "    </tr>\n",
              "    <tr>\n",
              "      <th>5</th>\n",
              "      <td>6</td>\n",
              "      <td>B006K2ZZ7K</td>\n",
              "      <td>ADT0SRK1MGOEU</td>\n",
              "      <td>Twoapennything</td>\n",
              "      <td>0</td>\n",
              "      <td>0</td>\n",
              "      <td>4</td>\n",
              "      <td>1342051200</td>\n",
              "      <td>Nice Taffy</td>\n",
              "      <td>I got a wild hair for taffy and ordered this five pound bag. The taffy was all very enjoyable with many flavors: watermelon, root beer, melon, peppermint, grape, etc. My only complaint is there wa...</td>\n",
              "    </tr>\n",
              "    <tr>\n",
              "      <th>6</th>\n",
              "      <td>7</td>\n",
              "      <td>B006K2ZZ7K</td>\n",
              "      <td>A1SP2KVKFXXRU1</td>\n",
              "      <td>David C. Sullivan</td>\n",
              "      <td>0</td>\n",
              "      <td>0</td>\n",
              "      <td>5</td>\n",
              "      <td>1340150400</td>\n",
              "      <td>Great!  Just as good as the expensive brands!</td>\n",
              "      <td>This saltwater taffy had great flavors and was very soft and chewy.  Each candy was individually wrapped well.  None of the candies were stuck together, which did happen in the expensive version, ...</td>\n",
              "    </tr>\n",
              "    <tr>\n",
              "      <th>7</th>\n",
              "      <td>8</td>\n",
              "      <td>B006K2ZZ7K</td>\n",
              "      <td>A3JRGQVEQN31IQ</td>\n",
              "      <td>Pamela G. Williams</td>\n",
              "      <td>0</td>\n",
              "      <td>0</td>\n",
              "      <td>5</td>\n",
              "      <td>1336003200</td>\n",
              "      <td>Wonderful, tasty taffy</td>\n",
              "      <td>This taffy is so good.  It is very soft and chewy.  The flavors are amazing.  I would definitely recommend you buying it.  Very satisfying!!</td>\n",
              "    </tr>\n",
              "    <tr>\n",
              "      <th>8</th>\n",
              "      <td>9</td>\n",
              "      <td>B000E7L2R4</td>\n",
              "      <td>A1MZYO9TZK0BBI</td>\n",
              "      <td>R. James</td>\n",
              "      <td>1</td>\n",
              "      <td>1</td>\n",
              "      <td>5</td>\n",
              "      <td>1322006400</td>\n",
              "      <td>Yay Barley</td>\n",
              "      <td>Right now I'm mostly just sprouting this so my cats can eat the grass. They love it. I rotate it around with Wheatgrass and Rye too</td>\n",
              "    </tr>\n",
              "    <tr>\n",
              "      <th>9</th>\n",
              "      <td>10</td>\n",
              "      <td>B00171APVA</td>\n",
              "      <td>A21BT40VZCCYT4</td>\n",
              "      <td>Carol A. Reed</td>\n",
              "      <td>0</td>\n",
              "      <td>0</td>\n",
              "      <td>5</td>\n",
              "      <td>1351209600</td>\n",
              "      <td>Healthy Dog Food</td>\n",
              "      <td>This is a very healthy dog food. Good for their digestion. Also good for small puppies. My dog eats her required amount at every feeding.</td>\n",
              "    </tr>\n",
              "  </tbody>\n",
              "</table>\n",
              "</div>"
            ],
            "text/plain": [
              "   Id  ...                                                                                                                                                                                                     Text\n",
              "0   1  ...  I have bought several of the Vitality canned dog food products and have found them all to be of good quality. The product looks more like a stew than a processed meat and it smells better. My Labr...\n",
              "1   2  ...           Product arrived labeled as Jumbo Salted Peanuts...the peanuts were actually small sized unsalted. Not sure if this was an error or if the vendor intended to represent the product as \"Jumbo\".\n",
              "2   3  ...  This is a confection that has been around a few centuries.  It is a light, pillowy citrus gelatin with nuts - in this case Filberts. And it is cut into tiny squares and then liberally coated with ...\n",
              "3   4  ...  If you are looking for the secret ingredient in Robitussin I believe I have found it.  I got this in addition to the Root Beer Extract I ordered (which was good) and made some cherry soda.  The fl...\n",
              "4   5  ...                                                             Great taffy at a great price.  There was a wide assortment of yummy taffy.  Delivery was very quick.  If your a taffy lover, this is a deal.\n",
              "5   6  ...  I got a wild hair for taffy and ordered this five pound bag. The taffy was all very enjoyable with many flavors: watermelon, root beer, melon, peppermint, grape, etc. My only complaint is there wa...\n",
              "6   7  ...  This saltwater taffy had great flavors and was very soft and chewy.  Each candy was individually wrapped well.  None of the candies were stuck together, which did happen in the expensive version, ...\n",
              "7   8  ...                                                             This taffy is so good.  It is very soft and chewy.  The flavors are amazing.  I would definitely recommend you buying it.  Very satisfying!!\n",
              "8   9  ...                                                                      Right now I'm mostly just sprouting this so my cats can eat the grass. They love it. I rotate it around with Wheatgrass and Rye too\n",
              "9  10  ...                                                                This is a very healthy dog food. Good for their digestion. Also good for small puppies. My dog eats her required amount at every feeding.\n",
              "\n",
              "[10 rows x 10 columns]"
            ]
          },
          "metadata": {
            "tags": []
          },
          "execution_count": 146
        }
      ]
    },
    {
      "cell_type": "code",
      "metadata": {
        "trusted": true,
        "id": "VgyD0rrFWp8G",
        "colab": {
          "base_uri": "https://localhost:8080/",
          "height": 312
        },
        "outputId": "aa2e6b77-3e22-4a32-b6c7-b11678e91ad3"
      },
      "source": [
        "data.drop_duplicates(subset=['Text'],inplace=True)  #dropping duplicates\n",
        "data.dropna(axis=0,inplace=True)   #dropping na\n",
        "data.info()"
      ],
      "execution_count": null,
      "outputs": [
        {
          "output_type": "stream",
          "text": [
            "<class 'pandas.core.frame.DataFrame'>\n",
            "Int64Index: 88421 entries, 0 to 99999\n",
            "Data columns (total 10 columns):\n",
            " #   Column                  Non-Null Count  Dtype \n",
            "---  ------                  --------------  ----- \n",
            " 0   Id                      88421 non-null  int64 \n",
            " 1   ProductId               88421 non-null  object\n",
            " 2   UserId                  88421 non-null  object\n",
            " 3   ProfileName             88421 non-null  object\n",
            " 4   HelpfulnessNumerator    88421 non-null  int64 \n",
            " 5   HelpfulnessDenominator  88421 non-null  int64 \n",
            " 6   Score                   88421 non-null  int64 \n",
            " 7   Time                    88421 non-null  int64 \n",
            " 8   Summary                 88421 non-null  object\n",
            " 9   Text                    88421 non-null  object\n",
            "dtypes: int64(5), object(5)\n",
            "memory usage: 7.4+ MB\n"
          ],
          "name": "stdout"
        }
      ]
    },
    {
      "cell_type": "code",
      "metadata": {
        "trusted": true,
        "id": "VbLPMDasWp8J"
      },
      "source": [
        "contraction_mapping = {\"ain't\": \"is not\", \"aren't\": \"are not\",\"can't\": \"cannot\", \"'cause\": \"because\", \"could've\": \"could have\", \"couldn't\": \"could not\",\n",
        "\n",
        "                           \"didn't\": \"did not\", \"doesn't\": \"does not\", \"don't\": \"do not\", \"hadn't\": \"had not\", \"hasn't\": \"has not\", \"haven't\": \"have not\",\n",
        "\n",
        "                           \"he'd\": \"he would\",\"he'll\": \"he will\", \"he's\": \"he is\", \"how'd\": \"how did\", \"how'd'y\": \"how do you\", \"how'll\": \"how will\", \"how's\": \"how is\",\n",
        "\n",
        "                           \"I'd\": \"I would\", \"I'd've\": \"I would have\", \"I'll\": \"I will\", \"I'll've\": \"I will have\",\"I'm\": \"I am\", \"I've\": \"I have\", \"i'd\": \"i would\",\n",
        "\n",
        "                           \"i'd've\": \"i would have\", \"i'll\": \"i will\",  \"i'll've\": \"i will have\",\"i'm\": \"i am\", \"i've\": \"i have\", \"isn't\": \"is not\", \"it'd\": \"it would\",\n",
        "\n",
        "                           \"it'd've\": \"it would have\", \"it'll\": \"it will\", \"it'll've\": \"it will have\",\"it's\": \"it is\", \"let's\": \"let us\", \"ma'am\": \"madam\",\n",
        "\n",
        "                           \"mayn't\": \"may not\", \"might've\": \"might have\",\"mightn't\": \"might not\",\"mightn't've\": \"might not have\", \"must've\": \"must have\",\n",
        "\n",
        "                           \"mustn't\": \"must not\", \"mustn't've\": \"must not have\", \"needn't\": \"need not\", \"needn't've\": \"need not have\",\"o'clock\": \"of the clock\",\n",
        "\n",
        "                           \"oughtn't\": \"ought not\", \"oughtn't've\": \"ought not have\", \"shan't\": \"shall not\", \"sha'n't\": \"shall not\", \"shan't've\": \"shall not have\",\n",
        "\n",
        "                           \"she'd\": \"she would\", \"she'd've\": \"she would have\", \"she'll\": \"she will\", \"she'll've\": \"she will have\", \"she's\": \"she is\",\n",
        "\n",
        "                           \"should've\": \"should have\", \"shouldn't\": \"should not\", \"shouldn't've\": \"should not have\", \"so've\": \"so have\",\"so's\": \"so as\",\n",
        "\n",
        "                           \"this's\": \"this is\",\"that'd\": \"that would\", \"that'd've\": \"that would have\", \"that's\": \"that is\", \"there'd\": \"there would\",\n",
        "\n",
        "                           \"there'd've\": \"there would have\", \"there's\": \"there is\", \"here's\": \"here is\",\"they'd\": \"they would\", \"they'd've\": \"they would have\",\n",
        "\n",
        "                           \"they'll\": \"they will\", \"they'll've\": \"they will have\", \"they're\": \"they are\", \"they've\": \"they have\", \"to've\": \"to have\",\n",
        "\n",
        "                           \"wasn't\": \"was not\", \"we'd\": \"we would\", \"we'd've\": \"we would have\", \"we'll\": \"we will\", \"we'll've\": \"we will have\", \"we're\": \"we are\",\n",
        "\n",
        "                           \"we've\": \"we have\", \"weren't\": \"were not\", \"what'll\": \"what will\", \"what'll've\": \"what will have\", \"what're\": \"what are\",\n",
        "\n",
        "                           \"what's\": \"what is\", \"what've\": \"what have\", \"when's\": \"when is\", \"when've\": \"when have\", \"where'd\": \"where did\", \"where's\": \"where is\",\n",
        "\n",
        "                           \"where've\": \"where have\", \"who'll\": \"who will\", \"who'll've\": \"who will have\", \"who's\": \"who is\", \"who've\": \"who have\",\n",
        "\n",
        "                           \"why's\": \"why is\", \"why've\": \"why have\", \"will've\": \"will have\", \"won't\": \"will not\", \"won't've\": \"will not have\",\n",
        "\n",
        "                           \"would've\": \"would have\", \"wouldn't\": \"would not\", \"wouldn't've\": \"would not have\", \"y'all\": \"you all\",\n",
        "\n",
        "                           \"y'all'd\": \"you all would\",\"y'all'd've\": \"you all would have\",\"y'all're\": \"you all are\",\"y'all've\": \"you all have\",\n",
        "\n",
        "                           \"you'd\": \"you would\", \"you'd've\": \"you would have\", \"you'll\": \"you will\", \"you'll've\": \"you will have\",\n",
        "\n",
        "                           \"you're\": \"you are\", \"you've\": \"you have\"}"
      ],
      "execution_count": null,
      "outputs": []
    },
    {
      "cell_type": "code",
      "metadata": {
        "trusted": true,
        "id": "A4YSnJy_Wp8N",
        "colab": {
          "base_uri": "https://localhost:8080/",
          "height": 228
        },
        "outputId": "44049dd9-6920-4951-c4a9-ef58a74c6118"
      },
      "source": [
        "data['Text'][:10]"
      ],
      "execution_count": null,
      "outputs": [
        {
          "output_type": "execute_result",
          "data": {
            "text/plain": [
              "0    I have bought several of the Vitality canned dog food products and have found them all to be of good quality. The product looks more like a stew than a processed meat and it smells better. My Labr...\n",
              "1             Product arrived labeled as Jumbo Salted Peanuts...the peanuts were actually small sized unsalted. Not sure if this was an error or if the vendor intended to represent the product as \"Jumbo\".\n",
              "2    This is a confection that has been around a few centuries.  It is a light, pillowy citrus gelatin with nuts - in this case Filberts. And it is cut into tiny squares and then liberally coated with ...\n",
              "3    If you are looking for the secret ingredient in Robitussin I believe I have found it.  I got this in addition to the Root Beer Extract I ordered (which was good) and made some cherry soda.  The fl...\n",
              "4                                                               Great taffy at a great price.  There was a wide assortment of yummy taffy.  Delivery was very quick.  If your a taffy lover, this is a deal.\n",
              "5    I got a wild hair for taffy and ordered this five pound bag. The taffy was all very enjoyable with many flavors: watermelon, root beer, melon, peppermint, grape, etc. My only complaint is there wa...\n",
              "6    This saltwater taffy had great flavors and was very soft and chewy.  Each candy was individually wrapped well.  None of the candies were stuck together, which did happen in the expensive version, ...\n",
              "7                                                               This taffy is so good.  It is very soft and chewy.  The flavors are amazing.  I would definitely recommend you buying it.  Very satisfying!!\n",
              "8                                                                        Right now I'm mostly just sprouting this so my cats can eat the grass. They love it. I rotate it around with Wheatgrass and Rye too\n",
              "9                                                                  This is a very healthy dog food. Good for their digestion. Also good for small puppies. My dog eats her required amount at every feeding.\n",
              "Name: Text, dtype: object"
            ]
          },
          "metadata": {
            "tags": []
          },
          "execution_count": 149
        }
      ]
    },
    {
      "cell_type": "code",
      "metadata": {
        "trusted": true,
        "id": "Piny7NzyWp8S",
        "colab": {
          "base_uri": "https://localhost:8080/",
          "height": 52
        },
        "outputId": "e8a84183-46c4-461d-a465-142183ce4e2c"
      },
      "source": [
        "import nltk\n",
        "nltk.download('stopwords')\n",
        "stop_words = set(stopwords.words('english')) \n",
        "def text_cleaner(text):\n",
        "    newString = text.lower()\n",
        "    newString = BeautifulSoup(newString, \"lxml\").text\n",
        "    newString = re.sub(r'\\([^)]*\\)', '', newString)\n",
        "    newString = re.sub('\"','', newString)\n",
        "    newString = ' '.join([contraction_mapping[t] if t in contraction_mapping else t for t in newString.split(\" \")])    \n",
        "    newString = re.sub(r\"'s\\b\",\"\",newString)\n",
        "    newString = re.sub(\"[^a-zA-Z]\", \" \", newString) \n",
        "    tokens = [w for w in newString.split() if not w in stop_words]\n",
        "    long_words=[]\n",
        "    for i in tokens:\n",
        "        if len(i)>=3:                  #removing short word\n",
        "            long_words.append(i)   \n",
        "    return (\" \".join(long_words)).strip()\n",
        "\n",
        "cleaned_text = []\n",
        "for t in data['Text']:\n",
        "    cleaned_text.append(text_cleaner(t))\n",
        "\n"
      ],
      "execution_count": null,
      "outputs": [
        {
          "output_type": "stream",
          "text": [
            "[nltk_data] Downloading package stopwords to /root/nltk_data...\n",
            "[nltk_data]   Package stopwords is already up-to-date!\n"
          ],
          "name": "stdout"
        }
      ]
    },
    {
      "cell_type": "code",
      "metadata": {
        "trusted": true,
        "id": "VGCOItkhWp8V",
        "colab": {
          "base_uri": "https://localhost:8080/",
          "height": 124
        },
        "outputId": "10d18829-7832-4548-f7ac-36a3a94526d2"
      },
      "source": [
        "cleaned_text[:5]"
      ],
      "execution_count": null,
      "outputs": [
        {
          "output_type": "execute_result",
          "data": {
            "text/plain": [
              "['bought several vitality canned dog food products found good quality product looks like stew processed meat smells better labrador finicky appreciates product better',\n",
              " 'product arrived labeled jumbo salted peanuts peanuts actually small sized unsalted sure error vendor intended represent product jumbo',\n",
              " 'confection around centuries light pillowy citrus gelatin nuts case filberts cut tiny squares liberally coated powdered sugar tiny mouthful heaven chewy flavorful highly recommend yummy treat familiar story lewis lion witch wardrobe treat seduces edmund selling brother sisters witch',\n",
              " 'looking secret ingredient robitussin believe found got addition root beer extract ordered made cherry soda flavor medicinal',\n",
              " 'great taffy great price wide assortment yummy taffy delivery quick taffy lover deal']"
            ]
          },
          "metadata": {
            "tags": []
          },
          "execution_count": 151
        }
      ]
    },
    {
      "cell_type": "code",
      "metadata": {
        "trusted": true,
        "id": "N-XL7MJeWp8a",
        "colab": {
          "base_uri": "https://localhost:8080/",
          "height": 208
        },
        "outputId": "cbe58aed-b210-433f-bcce-bb1d739d7206"
      },
      "source": [
        "data['Summary'][:10]"
      ],
      "execution_count": null,
      "outputs": [
        {
          "output_type": "execute_result",
          "data": {
            "text/plain": [
              "0                            Good Quality Dog Food\n",
              "1                                Not as Advertised\n",
              "2                            \"Delight\" says it all\n",
              "3                                   Cough Medicine\n",
              "4                                      Great taffy\n",
              "5                                       Nice Taffy\n",
              "6    Great!  Just as good as the expensive brands!\n",
              "7                           Wonderful, tasty taffy\n",
              "8                                       Yay Barley\n",
              "9                                 Healthy Dog Food\n",
              "Name: Summary, dtype: object"
            ]
          },
          "metadata": {
            "tags": []
          },
          "execution_count": 152
        }
      ]
    },
    {
      "cell_type": "code",
      "metadata": {
        "trusted": true,
        "id": "nYPfaNWAWp8e"
      },
      "source": [
        "\n",
        "def summary_cleaner(text):\n",
        "    newString = re.sub('\"','', text)\n",
        "    newString = ' '.join([contraction_mapping[t] if t in contraction_mapping else t for t in newString.split(\" \")])    \n",
        "    newString = re.sub(r\"'s\\b\",\"\",newString)\n",
        "    newString = re.sub(\"[^a-zA-Z]\", \" \", newString)\n",
        "    newString = newString.lower()\n",
        "    tokens=newString.split()\n",
        "    newString=''\n",
        "    for i in tokens:\n",
        "        if len(i)>1:                                 \n",
        "            newString=newString+i+' '  \n",
        "    return newString\n",
        "\n",
        "#Call the above function\n",
        "cleaned_summary = []\n",
        "for t in data['Summary']:\n",
        "    cleaned_summary.append(summary_cleaner(t))\n",
        "\n",
        "data['cleaned_text']=cleaned_text\n",
        "data['cleaned_summary']=cleaned_summary\n",
        "data['cleaned_summary'].replace('', np.nan, inplace=True)\n",
        "data.dropna(axis=0,inplace=True)\n"
      ],
      "execution_count": null,
      "outputs": []
    },
    {
      "cell_type": "code",
      "metadata": {
        "trusted": true,
        "id": "0schXkUSWp8g",
        "colab": {
          "base_uri": "https://localhost:8080/",
          "height": 191
        },
        "outputId": "b8f61882-392a-40e4-f94c-89b6b7c3e183"
      },
      "source": [
        "cleaned_summary[:10]"
      ],
      "execution_count": null,
      "outputs": [
        {
          "output_type": "execute_result",
          "data": {
            "text/plain": [
              "['good quality dog food ',\n",
              " 'not as advertised ',\n",
              " 'delight says it all ',\n",
              " 'cough medicine ',\n",
              " 'great taffy ',\n",
              " 'nice taffy ',\n",
              " 'great just as good as the expensive brands ',\n",
              " 'wonderful tasty taffy ',\n",
              " 'yay barley ',\n",
              " 'healthy dog food ']"
            ]
          },
          "metadata": {
            "tags": []
          },
          "execution_count": 154
        }
      ]
    },
    {
      "cell_type": "code",
      "metadata": {
        "trusted": true,
        "id": "GFRDrmIhWp8j",
        "colab": {
          "base_uri": "https://localhost:8080/",
          "height": 281
        },
        "outputId": "af5c4732-94c4-40bc-d50c-a042c46c028d"
      },
      "source": [
        "\n",
        "import matplotlib.pyplot as plt\n",
        "\n",
        "text_word_count = []\n",
        "summary_word_count = []\n",
        "\n",
        "# populate the lists with sentence lengths\n",
        "for i in data['cleaned_text']:\n",
        "      text_word_count.append(len(i.split()))\n",
        "\n",
        "for i in data['cleaned_summary']:\n",
        "      summary_word_count.append(len(i.split()))\n",
        "\n",
        "length_df = pd.DataFrame({'text':text_word_count, 'summary':summary_word_count})\n",
        "\n",
        "length_df.hist(bins = 30)\n",
        "plt.show()"
      ],
      "execution_count": null,
      "outputs": [
        {
          "output_type": "display_data",
          "data": {
            "image/png": "[encoded data removed]",
            "text/plain": [
              "<Figure size 432x288 with 2 Axes>"
            ]
          },
          "metadata": {
            "tags": [],
            "needs_background": "light"
          }
        }
      ]
    },
    {
      "cell_type": "code",
      "metadata": {
        "trusted": true,
        "id": "C2xKSJmhWp8l",
        "colab": {
          "base_uri": "https://localhost:8080/",
          "height": 35
        },
        "outputId": "27b5fc2c-34d6-4d4a-c790-3d5cc5bca118"
      },
      "source": [
        "cnt=0\n",
        "for i in data['cleaned_summary']:\n",
        "    if(len(i.split())<=11):\n",
        "        cnt=cnt+1\n",
        "print(cnt/len(data['cleaned_summary']))"
      ],
      "execution_count": null,
      "outputs": [
        {
          "output_type": "stream",
          "text": [
            "0.9869952010141253\n"
          ],
          "name": "stdout"
        }
      ]
    },
    {
      "cell_type": "code",
      "metadata": {
        "trusted": true,
        "id": "dUC64PB3Wp8o"
      },
      "source": [
        "max_text_len=40\n",
        "max_summary_len=10"
      ],
      "execution_count": null,
      "outputs": []
    },
    {
      "cell_type": "code",
      "metadata": {
        "trusted": true,
        "id": "MM8GUcbiWp8r"
      },
      "source": [
        "cleaned_text =np.array(data['cleaned_text'])\n",
        "cleaned_summary=np.array(data['cleaned_summary'])\n",
        "\n",
        "short_text=[]\n",
        "short_summary=[]\n",
        "\n",
        "for i in range(len(cleaned_text)):\n",
        "    if(len(cleaned_summary[i].split())<=max_summary_len and len(cleaned_text[i].split())<=max_text_len):\n",
        "        short_text.append(cleaned_text[i])\n",
        "        short_summary.append(cleaned_summary[i])\n",
        "        \n",
        "df=pd.DataFrame({'text':short_text,'summary':short_summary})"
      ],
      "execution_count": null,
      "outputs": []
    },
    {
      "cell_type": "code",
      "metadata": {
        "trusted": true,
        "id": "86yP6IikWp8w"
      },
      "source": [
        "\n",
        "df['summary'] = df['summary'].apply(lambda x : 'sostok '+ x + ' eostok')"
      ],
      "execution_count": null,
      "outputs": []
    },
    {
      "cell_type": "code",
      "metadata": {
        "trusted": true,
        "id": "dN-qCv_PWp8z",
        "colab": {
          "base_uri": "https://localhost:8080/",
          "height": 225
        },
        "outputId": "e81e7814-8b0a-46ff-8a1b-8ac5b9ccc243"
      },
      "source": [
        "df['summary'] "
      ],
      "execution_count": null,
      "outputs": [
        {
          "output_type": "execute_result",
          "data": {
            "text/plain": [
              "0        sostok good quality dog food  eostok\n",
              "1            sostok not as advertised  eostok\n",
              "2          sostok delight says it all  eostok\n",
              "3               sostok cough medicine  eostok\n",
              "4                  sostok great taffy  eostok\n",
              "                         ...                 \n",
              "59966              sostok great stuff  eostok\n",
              "59967               sostok good stuff  eostok\n",
              "59968                    sostok yummy  eostok\n",
              "59969              sostok great ramen  eostok\n",
              "59970                    sostok spicy  eostok\n",
              "Name: summary, Length: 59971, dtype: object"
            ]
          },
          "metadata": {
            "tags": []
          },
          "execution_count": 160
        }
      ]
    },
    {
      "cell_type": "code",
      "metadata": {
        "trusted": true,
        "id": "K_mHMHi7Wp85"
      },
      "source": [
        "from sklearn.model_selection import train_test_split\n",
        "x_tr,x_val,y_tr,y_val=train_test_split(np.array(df['text']),np.array(df['summary']),test_size=0.1,random_state=0,shuffle=True)"
      ],
      "execution_count": null,
      "outputs": []
    },
    {
      "cell_type": "code",
      "metadata": {
        "trusted": true,
        "id": "HQaFfZ89Wp89"
      },
      "source": [
        "from keras.preprocessing.text import Tokenizer \n",
        "from keras.preprocessing.sequence import pad_sequences\n",
        "\n",
        "#prepare a tokenizer for reviews on training data\n",
        "x_tokenizer = Tokenizer() \n",
        "x_tokenizer.fit_on_texts(list(x_tr))"
      ],
      "execution_count": null,
      "outputs": []
    },
    {
      "cell_type": "code",
      "metadata": {
        "trusted": true,
        "id": "gwuO7WGVWp9A",
        "colab": {
          "base_uri": "https://localhost:8080/",
          "height": 52
        },
        "outputId": "27277e68-c36b-49e2-8dff-2d9c8911f76e"
      },
      "source": [
        "thresh=4\n",
        "\n",
        "cnt=0\n",
        "tot_cnt=0\n",
        "freq=0\n",
        "tot_freq=0\n",
        "\n",
        "for key,value in x_tokenizer.word_counts.items():\n",
        "    tot_cnt=tot_cnt+1\n",
        "    tot_freq=tot_freq+value\n",
        "    if(value<thresh):\n",
        "        cnt=cnt+1\n",
        "        freq=freq+value\n",
        "    \n",
        "print(\"% of rare words in vocabulary:\",(cnt/tot_cnt)*100)\n",
        "print(\"Total Coverage of rare words:\",(freq/tot_freq)*100)"
      ],
      "execution_count": null,
      "outputs": [
        {
          "output_type": "stream",
          "text": [
            "% of rare words in vocabulary: 65.23552583667119\n",
            "Total Coverage of rare words: 2.339408497846204\n"
          ],
          "name": "stdout"
        }
      ]
    },
    {
      "cell_type": "code",
      "metadata": {
        "trusted": true,
        "id": "zOtlkP5OWp9D"
      },
      "source": [
        "#prepare a tokenizer for reviews on training data\n",
        "x_tokenizer = Tokenizer(num_words=tot_cnt-cnt) \n",
        "x_tokenizer.fit_on_texts(list(x_tr))\n",
        "\n",
        "#convert text sequences into integer sequences\n",
        "x_tr_seq    =   x_tokenizer.texts_to_sequences(x_tr) \n",
        "x_val_seq   =   x_tokenizer.texts_to_sequences(x_val)\n",
        "\n",
        "#padding zero upto maximum length\n",
        "x_tr    =   pad_sequences(x_tr_seq,  maxlen=max_text_len, padding='post')\n",
        "x_val   =   pad_sequences(x_val_seq, maxlen=max_text_len, padding='post')\n",
        "\n",
        "#size of vocabulary ( +1 for padding token)\n",
        "x_voc   =  x_tokenizer.num_words + 1"
      ],
      "execution_count": null,
      "outputs": []
    },
    {
      "cell_type": "code",
      "metadata": {
        "trusted": true,
        "id": "vds2D2H4Wp9F",
        "colab": {
          "base_uri": "https://localhost:8080/",
          "height": 35
        },
        "outputId": "fc94034e-3cd3-4e82-f7e5-527c888db3d1"
      },
      "source": [
        "x_voc"
      ],
      "execution_count": null,
      "outputs": [
        {
          "output_type": "execute_result",
          "data": {
            "text/plain": [
              "10503"
            ]
          },
          "metadata": {
            "tags": []
          },
          "execution_count": 165
        }
      ]
    },
    {
      "cell_type": "code",
      "metadata": {
        "trusted": true,
        "id": "rsI3SLdSWp9I"
      },
      "source": [
        "#prepare a tokenizer for reviews on training data\n",
        "y_tokenizer = Tokenizer()   \n",
        "y_tokenizer.fit_on_texts(list(y_tr))"
      ],
      "execution_count": null,
      "outputs": []
    },
    {
      "cell_type": "code",
      "metadata": {
        "trusted": true,
        "id": "C8nvI5RXWp9L",
        "colab": {
          "base_uri": "https://localhost:8080/",
          "height": 52
        },
        "outputId": "30972396-02d8-41cb-c5c0-6f50bcf61471"
      },
      "source": [
        "thresh=6\n",
        "\n",
        "cnt=0\n",
        "tot_cnt=0\n",
        "freq=0\n",
        "tot_freq=0\n",
        "\n",
        "for key,value in y_tokenizer.word_counts.items():\n",
        "    tot_cnt=tot_cnt+1\n",
        "    tot_freq=tot_freq+value\n",
        "    if(value<thresh):\n",
        "        cnt=cnt+1\n",
        "        freq=freq+value\n",
        "    \n",
        "print(\"% of rare words in vocabulary:\",(cnt/tot_cnt)*100)\n",
        "print(\"Total Coverage of rare words:\",(freq/tot_freq)*100)"
      ],
      "execution_count": null,
      "outputs": [
        {
          "output_type": "stream",
          "text": [
            "% of rare words in vocabulary: 77.24986025712688\n",
            "Total Coverage of rare words: 4.750296258676147\n"
          ],
          "name": "stdout"
        }
      ]
    },
    {
      "cell_type": "code",
      "metadata": {
        "trusted": true,
        "id": "cLzp43ewWp9O"
      },
      "source": [
        "#prepare a tokenizer for reviews on training data\n",
        "y_tokenizer = Tokenizer(num_words=tot_cnt-cnt) \n",
        "y_tokenizer.fit_on_texts(list(y_tr))\n",
        "\n",
        "#convert text sequences into integer sequences\n",
        "y_tr_seq    =   y_tokenizer.texts_to_sequences(y_tr) \n",
        "y_val_seq   =   y_tokenizer.texts_to_sequences(y_val) \n",
        "\n",
        "#padding zero upto maximum length\n",
        "y_tr    =   pad_sequences(y_tr_seq, maxlen=max_summary_len, padding='post')\n",
        "y_val   =   pad_sequences(y_val_seq, maxlen=max_summary_len, padding='post')\n",
        "\n",
        "#size of vocabulary\n",
        "y_voc  =   y_tokenizer.num_words +1"
      ],
      "execution_count": null,
      "outputs": []
    },
    {
      "cell_type": "code",
      "metadata": {
        "trusted": true,
        "id": "IZSCw_c-Wp9R",
        "colab": {
          "base_uri": "https://localhost:8080/",
          "height": 35
        },
        "outputId": "db1d30c9-c74b-4b28-f664-df0f88045c36"
      },
      "source": [
        "\n",
        "y_tokenizer.word_counts['sostok'],len(y_tr)"
      ],
      "execution_count": null,
      "outputs": [
        {
          "output_type": "execute_result",
          "data": {
            "text/plain": [
              "(53973, 53973)"
            ]
          },
          "metadata": {
            "tags": []
          },
          "execution_count": 169
        }
      ]
    },
    {
      "cell_type": "code",
      "metadata": {
        "trusted": true,
        "id": "LSr7NUGDWp9W",
        "colab": {
          "base_uri": "https://localhost:8080/",
          "height": 139
        },
        "outputId": "2d8e8817-2406-4e78-d505-16f24c5ffb9f"
      },
      "source": [
        "y_tr"
      ],
      "execution_count": null,
      "outputs": [
        {
          "output_type": "execute_result",
          "data": {
            "text/plain": [
              "array([[   1,  321,    2, ...,    0,    0,    0],\n",
              "       [   1,    4,   38, ...,    0,    0,    0],\n",
              "       [   1,  394, 2211, ...,    0,    0,    0],\n",
              "       ...,\n",
              "       [   1,    3,  177, ...,    0,    0,    0],\n",
              "       [   1,   17,    2, ...,    0,    0,    0],\n",
              "       [   1,  367,  113, ...,    0,    0,    0]], dtype=int32)"
            ]
          },
          "metadata": {
            "tags": []
          },
          "execution_count": 170
        }
      ]
    },
    {
      "cell_type": "code",
      "metadata": {
        "trusted": true,
        "id": "aFlhQmJ0Wp9Z"
      },
      "source": [
        "ind=[]\n",
        "for i in range(len(y_tr)):\n",
        "    cnt=0\n",
        "    for j in y_tr[i]:\n",
        "        if j!=0:\n",
        "            cnt=cnt+1\n",
        "    if(cnt==2):\n",
        "        ind.append(i)\n",
        "\n",
        "y_tr=np.delete(y_tr,ind, axis=0)\n",
        "x_tr=np.delete(x_tr,ind, axis=0)"
      ],
      "execution_count": null,
      "outputs": []
    },
    {
      "cell_type": "code",
      "metadata": {
        "trusted": true,
        "id": "jYSribbnWp9b"
      },
      "source": [
        "ind=[]\n",
        "for i in range(len(y_val)):\n",
        "    cnt=0\n",
        "    for j in y_val[i]:\n",
        "        if j!=0:\n",
        "            cnt=cnt+1\n",
        "    if(cnt==2):\n",
        "        ind.append(i)\n",
        "\n",
        "y_val=np.delete(y_val,ind, axis=0)\n",
        "x_val=np.delete(x_val,ind, axis=0)"
      ],
      "execution_count": null,
      "outputs": []
    },
    {
      "cell_type": "code",
      "metadata": {
        "trusted": true,
        "id": "flRAdT3EWp9d"
      },
      "source": [
        "import tensorflow as tf\n",
        "import os\n",
        "from tensorflow.python.keras.layers import Layer\n",
        "from tensorflow.python.keras import backend as K\n",
        "\n",
        "\n",
        "class AttentionLayer(Layer):\n",
        "    \"\"\"\n",
        "    This class implements Bahdanau attention (https://arxiv.org/pdf/1409.0473.pdf).\n",
        "    There are three sets of weights introduced W_a, U_a, and V_a\n",
        "     \"\"\"\n",
        "\n",
        "    def __init__(self, **kwargs):\n",
        "        super(AttentionLayer, self).__init__(**kwargs)\n",
        "\n",
        "    def build(self, input_shape):\n",
        "        assert isinstance(input_shape, list)\n",
        "        # Create a trainable weight variable for this layer.\n",
        "\n",
        "        self.W_a = self.add_weight(name='W_a',\n",
        "                                   shape=tf.TensorShape((input_shape[0][2], input_shape[0][2])),\n",
        "                                   initializer='uniform',\n",
        "                                   trainable=True)\n",
        "        self.U_a = self.add_weight(name='U_a',\n",
        "                                   shape=tf.TensorShape((input_shape[1][2], input_shape[0][2])),\n",
        "                                   initializer='uniform',\n",
        "                                   trainable=True)\n",
        "        self.V_a = self.add_weight(name='V_a',\n",
        "                                   shape=tf.TensorShape((input_shape[0][2], 1)),\n",
        "                                   initializer='uniform',\n",
        "                                   trainable=True)\n",
        "\n",
        "        super(AttentionLayer, self).build(input_shape)  # Be sure to call this at the end\n",
        "\n",
        "    def call(self, inputs, verbose=False):\n",
        "        \"\"\"\n",
        "        inputs: [encoder_output_sequence, decoder_output_sequence]\n",
        "        \"\"\"\n",
        "        assert type(inputs) == list\n",
        "        encoder_out_seq, decoder_out_seq = inputs\n",
        "        if verbose:\n",
        "            print('encoder_out_seq>', encoder_out_seq.shape)\n",
        "            print('decoder_out_seq>', decoder_out_seq.shape)\n",
        "\n",
        "        def energy_step(inputs, states):\n",
        "            \"\"\" Step function for computing energy for a single decoder state\n",
        "            inputs: (batchsize * 1 * de_in_dim)\n",
        "            states: (batchsize * 1 * de_latent_dim)\n",
        "            \"\"\"\n",
        "\n",
        "            assert_msg = \"States must be an iterable. Got {} of type {}\".format(states, type(states))\n",
        "            assert isinstance(states, list) or isinstance(states, tuple), assert_msg\n",
        "\n",
        "            \"\"\" Some parameters required for shaping tensors\"\"\"\n",
        "            en_seq_len, en_hidden = encoder_out_seq.shape[1], encoder_out_seq.shape[2]\n",
        "            de_hidden = inputs.shape[-1]\n",
        "\n",
        "            \"\"\" Computing S.Wa where S=[s0, s1, ..., si]\"\"\"\n",
        "            # <= batch size * en_seq_len * latent_dim\n",
        "            W_a_dot_s = K.dot(encoder_out_seq, self.W_a)\n",
        "\n",
        "            \"\"\" Computing hj.Ua \"\"\"\n",
        "            U_a_dot_h = K.expand_dims(K.dot(inputs, self.U_a), 1)  # <= batch_size, 1, latent_dim\n",
        "            if verbose:\n",
        "                print('Ua.h>', U_a_dot_h.shape)\n",
        "\n",
        "            \"\"\" tanh(S.Wa + hj.Ua) \"\"\"\n",
        "            # <= batch_size*en_seq_len, latent_dim\n",
        "            Ws_plus_Uh = K.tanh(W_a_dot_s + U_a_dot_h)\n",
        "            if verbose:\n",
        "                print('Ws+Uh>', Ws_plus_Uh.shape)\n",
        "\n",
        "            \"\"\" softmax(va.tanh(S.Wa + hj.Ua)) \"\"\"\n",
        "            # <= batch_size, en_seq_len\n",
        "            e_i = K.squeeze(K.dot(Ws_plus_Uh, self.V_a), axis=-1)\n",
        "            # <= batch_size, en_seq_len\n",
        "            e_i = K.softmax(e_i)\n",
        "\n",
        "            if verbose:\n",
        "                print('ei>', e_i.shape)\n",
        "\n",
        "            return e_i, [e_i]\n",
        "\n",
        "        def context_step(inputs, states):\n",
        "            \"\"\" Step function for computing ci using ei \"\"\"\n",
        "\n",
        "            assert_msg = \"States must be an iterable. Got {} of type {}\".format(states, type(states))\n",
        "            assert isinstance(states, list) or isinstance(states, tuple), assert_msg\n",
        "\n",
        "            # <= batch_size, hidden_size\n",
        "            c_i = K.sum(encoder_out_seq * K.expand_dims(inputs, -1), axis=1)\n",
        "            if verbose:\n",
        "                print('ci>', c_i.shape)\n",
        "            return c_i, [c_i]\n",
        "\n",
        "        fake_state_c = K.sum(encoder_out_seq, axis=1)\n",
        "        fake_state_e = K.sum(encoder_out_seq, axis=2)  # <= (batch_size, enc_seq_len, latent_dim\n",
        "\n",
        "        \"\"\" Computing energy outputs \"\"\"\n",
        "        # e_outputs => (batch_size, de_seq_len, en_seq_len)\n",
        "        last_out, e_outputs, _ = K.rnn(\n",
        "            energy_step, decoder_out_seq, [fake_state_e],\n",
        "        )\n",
        "\n",
        "        \"\"\" Computing context vectors \"\"\"\n",
        "        last_out, c_outputs, _ = K.rnn(\n",
        "            context_step, e_outputs, [fake_state_c],\n",
        "        )\n",
        "\n",
        "        return c_outputs, e_outputs\n",
        "\n",
        "    def compute_output_shape(self, input_shape):\n",
        "        \"\"\" Outputs produced by the layer \"\"\"\n",
        "        return [\n",
        "            tf.TensorShape((input_shape[1][0], input_shape[1][1], input_shape[1][2])),\n",
        "            tf.TensorShape((input_shape[1][0], input_shape[1][1], input_shape[0][1]))\n",
        "        ]\n"
      ],
      "execution_count": null,
      "outputs": []
    },
    {
      "cell_type": "code",
      "metadata": {
        "trusted": true,
        "id": "lj3nhT8oWp9f",
        "colab": {
          "base_uri": "https://localhost:8080/",
          "height": 35
        },
        "outputId": "dc6a0528-6311-4391-88b2-884c4d2bb19a"
      },
      "source": [
        "x_voc"
      ],
      "execution_count": null,
      "outputs": [
        {
          "output_type": "execute_result",
          "data": {
            "text/plain": [
              "10503"
            ]
          },
          "metadata": {
            "tags": []
          },
          "execution_count": 174
        }
      ]
    },
    {
      "cell_type": "code",
      "metadata": {
        "trusted": true,
        "id": "7nYhn9iOWp9j",
        "colab": {
          "base_uri": "https://localhost:8080/",
          "height": 696
        },
        "outputId": "7b5e3b36-65c1-4d8a-830e-6302f159f174"
      },
      "source": [
        "from keras import backend as K \n",
        "K.clear_session()\n",
        "\n",
        "latent_dim = 500\n",
        "\n",
        "\n",
        "# Encoder\n",
        "encoder_inputs = Input(shape=(max_text_len,))\n",
        "\n",
        "#embedding layer\n",
        "enc_emb =  Embedding(x_voc, latent_dim,trainable=True)(encoder_inputs)\n",
        "\n",
        "#encoder lstm 1\n",
        "encoder_lstm1 = LSTM(latent_dim,return_sequences=True,return_state=True,dropout=0.4,recurrent_dropout=0.4)\n",
        "encoder_output1, state_h1, state_c1 = encoder_lstm1(enc_emb)\n",
        "\n",
        "#encoder lstm 2\n",
        "encoder_lstm2 = LSTM(latent_dim,return_sequences=True,return_state=True,dropout=0.4,recurrent_dropout=0.4)\n",
        "encoder_output2, state_h2, state_c2 = encoder_lstm2(encoder_output1)\n",
        "\n",
        "#encoder lstm 3\n",
        "encoder_lstm3=LSTM(latent_dim, return_state=True, return_sequences=True,dropout=0.4,recurrent_dropout=0.4)\n",
        "encoder_outputs, state_h, state_c= encoder_lstm3(encoder_output2)\n",
        "\n",
        "# Set up the decoder, using `encoder_states` as initial state.\n",
        "decoder_inputs = Input(shape=(None,))\n",
        "\n",
        "#embedding layer\n",
        "dec_emb_layer = Embedding(y_voc, latent_dim,trainable=True)\n",
        "dec_emb = dec_emb_layer(decoder_inputs)\n",
        "\n",
        "decoder_lstm = LSTM(latent_dim, return_sequences=True, return_state=True,dropout=0.4,recurrent_dropout=0.2)\n",
        "decoder_outputs,decoder_fwd_state, decoder_back_state = decoder_lstm(dec_emb,initial_state=[state_h, state_c])\n",
        "\n",
        "# Attention layer\n",
        "attn_layer = AttentionLayer(name='attention_layer')\n",
        "attn_out, attn_states = attn_layer([encoder_outputs, decoder_outputs])\n",
        "\n",
        "# Concat attention input and decoder LSTM output\n",
        "decoder_concat_input = Concatenate(axis=-1, name='concat_layer')([decoder_outputs, attn_out])\n",
        "\n",
        "#dense layer\n",
        "decoder_dense =  TimeDistributed(Dense(y_voc, activation='softmax'))\n",
        "decoder_outputs = decoder_dense(decoder_concat_input)\n",
        "\n",
        "# Define the model \n",
        "model = Model([encoder_inputs, decoder_inputs], decoder_outputs)\n",
        "\n",
        "model.summary()"
      ],
      "execution_count": null,
      "outputs": [
        {
          "output_type": "stream",
          "text": [
            "WARNING:tensorflow:Layer lstm will not use cuDNN kernel since it doesn't meet the cuDNN kernel criteria. It will use generic GPU kernel as fallback when running on GPU\n",
            "WARNING:tensorflow:Layer lstm_1 will not use cuDNN kernel since it doesn't meet the cuDNN kernel criteria. It will use generic GPU kernel as fallback when running on GPU\n",
            "WARNING:tensorflow:Layer lstm_2 will not use cuDNN kernel since it doesn't meet the cuDNN kernel criteria. It will use generic GPU kernel as fallback when running on GPU\n",
            "WARNING:tensorflow:Layer lstm_3 will not use cuDNN kernel since it doesn't meet the cuDNN kernel criteria. It will use generic GPU kernel as fallback when running on GPU\n",
            "Model: \"functional_1\"\n",
            "__________________________________________________________________________________________________\n",
            "Layer (type)                    Output Shape         Param #     Connected to                     \n",
            "==================================================================================================\n",
            "input_1 (InputLayer)            [(None, 40)]         0                                            \n",
            "__________________________________________________________________________________________________\n",
            "embedding (Embedding)           (None, 40, 500)      5251500     input_1[0][0]                    \n",
            "__________________________________________________________________________________________________\n",
            "lstm (LSTM)                     [(None, 40, 500), (N 2002000     embedding[0][0]                  \n",
            "__________________________________________________________________________________________________\n",
            "input_2 (InputLayer)            [(None, None)]       0                                            \n",
            "__________________________________________________________________________________________________\n",
            "lstm_1 (LSTM)                   [(None, 40, 500), (N 2002000     lstm[0][0]                       \n",
            "__________________________________________________________________________________________________\n",
            "embedding_1 (Embedding)         (None, None, 500)    1221500     input_2[0][0]                    \n",
            "__________________________________________________________________________________________________\n",
            "lstm_2 (LSTM)                   [(None, 40, 500), (N 2002000     lstm_1[0][0]                     \n",
            "__________________________________________________________________________________________________\n",
            "lstm_3 (LSTM)                   [(None, None, 500),  2002000     embedding_1[0][0]                \n",
            "                                                                 lstm_2[0][1]                     \n",
            "                                                                 lstm_2[0][2]                     \n",
            "__________________________________________________________________________________________________\n",
            "attention_layer (AttentionLayer ((None, None, 500),  500500      lstm_2[0][0]                     \n",
            "                                                                 lstm_3[0][0]                     \n",
            "__________________________________________________________________________________________________\n",
            "concat_layer (Concatenate)      (None, None, 1000)   0           lstm_3[0][0]                     \n",
            "                                                                 attention_layer[0][0]            \n",
            "__________________________________________________________________________________________________\n",
            "time_distributed (TimeDistribut (None, None, 2443)   2445443     concat_layer[0][0]               \n",
            "==================================================================================================\n",
            "Total params: 17,426,943\n",
            "Trainable params: 17,426,943\n",
            "Non-trainable params: 0\n",
            "__________________________________________________________________________________________________\n"
          ],
          "name": "stdout"
        }
      ]
    },
    {
      "cell_type": "code",
      "metadata": {
        "trusted": true,
        "id": "s7ZGsooJWp9m"
      },
      "source": [
        "model.compile(optimizer='rmsprop', loss='sparse_categorical_crossentropy')"
      ],
      "execution_count": null,
      "outputs": []
    },
    {
      "cell_type": "code",
      "metadata": {
        "trusted": true,
        "id": "DAHyQdKKWp9p"
      },
      "source": [
        "es = EarlyStopping(monitor='val_loss', mode='min', verbose=1,patience=2)"
      ],
      "execution_count": null,
      "outputs": []
    },
    {
      "cell_type": "code",
      "metadata": {
        "trusted": true,
        "id": "USRCEqlYWp9r",
        "colab": {
          "base_uri": "https://localhost:8080/",
          "height": 347
        },
        "outputId": "8dfc7c5c-4e3c-4985-b382-3ffe181da154"
      },
      "source": [
        "history=model.fit([x_tr,y_tr[:,:-1]], y_tr.reshape(y_tr.shape[0],y_tr.shape[1], 1)[:,1:] ,epochs=50,callbacks=[es],batch_size=64, validation_data=([x_val,y_val[:,:-1]], y_val.reshape(y_val.shape[0],y_val.shape[1], 1)[:,1:]))"
      ],
      "execution_count": null,
      "outputs": [
        {
          "output_type": "stream",
          "text": [
            "Epoch 1/50\n",
            "825/825 [==============================] - 470s 569ms/step - loss: 2.2246 - val_loss: 1.9998\n",
            "Epoch 2/50\n",
            "825/825 [==============================] - 466s 564ms/step - loss: 1.9385 - val_loss: 1.8641\n",
            "Epoch 3/50\n",
            "825/825 [==============================] - 460s 558ms/step - loss: 1.8283 - val_loss: 1.8072\n",
            "Epoch 4/50\n",
            "825/825 [==============================] - 466s 565ms/step - loss: 1.7560 - val_loss: 1.7835\n",
            "Epoch 5/50\n",
            "825/825 [==============================] - 459s 557ms/step - loss: 1.6957 - val_loss: 1.7624\n",
            "Epoch 6/50\n",
            "825/825 [==============================] - 473s 573ms/step - loss: 1.6454 - val_loss: 1.7540\n",
            "Epoch 7/50\n",
            "825/825 [==============================] - 474s 574ms/step - loss: 1.6012 - val_loss: 1.7512\n",
            "Epoch 8/50\n",
            "825/825 [==============================] - 469s 568ms/step - loss: 1.5609 - val_loss: 1.7523\n",
            "Epoch 9/50\n",
            "825/825 [==============================] - 469s 568ms/step - loss: 1.5250 - val_loss: 1.7601\n",
            "Epoch 00009: early stopping\n"
          ],
          "name": "stdout"
        }
      ]
    },
    {
      "cell_type": "code",
      "metadata": {
        "trusted": true,
        "id": "Hh8wFubzWp9u"
      },
      "source": [
        "# model.save('saved_model/my_model') \n"
      ],
      "execution_count": null,
      "outputs": []
    },
    {
      "cell_type": "code",
      "metadata": {
        "trusted": true,
        "id": "VvbmoIxnWp9x"
      },
      "source": [
        "# !ls saved_model"
      ],
      "execution_count": null,
      "outputs": []
    },
    {
      "cell_type": "code",
      "metadata": {
        "trusted": true,
        "id": "er8ZjT-yWp90"
      },
      "source": [
        "# new_model = tf.keras.models.load_model('saved_model/my_model')\n",
        "\n",
        "# # Check its architecture\n",
        "# new_model.summary()"
      ],
      "execution_count": null,
      "outputs": []
    },
    {
      "cell_type": "code",
      "metadata": {
        "trusted": true,
        "id": "zLLBPCZGWp92"
      },
      "source": [
        ""
      ],
      "execution_count": null,
      "outputs": []
    },
    {
      "cell_type": "code",
      "metadata": {
        "trusted": true,
        "id": "9hksEmurWp94"
      },
      "source": [
        "# # Evaluate the restored model\n",
        "# loss, acc = new_model.evaluate([x_val,y_val[:,:-1]],y_val.reshape(y_val.shape[0],y_val.shape[1], 1)[:,1:],verbose=2)\n",
        "# print(acc)\n",
        "# print('Restored model, accuracy: {:5.2f}%'.format(100*acc))\n",
        "# print(new_model.predict([x_val,y_val[:,:-1]]).shape)"
      ],
      "execution_count": null,
      "outputs": []
    },
    {
      "cell_type": "code",
      "metadata": {
        "trusted": true,
        "id": "UsgE5PSdWp97",
        "colab": {
          "base_uri": "https://localhost:8080/",
          "height": 265
        },
        "outputId": "3b417b6f-00fb-4eee-821b-9ecc92e5eea0"
      },
      "source": [
        "from matplotlib import pyplot\n",
        "pyplot.plot(history.history['loss'], label='train')\n",
        "pyplot.plot(history.history['val_loss'], label='test')\n",
        "pyplot.legend()\n",
        "pyplot.show()"
      ],
      "execution_count": null,
      "outputs": [
        {
          "output_type": "display_data",
          "data": {
            "image/png": "[encoded data removed]",
            "text/plain": [
              "<Figure size 432x288 with 1 Axes>"
            ]
          },
          "metadata": {
            "tags": [],
            "needs_background": "light"
          }
        }
      ]
    },
    {
      "cell_type": "code",
      "metadata": {
        "trusted": true,
        "id": "odFgXjyhWp9-"
      },
      "source": [
        "reverse_target_word_index=y_tokenizer.index_word\n",
        "reverse_source_word_index=x_tokenizer.index_word\n",
        "target_word_index=y_tokenizer.word_index"
      ],
      "execution_count": null,
      "outputs": []
    },
    {
      "cell_type": "code",
      "metadata": {
        "trusted": true,
        "id": "IvmP5t0tWp-C"
      },
      "source": [
        "# Encode the input sequence to get the feature vector\n",
        "encoder_model = Model(inputs=encoder_inputs,outputs=[encoder_outputs, state_h, state_c])\n",
        "\n",
        "# Decoder setup\n",
        "# Below tensors will hold the states of the previous time step\n",
        "decoder_state_input_h = Input(shape=(latent_dim,))\n",
        "decoder_state_input_c = Input(shape=(latent_dim,))\n",
        "decoder_hidden_state_input = Input(shape=(max_text_len,latent_dim))\n",
        "\n",
        "# Get the embeddings of the decoder sequence\n",
        "dec_emb2= dec_emb_layer(decoder_inputs) \n",
        "# To predict the next word in the sequence, set the initial states to the states from the previous time step\n",
        "decoder_outputs2, state_h2, state_c2 = decoder_lstm(dec_emb2, initial_state=[decoder_state_input_h, decoder_state_input_c])\n",
        "\n",
        "#attention inference\n",
        "attn_out_inf, attn_states_inf = attn_layer([decoder_hidden_state_input, decoder_outputs2])\n",
        "decoder_inf_concat = Concatenate(axis=-1, name='concat')([decoder_outputs2, attn_out_inf])\n",
        "\n",
        "# A dense softmax layer to generate prob dist. over the target vocabulary\n",
        "decoder_outputs2 = decoder_dense(decoder_inf_concat) \n",
        "\n",
        "# Final decoder model\n",
        "decoder_model = Model(\n",
        "    [decoder_inputs] + [decoder_hidden_state_input,decoder_state_input_h, decoder_state_input_c],\n",
        "    [decoder_outputs2] + [state_h2, state_c2])"
      ],
      "execution_count": null,
      "outputs": []
    },
    {
      "cell_type": "code",
      "metadata": {
        "trusted": true,
        "id": "Hg6n3PZ7Wp-F"
      },
      "source": [
        "def decode_sequence(input_seq):\n",
        "    # Encode the input as state vectors.\n",
        "    e_out, e_h, e_c = encoder_model.predict(input_seq)\n",
        "    \n",
        "    # Generate empty target sequence of length 1.\n",
        "    target_seq = np.zeros((1,1))\n",
        "    \n",
        "    # Populate the first word of target sequence with the start word.\n",
        "    target_seq[0, 0] = target_word_index['sostok']\n",
        "\n",
        "    stop_condition = False\n",
        "    decoded_sentence = ''\n",
        "    while not stop_condition:\n",
        "      \n",
        "        output_tokens, h, c = decoder_model.predict([target_seq] + [e_out, e_h, e_c])\n",
        "\n",
        "        # Sample a token\n",
        "        sampled_token_index = np.argmax(output_tokens[0, -1, :])\n",
        "        sampled_token = reverse_target_word_index[sampled_token_index]\n",
        "        \n",
        "        if(sampled_token!='eostok'):\n",
        "            decoded_sentence += ' '+sampled_token\n",
        "\n",
        "        # Exit condition: either hit max length or find stop word.\n",
        "        if (sampled_token == 'eostok'  or len(decoded_sentence.split()) >= (max_summary_len-1)):\n",
        "            stop_condition = True\n",
        "\n",
        "        # Update the target sequence (of length 1).\n",
        "        target_seq = np.zeros((1,1))\n",
        "        target_seq[0, 0] = sampled_token_index\n",
        "\n",
        "        # Update internal states\n",
        "        e_h, e_c = h, c\n",
        "\n",
        "    return decoded_sentence"
      ],
      "execution_count": null,
      "outputs": []
    },
    {
      "cell_type": "code",
      "metadata": {
        "trusted": true,
        "id": "8yfuJoYFWp-J"
      },
      "source": [
        "def seq2summary(input_seq):\n",
        "    newString=''\n",
        "    for i in input_seq:\n",
        "        if((i!=0 and i!=target_word_index['sostok']) and i!=target_word_index['eostok']):\n",
        "            newString=newString+reverse_target_word_index[i]+' '\n",
        "    return newString\n",
        "\n",
        "def seq2text(input_seq):\n",
        "    newString=''\n",
        "    for i in input_seq:\n",
        "        if(i!=0):\n",
        "            newString=newString+reverse_source_word_index[i]+' '\n",
        "    return newString"
      ],
      "execution_count": null,
      "outputs": []
    },
    {
      "cell_type": "code",
      "metadata": {
        "trusted": true,
        "id": "lgrUrw92Wp-P"
      },
      "source": [
        "\n"
      ],
      "execution_count": null,
      "outputs": []
    },
    {
      "cell_type": "code",
      "metadata": {
        "trusted": true,
        "id": "V5O7SILDWp-T",
        "colab": {
          "base_uri": "https://localhost:8080/",
          "height": 1000
        },
        "outputId": "2919c400-16b6-4b00-8051-fdb2ce7214bb"
      },
      "source": [
        "import nltk\n",
        "OSummary = []\n",
        "PSummary = []\n",
        "for i in range(0,100):\n",
        "    print(\"Review:\",seq2text(x_tr[i]))\n",
        "    print(\"Original summary:\",seq2summary(y_tr[i]))\n",
        "    OSummary.append(seq2summary(y_tr[i]))\n",
        "    print(\"Predicted summary:\",decode_sequence(x_tr[i].reshape(1,max_text_len)))\n",
        "    PSummary.append(decode_sequence(x_tr[i].reshape(1,max_text_len)))\n",
        "#     BLEUscore = nltk.translate.bleu_score.sentence_bleu([seq2summary(y_tr[i])],decode_sequence(x_tr[i].reshape(1,max_text_len)))\n",
        "#     print(BLEUscore)\n",
        "    print(\"\\n\")"
      ],
      "execution_count": null,
      "outputs": [
        {
          "output_type": "stream",
          "text": [
            "Review: meaty texture vegetarian product looks like fresh ground beef mix water would recommend product also want try sausage variety \n",
            "Original summary: texture \n",
            "Predicted summary:  just ok\n",
            "\n",
            "\n",
            "Review: pleasant taste expected stars taste pure loose tea still tasty make sure let white tea steep longer minutes taste bitter \n",
            "Original summary: good stuff \n",
            "Predicted summary:  good but not great\n",
            "\n",
            "\n",
            "Review: pretty good sour looking order though shipping killing \n",
            "Original summary: sour balls \n",
            "Predicted summary:  sour and sour\n",
            "\n",
            "\n",
            "Review: great bargain amazons price least cheaper petco petsmart jack russell loves nightly greenie know brushing teeth turns devil every time try like think greenies reason white teeth doggie breath \n",
            "Original summary: fantastic price loves them \n",
            "Predicted summary:  greenies\n",
            "\n",
            "\n",
            "Review: got use stocking stuffers hit sweet vanilla flavor great delicious highest quality new fan \n",
            "Original summary: best sweetened almonds out there \n",
            "Predicted summary:  delicious\n",
            "\n",
            "\n",
            "Review: received refills opened box find stale purchased past pet store always firm still chewy ones received order dry cracked pieces date packaging intact definitely unusable gave stars experiences product purchased pet store okay \n",
            "Original summary: stale dried out \n",
            "Predicted summary:  stale\n",
            "\n",
            "\n",
            "Review: popcorn fresher fluffier remember enough peanuts add something extra plain caramel corn bags good size snack \n",
            "Original summary: better than the original boxes even \n",
            "Predicted summary:  great popcorn\n",
            "\n",
            "\n",
            "Review: delicious snack kids love white cheddar favorite went costco today hoping find originally purchased unfortunately one fly night items quickly planning purchasing thru amazon girls dying another bag best part relatively healthy snack two thumbs mom \n",
            "Original summary: delightfully delicious \n",
            "Predicted summary:  delicious\n",
            "\n",
            "\n",
            "Review: say oreos originals still best get often one two even possible \n",
            "Original summary: yay \n",
            "Predicted summary:  the best\n",
            "\n",
            "\n",
            "Review: maybe first experience stevia thought soda tasted horrible one cannot bring drink another one donating food pantry honestly feel bad people drink normally harsh reviews say product bad \n",
            "Original summary: think this tastes horrible \n",
            "Predicted summary:  awful\n",
            "\n",
            "\n",
            "Review: college age daughter bunch kids made day hit everyone loved liked kids used velveeta thought creamy everyday convenient need something easy handy fix tastes good \n",
            "Original summary: handy \n",
            "Predicted summary:  love it\n",
            "\n",
            "\n",
            "Review: born argentina probably enough said versatile wonderful spread ever ate filled crepes filled cakes brother ate spoon great stuff \n",
            "Original summary: de \n",
            "Predicted summary:  yummy\n",
            "\n",
            "\n",
            "Review: earl grey tea zing different brand husband likes zing sure worth trying want black tea real strong \n",
            "Original summary: has zing \n",
            "Predicted summary:  earl grey\n",
            "\n",
            "\n",
            "Review: wife slightly different coffee like mine darker like milder coffee one however right drink daily without cream sugar second pound bag wish found coffee sooner great \n",
            "Original summary: great mild medium flavored coffee \n",
            "Predicted summary:  great coffee\n",
            "\n",
            "\n",
            "Review: many years ago purchased lawry microwave pork rinds walmart publix gone stores got brilliant idea try amazon com actually ordered cases sons thrilled never want pork rinds tasted \n",
            "Original summary: hot pork rinds \n",
            "Predicted summary:  best pork rinds ever\n",
            "\n",
            "\n",
            "Review: great deal nice morning treat love flavor taste price well worth waking \n",
            "Original summary: fast fresh and delicious \n",
            "Predicted summary:  great value\n",
            "\n",
            "\n",
            "Review: trying find alternative breakfast upon larabars deciding apple pie flavor found one best tasting alternatives breakfast ever eaten bite massive amounts apple taste bars well spread nuts fruit taste downside bars kinda small eat \n",
            "Original summary: best tasting fruit and nut bar have ever eaten \n",
            "Predicted summary:  delicious\n",
            "\n",
            "\n",
            "Review: really like cranberry moist sweet taste healthy keep full grab one quick breakfast work well quick snack without guilt huge sugar spike love subscription list keep coming \n",
            "Original summary: sweet treat \n",
            "Predicted summary:  great snack\n",
            "\n",
            "\n",
            "Review: taste like cocoa weak matter cup size use good \n",
            "Original summary: not good \n",
            "Predicted summary:  not bad\n",
            "\n",
            "\n",
            "Review: bars really good kind like fruit roll ups pressed together thicker form wish available smaller quantities \n",
            "Original summary: yummy \n",
            "Predicted summary:  bars\n",
            "\n",
            "\n",
            "Review: product came quickly pleased good customer service daughter share save money milk goes bad like low fat organic \n",
            "Original summary: this is good \n",
            "Predicted summary:  excellent product\n",
            "\n",
            "\n",
            "Review: glad amazon carries almost always stock local grocery store taste like butter cookies much healthier love \n",
            "Original summary: my whole family loves these \n",
            "Predicted summary:  great taste\n",
            "\n",
            "\n",
            "Review: excellant transaction items came way faster expected packaged extremely well love zing zang order available state drink bloody mary \n",
            "Original summary: excellant \n",
            "Predicted summary:  awesome\n",
            "\n",
            "\n",
            "Review: know plastic bottle fact made something taste right zico ordered many different brands made concentrate tastes diluted plastic many brands recommend one zico \n",
            "Original summary: least favorite brand of coconut water \n",
            "Predicted summary:  not the best\n",
            "\n",
            "\n",
            "Review: easily able substitute himalayan salt regular table salt cooking baking flavoring food table special diet starting using himalayan salt healing benefits avoiding spicy food one condiment could enjoy \n",
            "Original summary: pure himalayan salt the healthy salt \n",
            "Predicted summary:  great salt\n",
            "\n",
            "\n",
            "Review: love garlic spray much ordered grow garlic even bother juicing anymore product cloves every bottle thats lot yummy garlic \n",
            "Original summary: garlic juice \n",
            "Predicted summary:  yummy\n",
            "\n",
            "\n",
            "Review: think excellent great source protien perfect snack mini bags inside hold six pieces grab one \n",
            "Original summary: excellent \n",
            "Predicted summary:  great snack\n",
            "\n",
            "\n",
            "Review: looked forward delicious hot cocoa disappointed flavor awful aftertaste like taste get drinking bad diet soda also kind weak even smallest cup setting \n",
            "Original summary: tastes like diet product \n",
            "Predicted summary:  awful\n",
            "\n",
            "\n",
            "Review: disappointed pancakes raise followed instructions exactly pancakes turned thin lot blueberries tasted good \n",
            "Original summary: blueberry pancake mix \n",
            "Predicted summary:  great product\n",
            "\n",
            "\n",
            "Review: recieve item said suppose variety pack \n",
            "Original summary: not variety pack \n",
            "Predicted summary:  not what expected\n",
            "\n",
            "\n",
            "Review: bought bowl pop corn along popcorn put two bowl set microwave popcorn needed popping pop fact almost twice much time results great today get seasoning bought look forward using snack watching \n",
            "Original summary: great less popcorn \n",
            "Predicted summary:  great popcorn\n",
            "\n",
            "\n",
            "Review: sent gift basket father law hawaii delivered pretty fast loved see person mother law explained said well packed chest adorable products chest good obviously made day glad find item right purchase something else \n",
            "Original summary: it was great gift basket \n",
            "Predicted summary:  great gift\n",
            "\n",
            "\n",
            "Review: great way buy cereal way help mother lives fixed low income buy food shipped directly home food get cold colorado weather bad get grocery store buy groceries hope amazon continues work companies expand groceries \n",
            "Original summary: great way to help people \n",
            "Predicted summary:  great product\n",
            "\n",
            "\n",
            "Review: best reduced fat creamy peanut butter tasted whole family loves case great food \n",
            "Original summary: great reduced fat peanut butter \n",
            "Predicted summary:  peanut butter\n",
            "\n",
            "\n",
            "Review: since love strawberries thought one would perfect well wrong basically tastes like bubbly fruit punch exactly strawberry kiwi looking ingredients list surprise mixture fruits kiwi strawberry bottom list recommend cherry switch drink one three liked \n",
            "Original summary: basically tastes like fruit punch \n",
            "Predicted summary:  delicious\n",
            "\n",
            "\n",
            "Review: make lot baby food make meat baby food buying different purees tried chick chick fussy month old loved instantly know flavor texture gobbles worth price pleased getting high quality protein meal puree chicken \n",
            "Original summary: chick chick \n",
            "Predicted summary:  great food\n",
            "\n",
            "\n",
            "Review: purchased favorite grandson difficult find glad amazon offers able get large selection packages flavors rich flavor little high calorie good issue \n",
            "Original summary: white chocolate mix \n",
            "Predicted summary:  yummy\n",
            "\n",
            "\n",
            "Review: folger best coffee also pretty good deal like size glad signed \n",
            "Original summary: good deal \n",
            "Predicted summary:  great coffee\n",
            "\n",
            "\n",
            "Review: bar exceptional fiber good nuts look great taste gluten free bar also must gluten free one product try tried \n",
            "Original summary: wonderful texture and taste \n",
            "Predicted summary:  great bars\n",
            "\n",
            "\n",
            "Review: thought salt free unfortunately fluoridated avoid paying extra also noted website \n",
            "Original summary: salt \n",
            "Predicted summary:  salt\n",
            "\n",
            "\n",
            "Review: two boys love happy munchies cheddar cheese carrot request snack watch show love low sodium includes per serving tastes great also kosher certified plus well love put baggies keep purse emergency snacks healthy crunchy must buy \n",
            "Original summary: yummy \n",
            "Predicted summary:  love these\n",
            "\n",
            "\n",
            "Review: purchase boyfriend absolutely loves mention crazy bulk supply hand lol amazon rocks \n",
            "Original summary: loves em \n",
            "Predicted summary:  my loves them\n",
            "\n",
            "\n",
            "Review: dog treats absolute favorite shih tzu coco looks big brown eyes pouring guilt cupboard get peanut butter buddy biscuits deserves best addition good girl treats use treats hide medication never even knows taken medication great job buddy biscuits \n",
            "Original summary: coco favorite \n",
            "Predicted summary:  best treats ever\n",
            "\n",
            "\n",
            "Review: drink everyday happy locate source could purchase large bag bulk tea good everyday tea bulk tea better aroma tea bags acidic bite rather smooth japanese tea without harsh bitterness typical chinese green tea \n",
            "Original summary: my favorite green tea \n",
            "Predicted summary:  great tea\n",
            "\n",
            "\n",
            "Review: order filled almost immediately arrived four days estimated time since spice using recipe able make recipe lot sooner expected thanks great customer service \n",
            "Original summary: delivery \n",
            "Predicted summary:  great product\n",
            "\n",
            "\n",
            "Review: little eater picky spinach mango pear favorite food food tasty although little bit expensive amazon grocery store big boxes tend one little bit cheaper thankfully happy foods becoming increasingly easy find good products tasty foods well happy baby \n",
            "Original summary: my baby favorite \n",
            "Predicted summary:  great food\n",
            "\n",
            "\n",
            "Review: always used stick ton bag whenever would candy shop mall amazing haribo version good combing interesting taste interesting texture well flavour fruity tropical way pretty chewy soft combing smooth chewy texture top slightly softer bottom always like \n",
            "Original summary: my favourite since was little \n",
            "Predicted summary:  these are awesome\n",
            "\n",
            "\n",
            "Review: cookies tiny broken pieces useless upon complaint second mailing arrived several weeks later cookies crumbs cookies packed box pitiful single air bubble gave feedback expected effort improve packing packaging useless cookies enjoyed past disappointment big waste money \n",
            "Original summary: cookies were in \n",
            "Predicted summary:  cookies are in\n",
            "\n",
            "\n",
            "Review: best tasting tea found least also added helping digestive system work properly \n",
            "Original summary: best tea \n",
            "Predicted summary:  best tea ever\n",
            "\n",
            "\n",
            "Review: cups great green love less plastic get grounds cup said coffee pretty good hard find really strong cup coffee burnt harsh tasting one pretty close smooth wish amazon would offer kcups auto delivery \n",
            "Original summary: love the packaging could be coffee \n",
            "Predicted summary:  great coffee\n",
            "\n",
            "\n",
            "Review: surprised good tastes previously maple syrup tasted much stronger flavor syrup strong usual grocery store pancake syrup except much finer better flavor could eat stuff every day delicious \n",
            "Original summary: delicious maple syrup \n",
            "Predicted summary:  delicious\n",
            "\n",
            "\n",
            "Review: bakery main cranberry maple nut granola bars best granola bars make absolutely delicious perfect amount nuts dried fruit seeds \n",
            "Original summary: best granola bar \n",
            "Predicted summary:  yummy\n",
            "\n",
            "\n",
            "Review: purchased mom gift somehow tea bags seemed much smaller head got packages needless say mother amused however like reviewers mentioned really smooth tea mom said astringent aftertaste bite sure purchase another box year done tea bags \n",
            "Original summary: holy cow that is lot of tea \n",
            "Predicted summary:  good tea but\n",
            "\n",
            "\n",
            "Review: pack welch jelly assortment ordered church food pantry product arrived quickly good condition great value church happy \n",
            "Original summary: jelly assortment \n",
            "Predicted summary:  great product\n",
            "\n",
            "\n",
            "Review: directions german good mix great served rice disappointed enjoy \n",
            "Original summary: yummy meal \n",
            "Predicted summary:  good for you\n",
            "\n",
            "\n",
            "Review: expecting hard tasteless healthy cookies soft little chewy yummy tasty \n",
            "Original summary: tastes surprisingly good \n",
            "Predicted summary:  yummy\n",
            "\n",
            "\n",
            "Review: far one best alternatives canned tomato sauces local supermarket stock health conscious want acid tomato sauce want \n",
            "Original summary: one of the best around \n",
            "Predicted summary:  the best\n",
            "\n",
            "\n",
            "Review: super lucky recently receive full sized sample bar try influenster loved weight watcher checked points found bar points makes ideal light breakfast excellent anytime snack quaker soft baked cereal bar banana nut bread ounce packages \n",
            "Original summary: quaker soft baked banana nut bar \n",
            "Predicted summary:  great snack bars\n",
            "\n",
            "\n",
            "Review: great value like package size vinegary enough order brand great chips otherwise \n",
            "Original summary: salt and vinegar chips \n",
            "Predicted summary:  great deal\n",
            "\n",
            "\n",
            "Review: thank much offering one favorite products cheap package great service buy \n",
            "Original summary: great \n",
            "Predicted summary:  best cup\n",
            "\n",
            "\n",
            "Review: pasta far favorite brand tried others one delicious taste regular pasta anymore gotten whole family eat love highly recommend \n",
            "Original summary: best rice pasta \n",
            "Predicted summary:  best pasta\n",
            "\n",
            "\n",
            "Review: time make year thought would buy never buy cookies would buy son loved thing dip white chocolate thanks \n",
            "Original summary: great cookies \n",
            "Predicted summary:  great cookies\n",
            "\n",
            "\n",
            "Review: sent parents xmas lovely basket big fruit plentiful fresh entire presentation wonderful going send another family \n",
            "Original summary: beautiful and fresh \n",
            "Predicted summary:  great gift\n",
            "\n",
            "\n",
            "Review: sprinkles rare color find love looks beautiful cakes \n",
            "Original summary: sprinkles \n",
            "Predicted summary:  great\n",
            "\n",
            "\n",
            "Review: tasted several brands jasmine green tea found favorite \n",
            "Original summary: delicious \n",
            "Predicted summary:  best green tea\n",
            "\n",
            "\n",
            "Review: right amount spice tangy bleu cheese flavor plus lovely crinkle cut crunch grateful bags larger since find impossible stop eating finished entire bag far bought buffalo bleu salt vinegar flavors excellent quality chips \n",
            "Original summary: delicious good thing the bags are not any bigger \n",
            "Predicted summary:  great flavor\n",
            "\n",
            "\n",
            "Review: well packaged alot beans price using make home made vanilla extract flavor buy \n",
            "Original summary: beans \n",
            "Predicted summary:  beans\n",
            "\n",
            "\n",
            "Review: idea exactly much pound flowers would great quality plentiful arrived airtight bag sure stay fresh months use mint make \n",
            "Original summary: excellent quality \n",
            "Predicted summary:  great product\n",
            "\n",
            "\n",
            "Review: gevalia favorite coffee right strength tasty smooth pouches wonderful absolutely perfect size pot coffee make measuring mess ups spilling \n",
            "Original summary: wonderful smooth coffee pouch is perfect size \n",
            "Predicted summary:  great coffee\n",
            "\n",
            "\n",
            "Review: purchased month old lather nicely results clear dry coat became full soft could clearly see coat bright white say biggest surprise soft coat happy product smelled light nice lasted days \n",
            "Original summary: best shampoo for my \n",
            "Predicted summary:  not my cup of tea\n",
            "\n",
            "\n",
            "Review: best treats available dogs bonkers buy tub month little love good value online \n",
            "Original summary: best ever \n",
            "Predicted summary:  my dogs love them\n",
            "\n",
            "\n",
            "Review: use training kitty whether toilet training trying get speak work great minor caveat crumble easily think nature tuna flakes general box lasts feel better treating something healthier stuff \n",
            "Original summary: cat loves \n",
            "Predicted summary:  great for puppy\n",
            "\n",
            "\n",
            "Review: firm believer benefits herbals tea pleasant taste easy prepare tea gives ability cleanse inside \n",
            "Original summary: healthy start \n",
            "Predicted summary:  great tea\n",
            "\n",
            "\n",
            "Review: unique flavor decaf coffee wife love great dinner settling read \n",
            "Original summary: white \n",
            "Predicted summary:  decaf decaf\n",
            "\n",
            "\n",
            "Review: love ships alaska hard time finding plants trees would actually ship bush alaska would totally recommend teachers living want little tree home \n",
            "Original summary: to \n",
            "Predicted summary:  excellent\n",
            "\n",
            "\n",
            "Review: sure guy like much love fact might one favorite foods around tried true rarely cooks wrong always good warm belly soul flavor good tried brands bit maruchan makes best ramen noodles time \n",
            "Original summary: the best around \n",
            "Predicted summary:  best noodles ever\n",
            "\n",
            "\n",
            "Review: using carbquik two years absolutely love found recipe brownies called brownies moist delicious highly recommend product watch carbs want make low carbs foods \n",
            "Original summary: couldn live without it \n",
            "Predicted summary:  great for the price\n",
            "\n",
            "\n",
            "Review: product excellent also nut snack wife celiac disease allergic wheat enjoy however eat anything tastiest unique nut snack ever tried virginia \n",
            "Original summary: they re so good they \n",
            "Predicted summary:  good snack\n",
            "\n",
            "\n",
            "Review: happy product best coconut oil ever good well use cooking free tastes good \n",
            "Original summary: product \n",
            "Predicted summary:  great product\n",
            "\n",
            "\n",
            "Review: tried two low acid coffees others past eventually still upset stomach couple cups still could drink two three days row one different able drink two cups two days row without stomach upset wonderful taste far coffee goes would definitely buy \n",
            "Original summary: tastes fantastic \n",
            "Predicted summary:  great coffee\n",
            "\n",
            "\n",
            "Review: spicy ridiculously great flavor goes particularly well quesadillas notoriously hard get united states cannot pick grocery store looking unique flavor spice simple mexican food would highly recommend almost every trip make mexico come back least one bottle salsa \n",
            "Original summary: one of my favorite \n",
            "Predicted summary:  great spicy spicy\n",
            "\n",
            "\n",
            "Review: eaten oats years always enjoying texture flavor imagine dismay discover two dead moths several small live worms lots opened latest package august expiration date even fact company never responded letter expressing concerns \n",
            "Original summary: tasty but \n",
            "Predicted summary:  disappointed\n",
            "\n",
            "\n",
            "Review: means granola connoisseur stuff pretty darn tasty product made natural ingredients honestly lot chocolate right amount dark chocolate bitter sweet overall nice blend tastes delicious maybe little pricey considering made real ingredients would say taste value recommended \n",
            "Original summary: tasty \n",
            "Predicted summary:  pretty good\n",
            "\n",
            "\n",
            "Review: tea great oddly one sealed tea bag boxes contained teabags since boxes correct hardly seemed worth complaining returning feeling \n",
            "Original summary: great tea \n",
            "Predicted summary:  great tea\n",
            "\n",
            "\n",
            "Review: dill pickle pickle good flavor great crunch adults though one younger kids tried pronounced flavor disgusting \n",
            "Original summary: good pickle with great crunch \n",
            "Predicted summary:  yuck\n",
            "\n",
            "\n",
            "Review: product appears bottle tiny looks like standard bottle picture fall picture without paying attention fluid size end paying dollars bottle normally sells dollars legal deceptive boycott \n",
            "Original summary: beware not oz jug \n",
            "Predicted summary:  not as advertised\n",
            "\n",
            "\n",
            "Review: tried dry cat foods animal protein first ingredients first one actually like mix half half supermarket brand cannot afford feed good stuff straight used eat supermarket brand leave healthy food dish brand clean plate \n",
            "Original summary: high quality product and my cats actually like it \n",
            "Predicted summary:  great food\n",
            "\n",
            "\n",
            "Review: many times kids spill container applesauce struggling remove lid days problem pouches hide husband eating non stop \n",
            "Original summary: no more \n",
            "Predicted summary:  great product\n",
            "\n",
            "\n",
            "Review: great tasty husband love great treat taste sugar free \n",
            "Original summary: yummy \n",
            "Predicted summary:  great taste\n",
            "\n",
            "\n",
            "Review: good hydration keeps fridge long time cold past week really helps keep electrolytes \n",
            "Original summary: its what it said \n",
            "Predicted summary:  great product\n",
            "\n",
            "\n",
            "Review: costco fantastic paid less big jar cannot believe places charging good good unless burn \n",
            "Original summary: great candy rip off price \n",
            "Predicted summary:  price\n",
            "\n",
            "\n",
            "Review: love product price high got festival food half price \n",
            "Original summary: great product to high priced here \n",
            "Predicted summary:  great product\n",
            "\n",
            "\n",
            "Review: actually thought buying van houtte vanilla coffee cups usually purchase overlooked description light certainly barely taste vanilla good coffee looking real vanilla flavor van houtte cups darker yellow package \n",
            "Original summary: definitely light \n",
            "Predicted summary:  not the best\n",
            "\n",
            "\n",
            "Review: love mincemeat tarts mom made christmas bought looking little got good good mom good scotch adds nice kick \n",
            "Original summary: yummy better when warm \n",
            "Predicted summary:  great taste\n",
            "\n",
            "\n",
            "Review: coach oats steel cut instead rolled means cut steel instead rolled flat process helps maintain benefits eating oatmeal eat oatmeal days per week however real benefit coach oats wife likes starting eat oatmeal \n",
            "Original summary: oatmeal \n",
            "Predicted summary:  oatmeal oatmeal oatmeal\n",
            "\n",
            "\n",
            "Review: ordered past extremely disappointed unlike truffles know hard like huge seed truffle aroma threw contents never order \n",
            "Original summary: extreme disappointment \n",
            "Predicted summary:  bad\n",
            "\n",
            "\n",
            "Review: taste really good fan chocolate raspberry try raspberry sweet glossy even taste seed think adds chocolate good cookie cake like plus lower fat would think two little chocolate raspberry cookies would wish cookies pretty one box though \n",
            "Original summary: great little cookie \n",
            "Predicted summary:  chocolate chip cookies\n",
            "\n",
            "\n",
            "Review: one best coffees ever smooth taste perfect roast well worth fact pricey coffee coffee lover illy \n",
            "Original summary: love this coffee \n",
            "Predicted summary:  coffee\n",
            "\n",
            "\n",
            "Review: almonds tasted awful would returned tried get replacement could find option tasted like past fresh date maybe squirrels eat \n",
            "Original summary: past \n",
            "Predicted summary:  yuck\n",
            "\n",
            "\n",
            "Review: bought pocky vacation enjoyed living asian stores shop internet guys family seem like better ladies reason bit insanity search pocky commercials youtube \n",
            "Original summary: good stuff \n",
            "Predicted summary:  good stuff\n",
            "\n",
            "\n"
          ],
          "name": "stdout"
        }
      ]
    },
    {
      "cell_type": "code",
      "metadata": {
        "id": "tV_Ov-86viXi"
      },
      "source": [
        ""
      ],
      "execution_count": null,
      "outputs": []
    },
    {
      "cell_type": "code",
      "metadata": {
        "id": "HG5CDhIUqpDa",
        "colab": {
          "base_uri": "https://localhost:8080/",
          "height": 52
        },
        "outputId": "bf6ca28d-d3c3-4378-8059-d5ce9c2428af"
      },
      "source": [
        "! pip install rouge\n",
        "from rouge import Rouge\n",
        "score = Rouge()"
      ],
      "execution_count": null,
      "outputs": [
        {
          "output_type": "stream",
          "text": [
            "Requirement already satisfied: rouge in /usr/local/lib/python3.6/dist-packages (1.0.0)\n",
            "Requirement already satisfied: six in /usr/local/lib/python3.6/dist-packages (from rouge) (1.15.0)\n"
          ],
          "name": "stdout"
        }
      ]
    },
    {
      "cell_type": "code",
      "metadata": {
        "id": "PfB3MhhuqXQ_",
        "colab": {
          "base_uri": "https://localhost:8080/",
          "height": 1000
        },
        "outputId": "487a1ab8-7175-4ea4-fcb7-2785813fe600"
      },
      "source": [
        "while ' ' in PSummary:\n",
        "    PSummary.remove(' ')\n",
        "    \n",
        "PSummary\n"
      ],
      "execution_count": null,
      "outputs": [
        {
          "output_type": "execute_result",
          "data": {
            "text/plain": [
              "[' just ok',\n",
              " ' good but not great',\n",
              " ' sour and sour',\n",
              " ' greenies',\n",
              " ' delicious',\n",
              " ' stale',\n",
              " ' great popcorn',\n",
              " ' delicious',\n",
              " ' the best',\n",
              " ' awful',\n",
              " ' love it',\n",
              " ' yummy',\n",
              " ' earl grey',\n",
              " ' great coffee',\n",
              " ' best pork rinds ever',\n",
              " ' great value',\n",
              " ' delicious',\n",
              " ' great snack',\n",
              " ' not bad',\n",
              " ' bars',\n",
              " ' excellent product',\n",
              " ' great taste',\n",
              " ' awesome',\n",
              " ' not the best',\n",
              " ' great salt',\n",
              " ' yummy',\n",
              " ' great snack',\n",
              " ' awful',\n",
              " ' great product',\n",
              " ' not what expected',\n",
              " ' great popcorn',\n",
              " ' great gift',\n",
              " ' great product',\n",
              " ' peanut butter',\n",
              " ' delicious',\n",
              " ' great food',\n",
              " ' yummy',\n",
              " ' great coffee',\n",
              " ' great bars',\n",
              " ' salt',\n",
              " ' love these',\n",
              " ' my loves them',\n",
              " ' best treats ever',\n",
              " ' great tea',\n",
              " ' great product',\n",
              " ' great food',\n",
              " ' these are awesome',\n",
              " ' cookies are in',\n",
              " ' best tea ever',\n",
              " ' great coffee',\n",
              " ' delicious',\n",
              " ' yummy',\n",
              " ' good tea but',\n",
              " ' great product',\n",
              " ' good for you',\n",
              " ' yummy',\n",
              " ' the best',\n",
              " ' great snack bars',\n",
              " ' great deal',\n",
              " ' best cup',\n",
              " ' best pasta',\n",
              " ' great cookies',\n",
              " ' great gift',\n",
              " ' great',\n",
              " ' best green tea',\n",
              " ' great flavor',\n",
              " ' beans',\n",
              " ' great product',\n",
              " ' great coffee',\n",
              " ' not my cup of tea',\n",
              " ' my dogs love them',\n",
              " ' great for puppy',\n",
              " ' great tea',\n",
              " ' decaf decaf',\n",
              " ' excellent',\n",
              " ' best noodles ever',\n",
              " ' great for the price',\n",
              " ' good snack',\n",
              " ' great product',\n",
              " ' great coffee',\n",
              " ' great spicy spicy',\n",
              " ' disappointed',\n",
              " ' pretty good',\n",
              " ' great tea',\n",
              " ' yuck',\n",
              " ' not as advertised',\n",
              " ' great food',\n",
              " ' great product',\n",
              " ' great taste',\n",
              " ' great product',\n",
              " ' price',\n",
              " ' great product',\n",
              " ' not the best',\n",
              " ' great taste',\n",
              " ' oatmeal oatmeal oatmeal',\n",
              " ' bad',\n",
              " ' chocolate chip cookies',\n",
              " ' coffee',\n",
              " ' yuck',\n",
              " ' good stuff']"
            ]
          },
          "metadata": {
            "tags": []
          },
          "execution_count": 190
        }
      ]
    },
    {
      "cell_type": "code",
      "metadata": {
        "id": "8dt_BkaQq3U2",
        "colab": {
          "base_uri": "https://localhost:8080/",
          "height": 1000
        },
        "outputId": "58aac8df-e402-45d5-a23a-20b5920a2e8b"
      },
      "source": [
        "while '' in OSummary:\n",
        "    OSummary.remove('')\n",
        "\n",
        "OSummary"
      ],
      "execution_count": null,
      "outputs": [
        {
          "output_type": "execute_result",
          "data": {
            "text/plain": [
              "['texture ',\n",
              " 'good stuff ',\n",
              " 'sour balls ',\n",
              " 'fantastic price loves them ',\n",
              " 'best sweetened almonds out there ',\n",
              " 'stale dried out ',\n",
              " 'better than the original boxes even ',\n",
              " 'delightfully delicious ',\n",
              " 'yay ',\n",
              " 'think this tastes horrible ',\n",
              " 'handy ',\n",
              " 'de ',\n",
              " 'has zing ',\n",
              " 'great mild medium flavored coffee ',\n",
              " 'hot pork rinds ',\n",
              " 'fast fresh and delicious ',\n",
              " 'best tasting fruit and nut bar have ever eaten ',\n",
              " 'sweet treat ',\n",
              " 'not good ',\n",
              " 'yummy ',\n",
              " 'this is good ',\n",
              " 'my whole family loves these ',\n",
              " 'excellant ',\n",
              " 'least favorite brand of coconut water ',\n",
              " 'pure himalayan salt the healthy salt ',\n",
              " 'garlic juice ',\n",
              " 'excellent ',\n",
              " 'tastes like diet product ',\n",
              " 'blueberry pancake mix ',\n",
              " 'not variety pack ',\n",
              " 'great less popcorn ',\n",
              " 'it was great gift basket ',\n",
              " 'great way to help people ',\n",
              " 'great reduced fat peanut butter ',\n",
              " 'basically tastes like fruit punch ',\n",
              " 'chick chick ',\n",
              " 'white chocolate mix ',\n",
              " 'good deal ',\n",
              " 'wonderful texture and taste ',\n",
              " 'salt ',\n",
              " 'yummy ',\n",
              " 'loves em ',\n",
              " 'coco favorite ',\n",
              " 'my favorite green tea ',\n",
              " 'delivery ',\n",
              " 'my baby favorite ',\n",
              " 'my favourite since was little ',\n",
              " 'cookies were in ',\n",
              " 'best tea ',\n",
              " 'love the packaging could be coffee ',\n",
              " 'delicious maple syrup ',\n",
              " 'best granola bar ',\n",
              " 'holy cow that is lot of tea ',\n",
              " 'jelly assortment ',\n",
              " 'yummy meal ',\n",
              " 'tastes surprisingly good ',\n",
              " 'one of the best around ',\n",
              " 'quaker soft baked banana nut bar ',\n",
              " 'salt and vinegar chips ',\n",
              " 'great ',\n",
              " 'best rice pasta ',\n",
              " 'great cookies ',\n",
              " 'beautiful and fresh ',\n",
              " 'sprinkles ',\n",
              " 'delicious ',\n",
              " 'delicious good thing the bags are not any bigger ',\n",
              " 'beans ',\n",
              " 'excellent quality ',\n",
              " 'wonderful smooth coffee pouch is perfect size ',\n",
              " 'best shampoo for my ',\n",
              " 'best ever ',\n",
              " 'cat loves ',\n",
              " 'healthy start ',\n",
              " 'white ',\n",
              " 'to ',\n",
              " 'the best around ',\n",
              " 'couldn live without it ',\n",
              " 'they re so good they ',\n",
              " 'product ',\n",
              " 'tastes fantastic ',\n",
              " 'one of my favorite ',\n",
              " 'tasty but ',\n",
              " 'tasty ',\n",
              " 'great tea ',\n",
              " 'good pickle with great crunch ',\n",
              " 'beware not oz jug ',\n",
              " 'high quality product and my cats actually like it ',\n",
              " 'no more ',\n",
              " 'yummy ',\n",
              " 'its what it said ',\n",
              " 'great candy rip off price ',\n",
              " 'great product to high priced here ',\n",
              " 'definitely light ',\n",
              " 'yummy better when warm ',\n",
              " 'oatmeal ',\n",
              " 'extreme disappointment ',\n",
              " 'great little cookie ',\n",
              " 'love this coffee ',\n",
              " 'past ',\n",
              " 'good stuff ']"
            ]
          },
          "metadata": {
            "tags": []
          },
          "execution_count": 191
        }
      ]
    },
    {
      "cell_type": "code",
      "metadata": {
        "id": "tcMQ6av2q84u",
        "colab": {
          "base_uri": "https://localhost:8080/",
          "height": 139
        },
        "outputId": "b5c9c2c5-c426-403f-dbcb-983d0763ca34"
      },
      "source": [
        "score.get_scores(OSummary,PSummary,avg = True)"
      ],
      "execution_count": null,
      "outputs": [
        {
          "output_type": "execute_result",
          "data": {
            "text/plain": [
              "{'rouge-1': {'f': 0.19725396662710498,\n",
              "  'p': 0.18735714285714283,\n",
              "  'r': 0.2561666666666666},\n",
              " 'rouge-2': {'f': 0.05599999963377778, 'p': 0.0545, 'r': 0.07833333333333332},\n",
              " 'rouge-l': {'f': 0.20408729993899388,\n",
              "  'p': 0.18819047619047616,\n",
              "  'r': 0.26449999999999996}}"
            ]
          },
          "metadata": {
            "tags": []
          },
          "execution_count": 192
        }
      ]
    },
    {
      "cell_type": "code",
      "metadata": {
        "id": "Xf8OjdR2rCZR",
        "colab": {
          "base_uri": "https://localhost:8080/",
          "height": 35
        },
        "outputId": "3f985375-de63-4aa7-c946-c3f33341e3af"
      },
      "source": [
        "avg=[]\n",
        "a=0\n",
        "for i in range(0,94):\n",
        "    BLEUscore = nltk.translate.bleu_score.sentence_bleu([OSummary[i]],PSummary[i])\n",
        "    avg.append(BLEUscore)\n",
        "\n",
        "for i in avg:\n",
        "    a=a+i\n",
        "\n",
        "\n",
        "print(a/95 *100)"
      ],
      "execution_count": null,
      "outputs": [
        {
          "output_type": "stream",
          "text": [
            "34.780041942229076\n"
          ],
          "name": "stdout"
        }
      ]
    }
  ]
}