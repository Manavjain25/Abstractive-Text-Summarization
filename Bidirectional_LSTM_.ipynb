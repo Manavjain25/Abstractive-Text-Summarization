{
  "nbformat": 4,
  "nbformat_minor": 0,
  "metadata": {
    "kernelspec": {
      "name": "python3",
      "display_name": "Python 3",
      "language": "python"
    },
    "language_info": {
      "name": "python",
      "version": "3.7.6",
      "mimetype": "text/x-python",
      "codemirror_mode": {
        "name": "ipython",
        "version": 3
      },
      "pygments_lexer": "ipython3",
      "nbconvert_exporter": "python",
      "file_extension": ".py"
    },
    "colab": {
      "name": "Bidirectional-LSTM.ipynb",
      "provenance": [],
      "collapsed_sections": []
    },
    "accelerator": "GPU"
  },
  "cells": [
    {
      "cell_type": "code",
      "metadata": {
        "id": "Tp4bAEXYJiyI",
        "colab": {
          "base_uri": "https://localhost:8080/",
          "height": 35
        },
        "outputId": "dabe5a2c-deca-43d5-e7ad-7270c10f93c1"
      },
      "source": [
        "from google.colab import drive\n",
        "drive.mount('/content/gdrive')"
      ],
      "execution_count": null,
      "outputs": [
        {
          "output_type": "stream",
          "text": [
            "Mounted at /content/gdrive\n"
          ],
          "name": "stdout"
        }
      ]
    },
    {
      "cell_type": "code",
      "metadata": {
        "id": "TJ2ZdtJSJ388"
      },
      "source": [
        "import os\n",
        "os.environ['KAGGLE_CONFIG_DIR'] = \"/content/gdrive/My Drive/Kaggle\"\n",
        "# /content/gdrive/My Drive/Kaggle is the path where kaggle.json is present in the Google Drive"
      ],
      "execution_count": null,
      "outputs": []
    },
    {
      "cell_type": "code",
      "metadata": {
        "id": "8lOg8604J9Lh",
        "colab": {
          "base_uri": "https://localhost:8080/",
          "height": 70
        },
        "outputId": "37da72bb-f8bd-4e2c-937e-5ba8fef729c5"
      },
      "source": [
        "!kaggle datasets download -d snap/amazon-fine-food-reviews"
      ],
      "execution_count": null,
      "outputs": [
        {
          "output_type": "stream",
          "text": [
            "Downloading amazon-fine-food-reviews.zip to /content\n",
            " 96% 233M/242M [00:04<00:00, 60.8MB/s]\n",
            "100% 242M/242M [00:04<00:00, 61.5MB/s]\n"
          ],
          "name": "stdout"
        }
      ]
    },
    {
      "cell_type": "code",
      "metadata": {
        "id": "Az0WEkDOKE3v",
        "colab": {
          "base_uri": "https://localhost:8080/",
          "height": 35
        },
        "outputId": "883e08ab-b577-4f4e-b789-ff8843d8f6e0"
      },
      "source": [
        "!ls"
      ],
      "execution_count": null,
      "outputs": [
        {
          "output_type": "stream",
          "text": [
            "amazon-fine-food-reviews.zip  gdrive  sample_data\n"
          ],
          "name": "stdout"
        }
      ]
    },
    {
      "cell_type": "code",
      "metadata": {
        "id": "ltqdzN_SKGX7",
        "colab": {
          "base_uri": "https://localhost:8080/",
          "height": 88
        },
        "outputId": "67efe8f2-ffa9-4cbd-8d48-ddc2de72c501"
      },
      "source": [
        "#unzipping the zip files and deleting the zip files\n",
        "!unzip \\*.zip  && rm *.zip"
      ],
      "execution_count": null,
      "outputs": [
        {
          "output_type": "stream",
          "text": [
            "Archive:  amazon-fine-food-reviews.zip\n",
            "  inflating: Reviews.csv             \n",
            "  inflating: database.sqlite         \n",
            "  inflating: hashes.txt              \n"
          ],
          "name": "stdout"
        }
      ]
    },
    {
      "cell_type": "code",
      "metadata": {
        "id": "RDW6lNf9qtHb",
        "colab": {
          "base_uri": "https://localhost:8080/",
          "height": 70
        },
        "outputId": "189fe69d-1aec-47bd-fa07-44cd5a61b7e3"
      },
      "source": [
        "!kaggle datasets download -d danielwillgeorge/glove6b100dtxt"
      ],
      "execution_count": null,
      "outputs": [
        {
          "output_type": "stream",
          "text": [
            "Downloading glove6b100dtxt.zip to /content\n",
            " 92% 121M/131M [00:01<00:00, 63.5MB/s] \n",
            "100% 131M/131M [00:01<00:00, 69.6MB/s]\n"
          ],
          "name": "stdout"
        }
      ]
    },
    {
      "cell_type": "code",
      "metadata": {
        "id": "SLPo45Uoqz_M",
        "colab": {
          "base_uri": "https://localhost:8080/",
          "height": 52
        },
        "outputId": "36d39c42-b90d-4980-f4da-60b501703898"
      },
      "source": [
        "!unzip \\*.zip  && rm *.zip"
      ],
      "execution_count": null,
      "outputs": [
        {
          "output_type": "stream",
          "text": [
            "Archive:  glove6b100dtxt.zip\n",
            "  inflating: glove.6B.100d.txt       \n"
          ],
          "name": "stdout"
        }
      ]
    },
    {
      "cell_type": "code",
      "metadata": {
        "id": "I2QnNcs6JnbD"
      },
      "source": [
        "word2Vec = {}\n",
        "with open('glove.6B.100d.txt') as f:\n",
        "  for line in f:\n",
        "    line = line.rstrip().split(' ')\n",
        "    word = line[0]\n",
        "    embedding_vector = line[1:]\n",
        "    word2Vec[word] = embedding_vector"
      ],
      "execution_count": null,
      "outputs": []
    },
    {
      "cell_type": "code",
      "metadata": {
        "id": "6KYlWJNjGeTO",
        "colab": {
          "base_uri": "https://localhost:8080/",
          "height": 35
        },
        "outputId": "4c5a20b1-4da5-4c4b-dafb-e678451e7ac3"
      },
      "source": [
        ""
      ],
      "execution_count": null,
      "outputs": [
        {
          "output_type": "execute_result",
          "data": {
            "text/plain": [
              "list"
            ]
          },
          "metadata": {
            "tags": []
          },
          "execution_count": 20
        }
      ]
    },
    {
      "cell_type": "code",
      "metadata": {
        "_uuid": "cdaabc04-ce75-4b9f-898c-716525ce5923",
        "_cell_guid": "627eacfc-8393-419e-85ea-c0ee1b2e9fc4",
        "trusted": true,
        "id": "KTU8gk3XJXbe"
      },
      "source": [
        "import numpy as np\n",
        "import pandas as pd \n",
        "import re\n",
        "from bs4 import BeautifulSoup\n",
        "from keras.preprocessing.text import Tokenizer \n",
        "from keras.preprocessing.sequence import pad_sequences\n",
        "from nltk.corpus import stopwords\n",
        "from tensorflow.keras.layers import Input, LSTM, Embedding, Dense, Concatenate, TimeDistributed,Bidirectional , RepeatVector, Dot ,Lambda\n",
        "from tensorflow.keras.models import Model\n",
        "from tensorflow.keras.callbacks import EarlyStopping,ModelCheckpoint\n",
        "import warnings\n",
        "pd.set_option(\"display.max_colwidth\", 200)\n",
        "warnings.filterwarnings(\"ignore\") "
      ],
      "execution_count": null,
      "outputs": []
    },
    {
      "cell_type": "code",
      "metadata": {
        "trusted": true,
        "id": "rtdYAZc7JXbi",
        "colab": {
          "base_uri": "https://localhost:8080/",
          "height": 490
        },
        "outputId": "f7b30782-7e1c-4a49-e195-0c676a5c8d64"
      },
      "source": [
        "data= pd.read_csv(\"/content/Reviews.csv\",nrows=100000,error_bad_lines=False)\n",
        "data.head(5)"
      ],
      "execution_count": null,
      "outputs": [
        {
          "output_type": "execute_result",
          "data": {
            "text/html": [
              "<div>\n",
              "<style scoped>\n",
              "    .dataframe tbody tr th:only-of-type {\n",
              "        vertical-align: middle;\n",
              "    }\n",
              "\n",
              "    .dataframe tbody tr th {\n",
              "        vertical-align: top;\n",
              "    }\n",
              "\n",
              "    .dataframe thead th {\n",
              "        text-align: right;\n",
              "    }\n",
              "</style>\n",
              "<table border=\"1\" class=\"dataframe\">\n",
              "  <thead>\n",
              "    <tr style=\"text-align: right;\">\n",
              "      <th></th>\n",
              "      <th>Id</th>\n",
              "      <th>ProductId</th>\n",
              "      <th>UserId</th>\n",
              "      <th>ProfileName</th>\n",
              "      <th>HelpfulnessNumerator</th>\n",
              "      <th>HelpfulnessDenominator</th>\n",
              "      <th>Score</th>\n",
              "      <th>Time</th>\n",
              "      <th>Summary</th>\n",
              "      <th>Text</th>\n",
              "    </tr>\n",
              "  </thead>\n",
              "  <tbody>\n",
              "    <tr>\n",
              "      <th>0</th>\n",
              "      <td>1</td>\n",
              "      <td>B001E4KFG0</td>\n",
              "      <td>A3SGXH7AUHU8GW</td>\n",
              "      <td>delmartian</td>\n",
              "      <td>1</td>\n",
              "      <td>1</td>\n",
              "      <td>5</td>\n",
              "      <td>1303862400</td>\n",
              "      <td>Good Quality Dog Food</td>\n",
              "      <td>I have bought several of the Vitality canned dog food products and have found them all to be of good quality. The product looks more like a stew than a processed meat and it smells better. My Labr...</td>\n",
              "    </tr>\n",
              "    <tr>\n",
              "      <th>1</th>\n",
              "      <td>2</td>\n",
              "      <td>B00813GRG4</td>\n",
              "      <td>A1D87F6ZCVE5NK</td>\n",
              "      <td>dll pa</td>\n",
              "      <td>0</td>\n",
              "      <td>0</td>\n",
              "      <td>1</td>\n",
              "      <td>1346976000</td>\n",
              "      <td>Not as Advertised</td>\n",
              "      <td>Product arrived labeled as Jumbo Salted Peanuts...the peanuts were actually small sized unsalted. Not sure if this was an error or if the vendor intended to represent the product as \"Jumbo\".</td>\n",
              "    </tr>\n",
              "    <tr>\n",
              "      <th>2</th>\n",
              "      <td>3</td>\n",
              "      <td>B000LQOCH0</td>\n",
              "      <td>ABXLMWJIXXAIN</td>\n",
              "      <td>Natalia Corres \"Natalia Corres\"</td>\n",
              "      <td>1</td>\n",
              "      <td>1</td>\n",
              "      <td>4</td>\n",
              "      <td>1219017600</td>\n",
              "      <td>\"Delight\" says it all</td>\n",
              "      <td>This is a confection that has been around a few centuries.  It is a light, pillowy citrus gelatin with nuts - in this case Filberts. And it is cut into tiny squares and then liberally coated with ...</td>\n",
              "    </tr>\n",
              "    <tr>\n",
              "      <th>3</th>\n",
              "      <td>4</td>\n",
              "      <td>B000UA0QIQ</td>\n",
              "      <td>A395BORC6FGVXV</td>\n",
              "      <td>Karl</td>\n",
              "      <td>3</td>\n",
              "      <td>3</td>\n",
              "      <td>2</td>\n",
              "      <td>1307923200</td>\n",
              "      <td>Cough Medicine</td>\n",
              "      <td>If you are looking for the secret ingredient in Robitussin I believe I have found it.  I got this in addition to the Root Beer Extract I ordered (which was good) and made some cherry soda.  The fl...</td>\n",
              "    </tr>\n",
              "    <tr>\n",
              "      <th>4</th>\n",
              "      <td>5</td>\n",
              "      <td>B006K2ZZ7K</td>\n",
              "      <td>A1UQRSCLF8GW1T</td>\n",
              "      <td>Michael D. Bigham \"M. Wassir\"</td>\n",
              "      <td>0</td>\n",
              "      <td>0</td>\n",
              "      <td>5</td>\n",
              "      <td>1350777600</td>\n",
              "      <td>Great taffy</td>\n",
              "      <td>Great taffy at a great price.  There was a wide assortment of yummy taffy.  Delivery was very quick.  If your a taffy lover, this is a deal.</td>\n",
              "    </tr>\n",
              "  </tbody>\n",
              "</table>\n",
              "</div>"
            ],
            "text/plain": [
              "   Id  ...                                                                                                                                                                                                     Text\n",
              "0   1  ...  I have bought several of the Vitality canned dog food products and have found them all to be of good quality. The product looks more like a stew than a processed meat and it smells better. My Labr...\n",
              "1   2  ...           Product arrived labeled as Jumbo Salted Peanuts...the peanuts were actually small sized unsalted. Not sure if this was an error or if the vendor intended to represent the product as \"Jumbo\".\n",
              "2   3  ...  This is a confection that has been around a few centuries.  It is a light, pillowy citrus gelatin with nuts - in this case Filberts. And it is cut into tiny squares and then liberally coated with ...\n",
              "3   4  ...  If you are looking for the secret ingredient in Robitussin I believe I have found it.  I got this in addition to the Root Beer Extract I ordered (which was good) and made some cherry soda.  The fl...\n",
              "4   5  ...                                                             Great taffy at a great price.  There was a wide assortment of yummy taffy.  Delivery was very quick.  If your a taffy lover, this is a deal.\n",
              "\n",
              "[5 rows x 10 columns]"
            ]
          },
          "metadata": {
            "tags": []
          },
          "execution_count": 12
        }
      ]
    },
    {
      "cell_type": "code",
      "metadata": {
        "trusted": true,
        "id": "li-mmXQZJXbm",
        "colab": {
          "base_uri": "https://localhost:8080/",
          "height": 319
        },
        "outputId": "f5c664c2-f610-469d-d7a1-e0399594d6eb"
      },
      "source": [
        "data.drop_duplicates(subset=['Text'],inplace=True)  #dropping duplicates\n",
        "data.dropna(axis=0,inplace=True)   #dropping na\n",
        "data.info()"
      ],
      "execution_count": null,
      "outputs": [
        {
          "output_type": "stream",
          "text": [
            "<class 'pandas.core.frame.DataFrame'>\n",
            "Int64Index: 88421 entries, 0 to 99999\n",
            "Data columns (total 10 columns):\n",
            " #   Column                  Non-Null Count  Dtype \n",
            "---  ------                  --------------  ----- \n",
            " 0   Id                      88421 non-null  int64 \n",
            " 1   ProductId               88421 non-null  object\n",
            " 2   UserId                  88421 non-null  object\n",
            " 3   ProfileName             88421 non-null  object\n",
            " 4   HelpfulnessNumerator    88421 non-null  int64 \n",
            " 5   HelpfulnessDenominator  88421 non-null  int64 \n",
            " 6   Score                   88421 non-null  int64 \n",
            " 7   Time                    88421 non-null  int64 \n",
            " 8   Summary                 88421 non-null  object\n",
            " 9   Text                    88421 non-null  object\n",
            "dtypes: int64(5), object(5)\n",
            "memory usage: 7.4+ MB\n"
          ],
          "name": "stdout"
        }
      ]
    },
    {
      "cell_type": "code",
      "metadata": {
        "trusted": true,
        "id": "4vMosOveJXbr"
      },
      "source": [
        "contraction_mapping = {\"ain't\": \"is not\", \"aren't\": \"are not\",\"can't\": \"cannot\", \"'cause\": \"because\", \"could've\": \"could have\", \"couldn't\": \"could not\",\n",
        "\n",
        "                           \"didn't\": \"did not\", \"doesn't\": \"does not\", \"don't\": \"do not\", \"hadn't\": \"had not\", \"hasn't\": \"has not\", \"haven't\": \"have not\",\n",
        "\n",
        "                           \"he'd\": \"he would\",\"he'll\": \"he will\", \"he's\": \"he is\", \"how'd\": \"how did\", \"how'd'y\": \"how do you\", \"how'll\": \"how will\", \"how's\": \"how is\",\n",
        "\n",
        "                           \"I'd\": \"I would\", \"I'd've\": \"I would have\", \"I'll\": \"I will\", \"I'll've\": \"I will have\",\"I'm\": \"I am\", \"I've\": \"I have\", \"i'd\": \"i would\",\n",
        "\n",
        "                           \"i'd've\": \"i would have\", \"i'll\": \"i will\",  \"i'll've\": \"i will have\",\"i'm\": \"i am\", \"i've\": \"i have\", \"isn't\": \"is not\", \"it'd\": \"it would\",\n",
        "\n",
        "                           \"it'd've\": \"it would have\", \"it'll\": \"it will\", \"it'll've\": \"it will have\",\"it's\": \"it is\", \"let's\": \"let us\", \"ma'am\": \"madam\",\n",
        "\n",
        "                           \"mayn't\": \"may not\", \"might've\": \"might have\",\"mightn't\": \"might not\",\"mightn't've\": \"might not have\", \"must've\": \"must have\",\n",
        "\n",
        "                           \"mustn't\": \"must not\", \"mustn't've\": \"must not have\", \"needn't\": \"need not\", \"needn't've\": \"need not have\",\"o'clock\": \"of the clock\",\n",
        "\n",
        "                           \"oughtn't\": \"ought not\", \"oughtn't've\": \"ought not have\", \"shan't\": \"shall not\", \"sha'n't\": \"shall not\", \"shan't've\": \"shall not have\",\n",
        "\n",
        "                           \"she'd\": \"she would\", \"she'd've\": \"she would have\", \"she'll\": \"she will\", \"she'll've\": \"she will have\", \"she's\": \"she is\",\n",
        "\n",
        "                           \"should've\": \"should have\", \"shouldn't\": \"should not\", \"shouldn't've\": \"should not have\", \"so've\": \"so have\",\"so's\": \"so as\",\n",
        "\n",
        "                           \"this's\": \"this is\",\"that'd\": \"that would\", \"that'd've\": \"that would have\", \"that's\": \"that is\", \"there'd\": \"there would\",\n",
        "\n",
        "                           \"there'd've\": \"there would have\", \"there's\": \"there is\", \"here's\": \"here is\",\"they'd\": \"they would\", \"they'd've\": \"they would have\",\n",
        "\n",
        "                           \"they'll\": \"they will\", \"they'll've\": \"they will have\", \"they're\": \"they are\", \"they've\": \"they have\", \"to've\": \"to have\",\n",
        "\n",
        "                           \"wasn't\": \"was not\", \"we'd\": \"we would\", \"we'd've\": \"we would have\", \"we'll\": \"we will\", \"we'll've\": \"we will have\", \"we're\": \"we are\",\n",
        "\n",
        "                           \"we've\": \"we have\", \"weren't\": \"were not\", \"what'll\": \"what will\", \"what'll've\": \"what will have\", \"what're\": \"what are\",\n",
        "\n",
        "                           \"what's\": \"what is\", \"what've\": \"what have\", \"when's\": \"when is\", \"when've\": \"when have\", \"where'd\": \"where did\", \"where's\": \"where is\",\n",
        "\n",
        "                           \"where've\": \"where have\", \"who'll\": \"who will\", \"who'll've\": \"who will have\", \"who's\": \"who is\", \"who've\": \"who have\",\n",
        "\n",
        "                           \"why's\": \"why is\", \"why've\": \"why have\", \"will've\": \"will have\", \"won't\": \"will not\", \"won't've\": \"will not have\",\n",
        "\n",
        "                           \"would've\": \"would have\", \"wouldn't\": \"would not\", \"wouldn't've\": \"would not have\", \"y'all\": \"you all\",\n",
        "\n",
        "                           \"y'all'd\": \"you all would\",\"y'all'd've\": \"you all would have\",\"y'all're\": \"you all are\",\"y'all've\": \"you all have\",\n",
        "\n",
        "                           \"you'd\": \"you would\", \"you'd've\": \"you would have\", \"you'll\": \"you will\", \"you'll've\": \"you will have\",\n",
        "\n",
        "                           \"you're\": \"you are\", \"you've\": \"you have\"}"
      ],
      "execution_count": null,
      "outputs": []
    },
    {
      "cell_type": "code",
      "metadata": {
        "trusted": true,
        "id": "Ca9ZIT3GJXbu",
        "colab": {
          "base_uri": "https://localhost:8080/",
          "height": 232
        },
        "outputId": "e7920b79-3df4-4091-f30c-5e2e3a1b33ec"
      },
      "source": [
        "data['Text'][:10]"
      ],
      "execution_count": null,
      "outputs": [
        {
          "output_type": "execute_result",
          "data": {
            "text/plain": [
              "0    I have bought several of the Vitality canned dog food products and have found them all to be of good quality. The product looks more like a stew than a processed meat and it smells better. My Labr...\n",
              "1             Product arrived labeled as Jumbo Salted Peanuts...the peanuts were actually small sized unsalted. Not sure if this was an error or if the vendor intended to represent the product as \"Jumbo\".\n",
              "2    This is a confection that has been around a few centuries.  It is a light, pillowy citrus gelatin with nuts - in this case Filberts. And it is cut into tiny squares and then liberally coated with ...\n",
              "3    If you are looking for the secret ingredient in Robitussin I believe I have found it.  I got this in addition to the Root Beer Extract I ordered (which was good) and made some cherry soda.  The fl...\n",
              "4                                                               Great taffy at a great price.  There was a wide assortment of yummy taffy.  Delivery was very quick.  If your a taffy lover, this is a deal.\n",
              "5    I got a wild hair for taffy and ordered this five pound bag. The taffy was all very enjoyable with many flavors: watermelon, root beer, melon, peppermint, grape, etc. My only complaint is there wa...\n",
              "6    This saltwater taffy had great flavors and was very soft and chewy.  Each candy was individually wrapped well.  None of the candies were stuck together, which did happen in the expensive version, ...\n",
              "7                                                               This taffy is so good.  It is very soft and chewy.  The flavors are amazing.  I would definitely recommend you buying it.  Very satisfying!!\n",
              "8                                                                        Right now I'm mostly just sprouting this so my cats can eat the grass. They love it. I rotate it around with Wheatgrass and Rye too\n",
              "9                                                                  This is a very healthy dog food. Good for their digestion. Also good for small puppies. My dog eats her required amount at every feeding.\n",
              "Name: Text, dtype: object"
            ]
          },
          "metadata": {
            "tags": []
          },
          "execution_count": 15
        }
      ]
    },
    {
      "cell_type": "code",
      "metadata": {
        "trusted": true,
        "id": "QqkSXr-iJXbx",
        "colab": {
          "base_uri": "https://localhost:8080/",
          "height": 88
        },
        "outputId": "41bb8659-d5e6-4a23-b11c-1b913cb5b91a"
      },
      "source": [
        "from nltk.stem import WordNetLemmatizer  \n",
        "lemmatizer = WordNetLemmatizer() \n",
        "import nltk\n",
        "nltk.download('wordnet')\n",
        "nltk.download('stopwords')\n",
        "stop_words = set(stopwords.words('english')) \n",
        "def text_cleaner(text):\n",
        "    newString = text.lower()\n",
        "    newString = BeautifulSoup(newString, \"lxml\").text\n",
        "    newString = re.sub(r'\\([^)]*\\)', '', newString)\n",
        "    newString = re.sub('\"','', newString)\n",
        "    newString = ' '.join([contraction_mapping[t] if t in contraction_mapping else t for t in newString.split(\" \")])    \n",
        "    newString = re.sub(r\"'s\\b\",\"\",newString)\n",
        "    newString = re.sub(\"[^a-zA-Z]\", \" \", newString) \n",
        "    newString = lemmatizer.lemmatize(text)\n",
        "    tokens = [w for w in newString.split() if not w in stop_words]\n",
        "    long_words=[]\n",
        "    for i in tokens:\n",
        "        if len(i)>=3:                  #removing short word\n",
        "            long_words.append(i)   \n",
        "    return (\" \".join(long_words)).strip()\n",
        "\n",
        "cleaned_text = []\n",
        "for t in data['Text']:\n",
        "    cleaned_text.append(text_cleaner(t))\n",
        "\n"
      ],
      "execution_count": null,
      "outputs": [
        {
          "output_type": "stream",
          "text": [
            "[nltk_data] Downloading package wordnet to /root/nltk_data...\n",
            "[nltk_data]   Unzipping corpora/wordnet.zip.\n",
            "[nltk_data] Downloading package stopwords to /root/nltk_data...\n",
            "[nltk_data]   Package stopwords is already up-to-date!\n"
          ],
          "name": "stdout"
        }
      ]
    },
    {
      "cell_type": "code",
      "metadata": {
        "trusted": true,
        "id": "FWSzNm2iJXb0",
        "colab": {
          "base_uri": "https://localhost:8080/",
          "height": 126
        },
        "outputId": "16b7584a-6bed-4cd3-8d26-d27aa6bf3e99"
      },
      "source": [
        "cleaned_text[:5]"
      ],
      "execution_count": null,
      "outputs": [
        {
          "output_type": "execute_result",
          "data": {
            "text/plain": [
              "['bought several Vitality canned dog food products found good quality. The product looks like stew processed meat smells better. Labrador finicky appreciates product better most.',\n",
              " 'Product arrived labeled Jumbo Salted Peanuts...the peanuts actually small sized unsalted. Not sure error vendor intended represent product \"Jumbo\".',\n",
              " 'This confection around centuries. light, pillowy citrus gelatin nuts case Filberts. And cut tiny squares liberally coated powdered sugar. And tiny mouthful heaven. Not chewy, flavorful. highly recommend yummy treat. familiar story C.S. Lewis\\' \"The Lion, The Witch, The Wardrobe\" treat seduces Edmund selling Brother Sisters Witch.',\n",
              " 'looking secret ingredient Robitussin believe found it. got addition Root Beer Extract ordered (which good) made cherry soda. The flavor medicinal.',\n",
              " 'Great taffy great price. There wide assortment yummy taffy. Delivery quick. taffy lover, deal.']"
            ]
          },
          "metadata": {
            "tags": []
          },
          "execution_count": 18
        }
      ]
    },
    {
      "cell_type": "code",
      "metadata": {
        "trusted": true,
        "id": "0QRK7iX8JXb3",
        "colab": {
          "base_uri": "https://localhost:8080/",
          "height": 190
        },
        "outputId": "3d4fb434-7a8b-44af-aa17-d3885e443ea2"
      },
      "source": [
        "data[['Summary','Text']][:3]"
      ],
      "execution_count": null,
      "outputs": [
        {
          "output_type": "execute_result",
          "data": {
            "text/html": [
              "<div>\n",
              "<style scoped>\n",
              "    .dataframe tbody tr th:only-of-type {\n",
              "        vertical-align: middle;\n",
              "    }\n",
              "\n",
              "    .dataframe tbody tr th {\n",
              "        vertical-align: top;\n",
              "    }\n",
              "\n",
              "    .dataframe thead th {\n",
              "        text-align: right;\n",
              "    }\n",
              "</style>\n",
              "<table border=\"1\" class=\"dataframe\">\n",
              "  <thead>\n",
              "    <tr style=\"text-align: right;\">\n",
              "      <th></th>\n",
              "      <th>Summary</th>\n",
              "      <th>Text</th>\n",
              "    </tr>\n",
              "  </thead>\n",
              "  <tbody>\n",
              "    <tr>\n",
              "      <th>0</th>\n",
              "      <td>Good Quality Dog Food</td>\n",
              "      <td>I have bought several of the Vitality canned dog food products and have found them all to be of good quality. The product looks more like a stew than a processed meat and it smells better. My Labr...</td>\n",
              "    </tr>\n",
              "    <tr>\n",
              "      <th>1</th>\n",
              "      <td>Not as Advertised</td>\n",
              "      <td>Product arrived labeled as Jumbo Salted Peanuts...the peanuts were actually small sized unsalted. Not sure if this was an error or if the vendor intended to represent the product as \"Jumbo\".</td>\n",
              "    </tr>\n",
              "    <tr>\n",
              "      <th>2</th>\n",
              "      <td>\"Delight\" says it all</td>\n",
              "      <td>This is a confection that has been around a few centuries.  It is a light, pillowy citrus gelatin with nuts - in this case Filberts. And it is cut into tiny squares and then liberally coated with ...</td>\n",
              "    </tr>\n",
              "  </tbody>\n",
              "</table>\n",
              "</div>"
            ],
            "text/plain": [
              "                 Summary                                                                                                                                                                                                     Text\n",
              "0  Good Quality Dog Food  I have bought several of the Vitality canned dog food products and have found them all to be of good quality. The product looks more like a stew than a processed meat and it smells better. My Labr...\n",
              "1      Not as Advertised           Product arrived labeled as Jumbo Salted Peanuts...the peanuts were actually small sized unsalted. Not sure if this was an error or if the vendor intended to represent the product as \"Jumbo\".\n",
              "2  \"Delight\" says it all  This is a confection that has been around a few centuries.  It is a light, pillowy citrus gelatin with nuts - in this case Filberts. And it is cut into tiny squares and then liberally coated with ..."
            ]
          },
          "metadata": {
            "tags": []
          },
          "execution_count": 36
        }
      ]
    },
    {
      "cell_type": "code",
      "metadata": {
        "trusted": true,
        "id": "MhtK0XwAJXb9"
      },
      "source": [
        "def summary_cleaner(text):\n",
        "    newString = re.sub('\"','', text)\n",
        "    newString = ' '.join([contraction_mapping[t] if t in contraction_mapping else t for t in newString.split(\" \")])    \n",
        "    newString = re.sub(r\"'s\\b\",\"\",newString)\n",
        "    newString = re.sub(\"[^a-zA-Z]\", \" \", newString)\n",
        "    newString = newString.lower()\n",
        "    tokens=newString.split()\n",
        "    newString=''\n",
        "    for i in tokens:\n",
        "        if len(i)>1:                                 \n",
        "            newString=newString+i+' '  \n",
        "    return newString\n",
        "\n",
        "#Call the above function\n",
        "cleaned_summary = []\n",
        "for t in data['Summary']:\n",
        "    cleaned_summary.append(summary_cleaner(t))\n",
        "\n",
        "data['cleaned_text']=cleaned_text\n",
        "data['cleaned_summary']=cleaned_summary\n",
        "data['cleaned_summary'].replace('', np.nan, inplace=True)\n",
        "data.dropna(axis=0,inplace=True)\n"
      ],
      "execution_count": null,
      "outputs": []
    },
    {
      "cell_type": "code",
      "metadata": {
        "trusted": true,
        "id": "Wm-n1PqBJXcB",
        "colab": {
          "base_uri": "https://localhost:8080/",
          "height": 195
        },
        "outputId": "779d37b3-322a-450a-8deb-2f8846497719"
      },
      "source": [
        "cleaned_summary[:10]"
      ],
      "execution_count": null,
      "outputs": [
        {
          "output_type": "execute_result",
          "data": {
            "text/plain": [
              "['good quality dog food ',\n",
              " 'not as advertised ',\n",
              " 'delight says it all ',\n",
              " 'cough medicine ',\n",
              " 'great taffy ',\n",
              " 'nice taffy ',\n",
              " 'great just as good as the expensive brands ',\n",
              " 'wonderful tasty taffy ',\n",
              " 'yay barley ',\n",
              " 'healthy dog food ']"
            ]
          },
          "metadata": {
            "tags": []
          },
          "execution_count": 38
        }
      ]
    },
    {
      "cell_type": "code",
      "metadata": {
        "trusted": true,
        "id": "2TYTV4pwJXcE",
        "colab": {
          "base_uri": "https://localhost:8080/",
          "height": 281
        },
        "outputId": "a43e2d23-766d-41f2-ffe4-222720c9ee67"
      },
      "source": [
        "\n",
        "import matplotlib.pyplot as plt\n",
        "\n",
        "text_word_count = []\n",
        "summary_word_count = []\n",
        "\n",
        "# populate the lists with sentence lengths\n",
        "for i in data['cleaned_text']:\n",
        "      text_word_count.append(len(i.split()))\n",
        "\n",
        "for i in data['cleaned_summary']:\n",
        "      summary_word_count.append(len(i.split()))\n",
        "\n",
        "length_df = pd.DataFrame({'text':text_word_count, 'summary':summary_word_count})\n",
        "\n",
        "length_df.hist(bins = 30)\n",
        "plt.show()"
      ],
      "execution_count": null,
      "outputs": [
        {
          "output_type": "display_data",
          "data": {
            "image/png": "[encoded data removed]",
            "text/plain": [
              "<Figure size 432x288 with 2 Axes>"
            ]
          },
          "metadata": {
            "tags": [],
            "needs_background": "light"
          }
        }
      ]
    },
    {
      "cell_type": "code",
      "metadata": {
        "trusted": true,
        "id": "hLOZDd9bJXcH",
        "colab": {
          "base_uri": "https://localhost:8080/",
          "height": 35
        },
        "outputId": "715cb8c1-99f6-45c5-eef7-241fe1c1fc62"
      },
      "source": [
        "cnt=0\n",
        "for i in data['cleaned_summary']:\n",
        "    if(len(i.split())<=10):\n",
        "        cnt=cnt+1\n",
        "print(cnt/len(data['cleaned_summary']))"
      ],
      "execution_count": null,
      "outputs": [
        {
          "output_type": "stream",
          "text": [
            "0.9784385186526621\n"
          ],
          "name": "stdout"
        }
      ]
    },
    {
      "cell_type": "code",
      "metadata": {
        "id": "mECg7tglHK4G",
        "colab": {
          "base_uri": "https://localhost:8080/",
          "height": 35
        },
        "outputId": "05ed3e7e-36c2-4698-afb2-66506c33021a"
      },
      "source": [
        "cnt=0\n",
        "for i in data['cleaned_text']:\n",
        "    if(len(i.split())<=100):\n",
        "        cnt=cnt+1\n",
        "print(cnt/len(data['cleaned_text']))"
      ],
      "execution_count": null,
      "outputs": [
        {
          "output_type": "stream",
          "text": [
            "0.9222654835204636\n"
          ],
          "name": "stdout"
        }
      ]
    },
    {
      "cell_type": "code",
      "metadata": {
        "trusted": true,
        "id": "Nbz3RCinJXcK"
      },
      "source": [
        "max_text_len=100\n",
        "max_summary_len=10"
      ],
      "execution_count": null,
      "outputs": []
    },
    {
      "cell_type": "code",
      "metadata": {
        "trusted": true,
        "id": "VjA9v4xvJXcN"
      },
      "source": [
        "cleaned_text =np.array(data['cleaned_text'])\n",
        "cleaned_summary=np.array(data['cleaned_summary'])\n",
        "\n",
        "short_text=[]\n",
        "short_summary=[]\n",
        "\n",
        "for i in range(len(cleaned_text)):\n",
        "    if(len(cleaned_summary[i].split())<=max_summary_len and len(cleaned_text[i].split())<=max_text_len):\n",
        "        short_text.append(cleaned_text[i])\n",
        "        short_summary.append(cleaned_summary[i])\n",
        "        \n",
        "df=pd.DataFrame({'text':short_text,'summary':short_summary})"
      ],
      "execution_count": null,
      "outputs": []
    },
    {
      "cell_type": "code",
      "metadata": {
        "trusted": true,
        "id": "yJLEXhSzJXcQ"
      },
      "source": [
        "\n",
        "df['summary'] = df['summary'].apply(lambda x : 'sostok '+ x + ' eostok')"
      ],
      "execution_count": null,
      "outputs": []
    },
    {
      "cell_type": "code",
      "metadata": {
        "trusted": true,
        "id": "JiZBMyj3JXcT",
        "colab": {
          "base_uri": "https://localhost:8080/",
          "height": 173
        },
        "outputId": "0170258a-d1cf-4abe-c03c-be0e87e0fe38"
      },
      "source": [
        "df[['summary','text']][:3]"
      ],
      "execution_count": null,
      "outputs": [
        {
          "output_type": "execute_result",
          "data": {
            "text/html": [
              "<div>\n",
              "<style scoped>\n",
              "    .dataframe tbody tr th:only-of-type {\n",
              "        vertical-align: middle;\n",
              "    }\n",
              "\n",
              "    .dataframe tbody tr th {\n",
              "        vertical-align: top;\n",
              "    }\n",
              "\n",
              "    .dataframe thead th {\n",
              "        text-align: right;\n",
              "    }\n",
              "</style>\n",
              "<table border=\"1\" class=\"dataframe\">\n",
              "  <thead>\n",
              "    <tr style=\"text-align: right;\">\n",
              "      <th></th>\n",
              "      <th>summary</th>\n",
              "      <th>text</th>\n",
              "    </tr>\n",
              "  </thead>\n",
              "  <tbody>\n",
              "    <tr>\n",
              "      <th>0</th>\n",
              "      <td>sostok good quality dog food  eostok</td>\n",
              "      <td>bought several Vitality canned dog food products found good quality. The product looks like stew processed meat smells better. Labrador finicky appreciates product better most.</td>\n",
              "    </tr>\n",
              "    <tr>\n",
              "      <th>1</th>\n",
              "      <td>sostok not as advertised  eostok</td>\n",
              "      <td>Product arrived labeled Jumbo Salted Peanuts...the peanuts actually small sized unsalted. Not sure error vendor intended represent product \"Jumbo\".</td>\n",
              "    </tr>\n",
              "    <tr>\n",
              "      <th>2</th>\n",
              "      <td>sostok delight says it all  eostok</td>\n",
              "      <td>This confection around centuries. light, pillowy citrus gelatin nuts case Filberts. And cut tiny squares liberally coated powdered sugar. And tiny mouthful heaven. Not chewy, flavorful. highly rec...</td>\n",
              "    </tr>\n",
              "  </tbody>\n",
              "</table>\n",
              "</div>"
            ],
            "text/plain": [
              "                                summary                                                                                                                                                                                                     text\n",
              "0  sostok good quality dog food  eostok                         bought several Vitality canned dog food products found good quality. The product looks like stew processed meat smells better. Labrador finicky appreciates product better most.\n",
              "1      sostok not as advertised  eostok                                                      Product arrived labeled Jumbo Salted Peanuts...the peanuts actually small sized unsalted. Not sure error vendor intended represent product \"Jumbo\".\n",
              "2    sostok delight says it all  eostok  This confection around centuries. light, pillowy citrus gelatin nuts case Filberts. And cut tiny squares liberally coated powdered sugar. And tiny mouthful heaven. Not chewy, flavorful. highly rec..."
            ]
          },
          "metadata": {
            "tags": []
          },
          "execution_count": 48
        }
      ]
    },
    {
      "cell_type": "code",
      "metadata": {
        "trusted": true,
        "id": "5xQpM2P2JXcY"
      },
      "source": [
        "from sklearn.model_selection import train_test_split\n",
        "x_tr,x_val,y_tr,y_val=train_test_split(np.array(df['text']),np.array(df['summary']),test_size=0.1,random_state=0,shuffle=True)"
      ],
      "execution_count": null,
      "outputs": []
    },
    {
      "cell_type": "code",
      "metadata": {
        "trusted": true,
        "id": "rOiyuAdHJXcd"
      },
      "source": [
        "from keras.preprocessing.text import Tokenizer \n",
        "from keras.preprocessing.sequence import pad_sequences\n",
        "\n",
        "#prepare a tokenizer for reviews on training data\n",
        "x_tokenizer = Tokenizer() \n",
        "x_tokenizer.fit_on_texts(list(x_tr))"
      ],
      "execution_count": null,
      "outputs": []
    },
    {
      "cell_type": "code",
      "metadata": {
        "trusted": true,
        "id": "r4K-PU9UJXcg",
        "colab": {
          "base_uri": "https://localhost:8080/",
          "height": 52
        },
        "outputId": "d0e77953-a51c-443e-bda9-b00f286f3f3b"
      },
      "source": [
        "thresh=4\n",
        "\n",
        "cnt=0\n",
        "tot_cnt=0\n",
        "freq=0\n",
        "tot_freq=0\n",
        "\n",
        "for key,value in x_tokenizer.word_counts.items():\n",
        "    tot_cnt=tot_cnt+1\n",
        "    tot_freq=tot_freq+value\n",
        "    if(value<thresh):\n",
        "        cnt=cnt+1\n",
        "        freq=freq+value\n",
        "    \n",
        "print(\"% of rare words in vocabulary:\",(cnt/tot_cnt)*100)\n",
        "print(\"Total Coverage of rare words:\",(freq/tot_freq)*100)"
      ],
      "execution_count": null,
      "outputs": [
        {
          "output_type": "stream",
          "text": [
            "% of rare words in vocabulary: 65.05403015335504\n",
            "Total Coverage of rare words: 1.6131373448282784\n"
          ],
          "name": "stdout"
        }
      ]
    },
    {
      "cell_type": "code",
      "metadata": {
        "trusted": true,
        "id": "7w2Wa5bSJXci"
      },
      "source": [
        "#prepare a tokenizer for reviews on training data\n",
        "x_tokenizer = Tokenizer(num_words=tot_cnt-cnt) \n",
        "x_tokenizer.fit_on_texts(list(x_tr))\n",
        "\n",
        "#convert text sequences into integer sequences\n",
        "x_tr_seq    =   x_tokenizer.texts_to_sequences(x_tr) \n",
        "x_val_seq   =   x_tokenizer.texts_to_sequences(x_val)\n",
        "\n",
        "#padding zero upto maximum length\n",
        "x_tr    =   pad_sequences(x_tr_seq,  maxlen=max_text_len, padding='post')\n",
        "x_val   =   pad_sequences(x_val_seq, maxlen=max_text_len, padding='post')\n",
        "\n",
        "#size of vocabulary ( +1 for padding token)\n",
        "x_voc   =  x_tokenizer.num_words + 1"
      ],
      "execution_count": null,
      "outputs": []
    },
    {
      "cell_type": "code",
      "metadata": {
        "trusted": true,
        "id": "eaAwyPEsJXcl",
        "colab": {
          "base_uri": "https://localhost:8080/",
          "height": 35
        },
        "outputId": "ed6ce8f7-1a1f-4d53-e557-ad148929c84e"
      },
      "source": [
        "x_voc"
      ],
      "execution_count": null,
      "outputs": [
        {
          "output_type": "execute_result",
          "data": {
            "text/plain": [
              "16203"
            ]
          },
          "metadata": {
            "tags": []
          },
          "execution_count": 53
        }
      ]
    },
    {
      "cell_type": "code",
      "metadata": {
        "trusted": true,
        "id": "-QTW6Z3gJXco"
      },
      "source": [
        "#prepare a tokenizer for reviews on training data\n",
        "y_tokenizer = Tokenizer()   \n",
        "y_tokenizer.fit_on_texts(list(y_tr))"
      ],
      "execution_count": null,
      "outputs": []
    },
    {
      "cell_type": "code",
      "metadata": {
        "trusted": true,
        "id": "O_-B1PCpJXcq",
        "colab": {
          "base_uri": "https://localhost:8080/",
          "height": 52
        },
        "outputId": "c9ddff8a-3eed-42ee-f376-4469b31f3cda"
      },
      "source": [
        "thresh=6\n",
        "\n",
        "cnt=0\n",
        "tot_cnt=0\n",
        "freq=0\n",
        "tot_freq=0\n",
        "\n",
        "for key,value in y_tokenizer.word_counts.items():\n",
        "    tot_cnt=tot_cnt+1\n",
        "    tot_freq=tot_freq+value\n",
        "    if(value<thresh):\n",
        "        cnt=cnt+1\n",
        "        freq=freq+value\n",
        "    \n",
        "print(\"% of rare words in vocabulary:\",(cnt/tot_cnt)*100)\n",
        "print(\"Total Coverage of rare words:\",(freq/tot_freq)*100)"
      ],
      "execution_count": null,
      "outputs": [
        {
          "output_type": "stream",
          "text": [
            "% of rare words in vocabulary: 76.06267452683835\n",
            "Total Coverage of rare words: 4.026943241284531\n"
          ],
          "name": "stdout"
        }
      ]
    },
    {
      "cell_type": "code",
      "metadata": {
        "trusted": true,
        "id": "0_CfhdloJXcu"
      },
      "source": [
        "#prepare a tokenizer for reviews on training data\n",
        "y_tokenizer = Tokenizer(num_words=tot_cnt-cnt) \n",
        "y_tokenizer.fit_on_texts(list(y_tr))\n",
        "\n",
        "#convert text sequences into integer sequences\n",
        "y_tr_seq    =   y_tokenizer.texts_to_sequences(y_tr) \n",
        "y_val_seq   =   y_tokenizer.texts_to_sequences(y_val) \n",
        "\n",
        "#padding zero upto maximum length\n",
        "y_tr    =   pad_sequences(y_tr_seq, maxlen=max_summary_len, padding='post')\n",
        "y_val   =   pad_sequences(y_val_seq, maxlen=max_summary_len, padding='post')\n",
        "\n",
        "#size of vocabulary\n",
        "y_voc  =   y_tokenizer.num_words +1"
      ],
      "execution_count": null,
      "outputs": []
    },
    {
      "cell_type": "code",
      "metadata": {
        "trusted": true,
        "id": "ZIT1kuUmJXcw",
        "colab": {
          "base_uri": "https://localhost:8080/",
          "height": 35
        },
        "outputId": "3803405c-cc21-46f9-f6df-e0ccf7179426"
      },
      "source": [
        "\n",
        "y_tokenizer.word_counts['sostok'],len(y_tr)"
      ],
      "execution_count": null,
      "outputs": [
        {
          "output_type": "execute_result",
          "data": {
            "text/plain": [
              "(72120, 72120)"
            ]
          },
          "metadata": {
            "tags": []
          },
          "execution_count": 57
        }
      ]
    },
    {
      "cell_type": "code",
      "metadata": {
        "trusted": true,
        "id": "XanetckNJXc0",
        "colab": {
          "base_uri": "https://localhost:8080/",
          "height": 141
        },
        "outputId": "9eb68c6e-eb94-49bb-8d93-fef1575a4517"
      },
      "source": [
        "y_tr"
      ],
      "execution_count": null,
      "outputs": [
        {
          "output_type": "execute_result",
          "data": {
            "text/plain": [
              "array([[   1,    5,   99, ...,    0,    0,    0],\n",
              "       [   1,   12,   14, ...,    2,    0,    0],\n",
              "       [   1,   39,    4, ...,    0,    0,    0],\n",
              "       ...,\n",
              "       [   1, 1960,  162, ...,   30,    2,    0],\n",
              "       [   1,  283,   16, ...,    0,    0,    0],\n",
              "       [   1,  643,    6, ...,   18,    2,    0]], dtype=int32)"
            ]
          },
          "metadata": {
            "tags": []
          },
          "execution_count": 35
        }
      ]
    },
    {
      "cell_type": "code",
      "metadata": {
        "trusted": true,
        "id": "r2a4abZ1JXc2"
      },
      "source": [
        "ind=[]\n",
        "for i in range(len(y_tr)):\n",
        "    cnt=0\n",
        "    for j in y_tr[i]:\n",
        "        if j!=0:\n",
        "            cnt=cnt+1\n",
        "    if(cnt==2):\n",
        "        ind.append(i)\n",
        "\n",
        "y_tr=np.delete(y_tr,ind, axis=0)\n",
        "x_tr=np.delete(x_tr,ind, axis=0)"
      ],
      "execution_count": null,
      "outputs": []
    },
    {
      "cell_type": "code",
      "metadata": {
        "trusted": true,
        "id": "p8VOrjILJXc5"
      },
      "source": [
        "ind=[]\n",
        "for i in range(len(y_val)):\n",
        "    cnt=0\n",
        "    for j in y_val[i]:\n",
        "        if j!=0:\n",
        "            cnt=cnt+1\n",
        "    if(cnt==2):\n",
        "        ind.append(i)\n",
        "\n",
        "y_val=np.delete(y_val,ind, axis=0)\n",
        "x_val=np.delete(x_val,ind, axis=0)"
      ],
      "execution_count": null,
      "outputs": []
    },
    {
      "cell_type": "code",
      "metadata": {
        "id": "w_zBj0pJIqPt"
      },
      "source": [
        "words_input = x_tokenizer.word_index"
      ],
      "execution_count": null,
      "outputs": []
    },
    {
      "cell_type": "code",
      "metadata": {
        "id": "8-7p1K99KsTb",
        "colab": {
          "base_uri": "https://localhost:8080/",
          "height": 35
        },
        "outputId": "a58f634c-999d-4982-d93a-1eea684922fc"
      },
      "source": [
        "len(x_tokenizer.word_index)"
      ],
      "execution_count": null,
      "outputs": [
        {
          "output_type": "execute_result",
          "data": {
            "text/plain": [
              "46363"
            ]
          },
          "metadata": {
            "tags": []
          },
          "execution_count": 61
        }
      ]
    },
    {
      "cell_type": "code",
      "metadata": {
        "id": "4uK2ttvdH0LY"
      },
      "source": [
        "DIMENSIONS=100\n",
        "input_embedding_matrix = np.zeros((x_voc, DIMENSIONS))\n",
        "for word, k in words_input.items():\n",
        "  if k < x_voc:\n",
        "    embedding_vector = word2Vec.get(word)\n",
        "    if embedding_vector is not None:\n",
        "      input_embedding_matrix[k] = embedding_vector"
      ],
      "execution_count": null,
      "outputs": []
    },
    {
      "cell_type": "code",
      "metadata": {
        "id": "eUSZ4FbjJ30J"
      },
      "source": [
        "target_embedding_matrix = np.zeros((y_voc, DIMENSIONS))\n",
        "for word, k in words_input.items():\n",
        "  if k < y_voc:\n",
        "    embedding_vector = word2Vec.get(word)\n",
        "    if embedding_vector is not None:\n",
        "      target_embedding_matrix[k] = embedding_vector"
      ],
      "execution_count": null,
      "outputs": []
    },
    {
      "cell_type": "code",
      "metadata": {
        "trusted": true,
        "id": "JM4eb-oZJXc8"
      },
      "source": [
        "import tensorflow as tf\n",
        "import os\n",
        "from tensorflow.python.keras.layers import Layer\n",
        "from tensorflow.python.keras import backend as K\n",
        "\n",
        "\n",
        "class AttentionLayer(Layer):\n",
        "    \"\"\"\n",
        "    This class implements Bahdanau attention (https://arxiv.org/pdf/1409.0473.pdf).\n",
        "    There are three sets of weights introduced W_a, U_a, and V_a\n",
        "     \"\"\"\n",
        "\n",
        "    def __init__(self, **kwargs):\n",
        "        super(AttentionLayer, self).__init__(**kwargs)\n",
        "\n",
        "    def build(self, input_shape):\n",
        "        assert isinstance(input_shape, list)\n",
        "        # Create a trainable weight variable for this layer.\n",
        "\n",
        "        self.W_a = self.add_weight(name='W_a',\n",
        "                                   shape=tf.TensorShape((input_shape[0][2], input_shape[0][2])),\n",
        "                                   initializer='uniform',\n",
        "                                   trainable=True)\n",
        "        self.U_a = self.add_weight(name='U_a',\n",
        "                                   shape=tf.TensorShape((input_shape[1][2], input_shape[0][2])),\n",
        "                                   initializer='uniform',\n",
        "                                   trainable=True)\n",
        "        self.V_a = self.add_weight(name='V_a',\n",
        "                                   shape=tf.TensorShape((input_shape[0][2], 1)),\n",
        "                                   initializer='uniform',\n",
        "                                   trainable=True)\n",
        "\n",
        "        super(AttentionLayer, self).build(input_shape)  # Be sure to call this at the end\n",
        "\n",
        "    def call(self, inputs, verbose=False):\n",
        "        \"\"\"\n",
        "        inputs: [encoder_output_sequence, decoder_output_sequence]\n",
        "        \"\"\"\n",
        "        assert type(inputs) == list\n",
        "        encoder_out_seq, decoder_out_seq = inputs\n",
        "        if verbose:\n",
        "            print('encoder_out_seq>', encoder_out_seq.shape)\n",
        "            print('decoder_out_seq>', decoder_out_seq.shape)\n",
        "\n",
        "        def energy_step(inputs, states):\n",
        "            \"\"\" Step function for computing energy for a single decoder state\n",
        "            inputs: (batchsize * 1 * de_in_dim)\n",
        "            states: (batchsize * 1 * de_latent_dim)\n",
        "            \"\"\"\n",
        "\n",
        "            assert_msg = \"States must be an iterable. Got {} of type {}\".format(states, type(states))\n",
        "            assert isinstance(states, list) or isinstance(states, tuple), assert_msg\n",
        "\n",
        "            \"\"\" Some parameters required for shaping tensors\"\"\"\n",
        "            en_seq_len, en_hidden = encoder_out_seq.shape[1], encoder_out_seq.shape[2]\n",
        "            de_hidden = inputs.shape[-1]\n",
        "\n",
        "            \"\"\" Computing S.Wa where S=[s0, s1, ..., si]\"\"\"\n",
        "            # <= batch size * en_seq_len * latent_dim\n",
        "            W_a_dot_s = K.dot(encoder_out_seq, self.W_a)\n",
        "\n",
        "            \"\"\" Computing hj.Ua \"\"\"\n",
        "            U_a_dot_h = K.expand_dims(K.dot(inputs, self.U_a), 1)  # <= batch_size, 1, latent_dim\n",
        "            if verbose:\n",
        "                print('Ua.h>', U_a_dot_h.shape)\n",
        "\n",
        "            \"\"\" tanh(S.Wa + hj.Ua) \"\"\"\n",
        "            # <= batch_size*en_seq_len, latent_dim\n",
        "            Ws_plus_Uh = K.tanh(W_a_dot_s + U_a_dot_h)\n",
        "            if verbose:\n",
        "                print('Ws+Uh>', Ws_plus_Uh.shape)\n",
        "\n",
        "            \"\"\" softmax(va.tanh(S.Wa + hj.Ua)) \"\"\"\n",
        "            # <= batch_size, en_seq_len\n",
        "            e_i = K.squeeze(K.dot(Ws_plus_Uh, self.V_a), axis=-1)\n",
        "            # <= batch_size, en_seq_len\n",
        "            e_i = K.softmax(e_i)\n",
        "\n",
        "            if verbose:\n",
        "                print('ei>', e_i.shape)\n",
        "\n",
        "            return e_i, [e_i]\n",
        "\n",
        "        def context_step(inputs, states):\n",
        "            \"\"\" Step function for computing ci using ei \"\"\"\n",
        "\n",
        "            assert_msg = \"States must be an iterable. Got {} of type {}\".format(states, type(states))\n",
        "            assert isinstance(states, list) or isinstance(states, tuple), assert_msg\n",
        "\n",
        "            # <= batch_size, hidden_size\n",
        "            c_i = K.sum(encoder_out_seq * K.expand_dims(inputs, -1), axis=1)\n",
        "            if verbose:\n",
        "                print('ci>', c_i.shape)\n",
        "            return c_i, [c_i]\n",
        "\n",
        "        fake_state_c = K.sum(encoder_out_seq, axis=1)\n",
        "        fake_state_e = K.sum(encoder_out_seq, axis=2)  # <= (batch_size, enc_seq_len, latent_dim\n",
        "\n",
        "        \"\"\" Computing energy outputs \"\"\"\n",
        "        # e_outputs => (batch_size, de_seq_len, en_seq_len)\n",
        "        last_out, e_outputs, _ = K.rnn(\n",
        "            energy_step, decoder_out_seq, [fake_state_e],\n",
        "        )\n",
        "\n",
        "        \"\"\" Computing context vectors \"\"\"\n",
        "        last_out, c_outputs, _ = K.rnn(\n",
        "            context_step, e_outputs, [fake_state_c],\n",
        "        )\n",
        "\n",
        "        return c_outputs, e_outputs\n",
        "\n",
        "    def compute_output_shape(self, input_shape):\n",
        "        \"\"\" Outputs produced by the layer \"\"\"\n",
        "        return [\n",
        "            tf.TensorShape((input_shape[1][0], input_shape[1][1], input_shape[1][2])),\n",
        "            tf.TensorShape((input_shape[1][0], input_shape[1][1], input_shape[0][1]))\n",
        "        ]\n"
      ],
      "execution_count": null,
      "outputs": []
    },
    {
      "cell_type": "code",
      "metadata": {
        "trusted": true,
        "id": "w4PPxtRSJXdB",
        "colab": {
          "base_uri": "https://localhost:8080/",
          "height": 35
        },
        "outputId": "f3c7e934-87d7-4388-b1ef-5b9ae0946002"
      },
      "source": [
        "x_voc"
      ],
      "execution_count": null,
      "outputs": [
        {
          "output_type": "execute_result",
          "data": {
            "text/plain": [
              "15429"
            ]
          },
          "metadata": {
            "tags": []
          },
          "execution_count": 44
        }
      ]
    },
    {
      "cell_type": "code",
      "metadata": {
        "id": "7KDQ_K9V79jP"
      },
      "source": [
        "# def softmax_over_time(x):\n",
        "#   assert(K.ndim(x) > 2)\n",
        "#   e = K.exp(x - K.max(x, axis=1, keepdims=True))\n",
        "#   s = K.sum(e, axis=1, keepdims=True)\n",
        "#   return e / s"
      ],
      "execution_count": null,
      "outputs": []
    },
    {
      "cell_type": "code",
      "metadata": {
        "id": "QKVrW1DA8BQ2"
      },
      "source": [
        "# atten_layer_repeat = RepeatVector(max_text_len)\n",
        "# atten_concatenate = Concatenate(axis=-1)\n",
        "# atten_dense1 = Dense(30, activation='tanh')\n",
        "# atten_dense2 = Dense(1, activation=softmax_over_time)\n",
        "# attn_dot = Dot(axes=1)"
      ],
      "execution_count": null,
      "outputs": []
    },
    {
      "cell_type": "code",
      "metadata": {
        "id": "WwIqvU7b8qcA"
      },
      "source": [
        "# def attention_procedure(h, st_1):\n",
        "#   st_1 = atten_layer_repeat(st_1)\n",
        "#   x = atten_concatenate([h, st_1])\n",
        "#   x = atten_dense1(x)\n",
        "#   alphas = atten_dense2(x)\n",
        "#   context = attn_dot([alphas,h])\n",
        "#   return context"
      ],
      "execution_count": null,
      "outputs": []
    },
    {
      "cell_type": "code",
      "metadata": {
        "id": "IXZ0Qj8480Ss"
      },
      "source": [
        "# st_0 = Input(shape=(latent_dim,))\n",
        "# c_0 = Input(shape=(latent_dim,))\n",
        "# context_last_word_concat_layer = Concatenate(axis=2)"
      ],
      "execution_count": null,
      "outputs": []
    },
    {
      "cell_type": "code",
      "metadata": {
        "id": "18_Q2LlAEhPA"
      },
      "source": [
        "# def stack_and_transpose(x):\n",
        "#   x = K.stack(x) \n",
        "#   x = K.permute_dimensions(x, pattern=(1, 0, 2)) \n",
        "#   return x"
      ],
      "execution_count": null,
      "outputs": []
    },
    {
      "cell_type": "code",
      "metadata": {
        "trusted": true,
        "id": "zbF6ZOtiJXdF",
        "colab": {
          "base_uri": "https://localhost:8080/",
          "height": 906
        },
        "outputId": "92eb94a7-9a51-42b1-d061-fa7b46d0dee1"
      },
      "source": [
        "from keras import backend as K \n",
        "K.clear_session()\n",
        "\n",
        "latent_dim = 300\n",
        "\n",
        "\n",
        "# Encoder\n",
        "encoder_inputs = Input(shape=(max_text_len,))\n",
        "\n",
        "#embedding layer\n",
        "enc_emb =  Embedding(x_voc, DIMENSIONS, weights=[input_embedding_matrix],trainable=True)(encoder_inputs)\n",
        "\n",
        "#encoder lstm 1\n",
        "encoder_lstm1 = Bidirectional(LSTM(latent_dim,return_sequences=True,return_state=True,dropout=0.4,recurrent_dropout=0.4))\n",
        "encoder_output1, f_state_h1, f_state_c1, b_state_h1,b_state_c1 = encoder_lstm1(enc_emb)\n",
        "\n",
        "#encoder lstm 2\n",
        "encoder_lstm2 = Bidirectional(LSTM(latent_dim,return_sequences=True,return_state=True,dropout=0.4,recurrent_dropout=0.4))\n",
        "encoder_output2, f_state_h2, f_state_c2 , b_state_h2 ,b_state_c2 = encoder_lstm2(encoder_output1)\n",
        "\n",
        "#encoder lstm 3\n",
        "encoder_lstm3=Bidirectional(LSTM(latent_dim, return_state=True, return_sequences=True,dropout=0.4,recurrent_dropout=0.4))\n",
        "encoder_outputs, f_state_h, f_state_c, b_state_h , b_state_c = encoder_lstm3(encoder_output2)\n",
        "\n",
        "state_h = Concatenate()([f_state_h, b_state_h])\n",
        "state_c = Concatenate()([f_state_c, b_state_c])\n",
        "\n",
        "\n",
        "encoder_states = [state_h, state_c]\n",
        "# Set up the decoder, using `encoder_states` as initial state.\n",
        "decoder_inputs = Input(shape=(None,))\n",
        "\n",
        "#embedding layer\n",
        "dec_emb_layer = Embedding(y_voc, DIMENSIONS, weights=[target_embedding_matrix],trainable=True)\n",
        "dec_emb = dec_emb_layer(decoder_inputs)\n",
        "\n",
        "# #context\n",
        "# s = st_0\n",
        "# c = c_0\n",
        "# outputs = []\n",
        "# decoder_lstm = LSTM(latent_dim, return_sequences=True, return_state=True,dropout=0.4,recurrent_dropout=0.2)\n",
        "# decoder_dense_layer = Dense(y_voc, activation='softmax')\n",
        "# for i in range(max_summary_len):\n",
        "#   context = attention_procedure(encoder_outputs, s)\n",
        "\n",
        "#   selector = Lambda(lambda x: x[:, i:i+1])\n",
        "#   xt = selector(dec_emb)\n",
        "#   decoder_lstm_input = context_last_word_concat_layer([context, xt])\n",
        "  \n",
        "  \n",
        "#   decoder_lstm_output, s, c = decoder_lstm(decoder_lstm_input, initial_state=[s,c])\n",
        "\n",
        "  \n",
        "#   decoder_output = decoder_dense_layer(decoder_lstm_output)\n",
        "#   outputs.append(decoder_output)\n",
        "\n",
        "decoder_lstm = LSTM(latent_dim*2, return_sequences=True, return_state=True,dropout=0.4,recurrent_dropout=0.2)\n",
        "decoder_outputs,decoder_fwd_state, decoder_back_state = decoder_lstm(dec_emb,initial_state=encoder_states)\n",
        "\n",
        "# stacker = Lambda(stack_and_transpose)\n",
        "# outputs = stacker(outputs)\n",
        "\n",
        "# Attention layer\n",
        "attn_layer = AttentionLayer(name='attention_layer')\n",
        "attn_out, attn_states = attn_layer([encoder_outputs, decoder_outputs])\n",
        "# attn_out, attn_states = attn_layer([encoder_outputs,outputs])\n",
        "\n",
        "# Concat attention input and decoder LSTM output\n",
        "decoder_concat_input = Concatenate(axis=-1, name='concat_layer')([decoder_outputs, attn_out])\n",
        "# decoder_concat_input = Concatenate(axis=-1, name='concat_layer')([decoder, attn_out])\n",
        "\n",
        "\n",
        "#dense layer\n",
        "decoder_dense =  TimeDistributed(Dense(y_voc, activation='softmax'))\n",
        "decoder_outputs = decoder_dense(decoder_concat_input)\n",
        "\n",
        "# Define the model \n",
        "model = Model([encoder_inputs, decoder_inputs], decoder_outputs)\n",
        "\n",
        "model.summary()\n",
        "\n",
        "# model = Model(\n",
        "#   inputs=[\n",
        "#     encoder_inputs,\n",
        "#     decoder_inputs,\n",
        "#     st_0, \n",
        "#     c_0,\n",
        "#   ],\n",
        "#   outputs=outputs\n",
        "# )\n",
        "\n",
        "# model.summary()"
      ],
      "execution_count": null,
      "outputs": [
        {
          "output_type": "stream",
          "text": [
            "WARNING:tensorflow:Layer lstm will not use cuDNN kernel since it doesn't meet the cuDNN kernel criteria. It will use generic GPU kernel as fallback when running on GPU\n",
            "WARNING:tensorflow:Layer lstm will not use cuDNN kernel since it doesn't meet the cuDNN kernel criteria. It will use generic GPU kernel as fallback when running on GPU\n",
            "WARNING:tensorflow:Layer lstm will not use cuDNN kernel since it doesn't meet the cuDNN kernel criteria. It will use generic GPU kernel as fallback when running on GPU\n",
            "WARNING:tensorflow:Layer lstm_1 will not use cuDNN kernel since it doesn't meet the cuDNN kernel criteria. It will use generic GPU kernel as fallback when running on GPU\n",
            "WARNING:tensorflow:Layer lstm_1 will not use cuDNN kernel since it doesn't meet the cuDNN kernel criteria. It will use generic GPU kernel as fallback when running on GPU\n",
            "WARNING:tensorflow:Layer lstm_1 will not use cuDNN kernel since it doesn't meet the cuDNN kernel criteria. It will use generic GPU kernel as fallback when running on GPU\n",
            "WARNING:tensorflow:Layer lstm_2 will not use cuDNN kernel since it doesn't meet the cuDNN kernel criteria. It will use generic GPU kernel as fallback when running on GPU\n",
            "WARNING:tensorflow:Layer lstm_2 will not use cuDNN kernel since it doesn't meet the cuDNN kernel criteria. It will use generic GPU kernel as fallback when running on GPU\n",
            "WARNING:tensorflow:Layer lstm_2 will not use cuDNN kernel since it doesn't meet the cuDNN kernel criteria. It will use generic GPU kernel as fallback when running on GPU\n",
            "WARNING:tensorflow:Layer lstm_3 will not use cuDNN kernel since it doesn't meet the cuDNN kernel criteria. It will use generic GPU kernel as fallback when running on GPU\n",
            "Model: \"functional_1\"\n",
            "__________________________________________________________________________________________________\n",
            "Layer (type)                    Output Shape         Param #     Connected to                     \n",
            "==================================================================================================\n",
            "input_1 (InputLayer)            [(None, 100)]        0                                            \n",
            "__________________________________________________________________________________________________\n",
            "embedding (Embedding)           (None, 100, 100)     1620300     input_1[0][0]                    \n",
            "__________________________________________________________________________________________________\n",
            "bidirectional (Bidirectional)   [(None, 100, 600), ( 962400      embedding[0][0]                  \n",
            "__________________________________________________________________________________________________\n",
            "bidirectional_1 (Bidirectional) [(None, 100, 600), ( 2162400     bidirectional[0][0]              \n",
            "__________________________________________________________________________________________________\n",
            "input_2 (InputLayer)            [(None, None)]       0                                            \n",
            "__________________________________________________________________________________________________\n",
            "bidirectional_2 (Bidirectional) [(None, 100, 600), ( 2162400     bidirectional_1[0][0]            \n",
            "__________________________________________________________________________________________________\n",
            "embedding_1 (Embedding)         (None, None, 100)    308700      input_2[0][0]                    \n",
            "__________________________________________________________________________________________________\n",
            "concatenate (Concatenate)       (None, 600)          0           bidirectional_2[0][1]            \n",
            "                                                                 bidirectional_2[0][3]            \n",
            "__________________________________________________________________________________________________\n",
            "concatenate_1 (Concatenate)     (None, 600)          0           bidirectional_2[0][2]            \n",
            "                                                                 bidirectional_2[0][4]            \n",
            "__________________________________________________________________________________________________\n",
            "lstm_3 (LSTM)                   [(None, None, 600),  1682400     embedding_1[0][0]                \n",
            "                                                                 concatenate[0][0]                \n",
            "                                                                 concatenate_1[0][0]              \n",
            "__________________________________________________________________________________________________\n",
            "attention_layer (AttentionLayer ((None, None, 600),  720600      bidirectional_2[0][0]            \n",
            "                                                                 lstm_3[0][0]                     \n",
            "__________________________________________________________________________________________________\n",
            "concat_layer (Concatenate)      (None, None, 1200)   0           lstm_3[0][0]                     \n",
            "                                                                 attention_layer[0][0]            \n",
            "__________________________________________________________________________________________________\n",
            "time_distributed (TimeDistribut (None, None, 3087)   3707487     concat_layer[0][0]               \n",
            "==================================================================================================\n",
            "Total params: 13,326,687\n",
            "Trainable params: 13,326,687\n",
            "Non-trainable params: 0\n",
            "__________________________________________________________________________________________________\n"
          ],
          "name": "stdout"
        }
      ]
    },
    {
      "cell_type": "code",
      "metadata": {
        "id": "h3QK9UexQGSB"
      },
      "source": [
        "# my_callbacks = [\r\n",
        "#     ModelCheckpoint(filepath = 'my_model.h5', \r\n",
        "#     verbose=1, save_best_only=True, save_weights_only=False) \r\n",
        "#     ]\r\n",
        "\r\n",
        "# model.load_weights('/content/gdrive/My Drive/MyCNN/epochs:001-val_acc:0.672.hdf5')"
      ],
      "execution_count": null,
      "outputs": []
    },
    {
      "cell_type": "code",
      "metadata": {
        "id": "n5hCHvKvRwyQ"
      },
      "source": [
        "from keras.callbacks import *\n",
        "filepath=\"/content/gdrive/My Drive/MyCNN/epochs:{epoch:03d}-val_acc:{val_acc:.3f}.hdf5\"\n",
        "checkpoint = ModelCheckpoint(filepath, monitor='val_acc', verbose=1, save_best_only=True, mode='max')\n",
        "callbacks_list = [checkpoint]"
      ],
      "execution_count": null,
      "outputs": []
    },
    {
      "cell_type": "code",
      "metadata": {
        "trusted": true,
        "id": "-SPYXGouJXdI"
      },
      "source": [
        "from keras import metrics \n",
        "model.compile(optimizer='rmsprop', loss='sparse_categorical_crossentropy', metrics=['acc'])"
      ],
      "execution_count": null,
      "outputs": []
    },
    {
      "cell_type": "code",
      "metadata": {
        "trusted": true,
        "id": "cUaAwAdlJXdL"
      },
      "source": [
        "es = EarlyStopping(monitor='val_loss', mode='min', verbose=1,patience=2)"
      ],
      "execution_count": null,
      "outputs": []
    },
    {
      "cell_type": "code",
      "metadata": {
        "trusted": true,
        "id": "2mk7dBFrJXdN",
        "colab": {
          "base_uri": "https://localhost:8080/",
          "height": 52
        },
        "outputId": "d9e59649-04cb-424b-a6cb-dc257cea57a1"
      },
      "source": [
        "history=model.fit([x_tr,y_tr[:,:-1]], y_tr.reshape(y_tr.shape[0],y_tr.shape[1], 1)[:,1:] ,epochs=50,callbacks=[es,callbacks_list],batch_size=128, validation_data=([x_val,y_val[:,:-1]], y_val.reshape(y_val.shape[0],y_val.shape[1], 1)[:,1:]))"
      ],
      "execution_count": null,
      "outputs": [
        {
          "output_type": "stream",
          "text": [
            "Epoch 1/50\n",
            "216/555 [==========>...................] - ETA: 12:31 - loss: 2.7421 - acc: 0.6022"
          ],
          "name": "stdout"
        }
      ]
    },
    {
      "cell_type": "code",
      "metadata": {
        "trusted": true,
        "id": "BwZybUG9JXdQ"
      },
      "source": [
        "# model.save('saved_model/my_model') \n"
      ],
      "execution_count": null,
      "outputs": []
    },
    {
      "cell_type": "code",
      "metadata": {
        "trusted": true,
        "id": "SkcvGg16JXdS"
      },
      "source": [
        "# !ls saved_model"
      ],
      "execution_count": null,
      "outputs": []
    },
    {
      "cell_type": "code",
      "metadata": {
        "trusted": true,
        "id": "Qsz3fTLGJXdU"
      },
      "source": [
        "# new_model = tf.keras.models.load_model('saved_model/my_model')\n",
        "\n",
        "# Check its architecture\n",
        "# new_model.summary()"
      ],
      "execution_count": null,
      "outputs": []
    },
    {
      "cell_type": "code",
      "metadata": {
        "trusted": true,
        "id": "Vq1sOuILJXdZ"
      },
      "source": [
        "# # Evaluate the restored model\n",
        "# loss, acc = new_model.evaluate([x_val,y_val[:,:-1]],y_val.reshape(y_val.shape[0],y_val.shape[1], 1)[:,1:],verbose=2)\n",
        "# print(acc)\n",
        "# print('Restored model, accuracy: {:5.2f}%'.format(100*acc))\n",
        "# print(new_model.predict([x_val,y_val[:,:-1]]).shape)"
      ],
      "execution_count": null,
      "outputs": []
    },
    {
      "cell_type": "code",
      "metadata": {
        "trusted": true,
        "id": "3lA3-jCLJXdc",
        "colab": {
          "base_uri": "https://localhost:8080/",
          "height": 265
        },
        "outputId": "496def41-c36b-45a4-b21b-fa597382c84d"
      },
      "source": [
        "from matplotlib import pyplot\n",
        "pyplot.plot(history.history['loss'], label='train')\n",
        "pyplot.plot(history.history['val_loss'], label='test')\n",
        "pyplot.legend()\n",
        "pyplot.show()"
      ],
      "execution_count": null,
      "outputs": [
        {
          "output_type": "display_data",
          "data": {
            "image/png": "[encoded data removed]",
            "text/plain": [
              "<Figure size 432x288 with 1 Axes>"
            ]
          },
          "metadata": {
            "tags": [],
            "needs_background": "light"
          }
        }
      ]
    },
    {
      "cell_type": "code",
      "metadata": {
        "trusted": true,
        "id": "qg_2ckggJXdh"
      },
      "source": [
        "reverse_target_word_index=y_tokenizer.index_word\n",
        "reverse_source_word_index=x_tokenizer.index_word\n",
        "target_word_index=y_tokenizer.word_index"
      ],
      "execution_count": null,
      "outputs": []
    },
    {
      "cell_type": "code",
      "metadata": {
        "id": "pCwjVE-By3yF",
        "colab": {
          "base_uri": "https://localhost:8080/",
          "height": 1000
        },
        "outputId": "153753ec-73f0-4da0-a9a2-252e76d4495e"
      },
      "source": [
        "idx2word = {v:k for k, v in target_word_index.items()}\n",
        "idx2word"
      ],
      "execution_count": null,
      "outputs": [
        {
          "output_type": "execute_result",
          "data": {
            "text/plain": [
              "{1: 'sostok',\n",
              " 2: 'eostok',\n",
              " 3: 'great',\n",
              " 4: 'good',\n",
              " 5: 'the',\n",
              " 6: 'for',\n",
              " 7: 'not',\n",
              " 8: 'best',\n",
              " 9: 'and',\n",
              " 10: 'it',\n",
              " 11: 'my',\n",
              " 12: 'love',\n",
              " 13: 'but',\n",
              " 14: 'this',\n",
              " 15: 'coffee',\n",
              " 16: 'tea',\n",
              " 17: 'product',\n",
              " 18: 'to',\n",
              " 19: 'is',\n",
              " 20: 'delicious',\n",
              " 21: 'of',\n",
              " 22: 'taste',\n",
              " 23: 'very',\n",
              " 24: 'dog',\n",
              " 25: 'flavor',\n",
              " 26: 'excellent',\n",
              " 27: 'like',\n",
              " 28: 'tasty',\n",
              " 29: 'in',\n",
              " 30: 'these',\n",
              " 31: 'yummy',\n",
              " 32: 'food',\n",
              " 33: 'price',\n",
              " 34: 'too',\n",
              " 35: 'favorite',\n",
              " 36: 'ever',\n",
              " 37: 'you',\n",
              " 38: 'with',\n",
              " 39: 'so',\n",
              " 40: 'as',\n",
              " 41: 'loves',\n",
              " 42: 'dogs',\n",
              " 43: 'snack',\n",
              " 44: 'stuff',\n",
              " 45: 'on',\n",
              " 46: 'are',\n",
              " 47: 'better',\n",
              " 48: 'just',\n",
              " 49: 'healthy',\n",
              " 50: 'awesome',\n",
              " 51: 'chocolate',\n",
              " 52: 'no',\n",
              " 53: 'have',\n",
              " 54: 'free',\n",
              " 55: 'nice',\n",
              " 56: 'yum',\n",
              " 57: 'tastes',\n",
              " 58: 'perfect',\n",
              " 59: 'than',\n",
              " 60: 'them',\n",
              " 61: 'what',\n",
              " 62: 'sweet',\n",
              " 63: 'really',\n",
              " 64: 'bad',\n",
              " 65: 'treat',\n",
              " 66: 'wonderful',\n",
              " 67: 'tasting',\n",
              " 68: 'quality',\n",
              " 69: 'at',\n",
              " 70: 'one',\n",
              " 71: 'all',\n",
              " 72: 'buy',\n",
              " 73: 'treats',\n",
              " 74: 'me',\n",
              " 75: 'cat',\n",
              " 76: 'cup',\n",
              " 77: 'your',\n",
              " 78: 'hot',\n",
              " 79: 'little',\n",
              " 80: 'amazing',\n",
              " 81: 'chips',\n",
              " 82: 'easy',\n",
              " 83: 'can',\n",
              " 84: 'from',\n",
              " 85: 'be',\n",
              " 86: 'sugar',\n",
              " 87: 'gluten',\n",
              " 88: 'popcorn',\n",
              " 89: 'much',\n",
              " 90: 'they',\n",
              " 91: 'do',\n",
              " 92: 'more',\n",
              " 93: 'ok',\n",
              " 94: 'mix',\n",
              " 95: 'organic',\n",
              " 96: 'that',\n",
              " 97: 'pretty',\n",
              " 98: 'value',\n",
              " 99: 'cats',\n",
              " 100: 'way',\n",
              " 101: 'drink',\n",
              " 102: 'green',\n",
              " 103: 'cookies',\n",
              " 104: 'if',\n",
              " 105: 'was',\n",
              " 106: 'will',\n",
              " 107: 'amazon',\n",
              " 108: 'fantastic',\n",
              " 109: 'low',\n",
              " 110: 'cereal',\n",
              " 111: 'works',\n",
              " 112: 'strong',\n",
              " 113: 'up',\n",
              " 114: 'happy',\n",
              " 115: 'only',\n",
              " 116: 'deal',\n",
              " 117: 'salt',\n",
              " 118: 'out',\n",
              " 119: 'candy',\n",
              " 120: 'or',\n",
              " 121: 'our',\n",
              " 122: 'real',\n",
              " 123: 'go',\n",
              " 124: 'an',\n",
              " 125: 'sauce',\n",
              " 126: 'rice',\n",
              " 127: 'bar',\n",
              " 128: 'made',\n",
              " 129: 'get',\n",
              " 130: 'baby',\n",
              " 131: 'expensive',\n",
              " 132: 'loved',\n",
              " 133: 'high',\n",
              " 134: 'does',\n",
              " 135: 'eat',\n",
              " 136: 'bars',\n",
              " 137: 'quick',\n",
              " 138: 'alternative',\n",
              " 139: 'fresh',\n",
              " 140: 'new',\n",
              " 141: 'bread',\n",
              " 142: 'water',\n",
              " 143: 'oil',\n",
              " 144: 'wow',\n",
              " 145: 'time',\n",
              " 146: 'cups',\n",
              " 147: 'pasta',\n",
              " 148: 'worth',\n",
              " 149: 'breakfast',\n",
              " 150: 'gift',\n",
              " 151: 'hard',\n",
              " 152: 'coconut',\n",
              " 153: 'old',\n",
              " 154: 'energy',\n",
              " 155: 'had',\n",
              " 156: 'there',\n",
              " 157: 'natural',\n",
              " 158: 'dark',\n",
              " 159: 'find',\n",
              " 160: 'disappointed',\n",
              " 161: 'expected',\n",
              " 162: 'well',\n",
              " 163: 'would',\n",
              " 164: 'packaging',\n",
              " 165: 'spicy',\n",
              " 166: 'super',\n",
              " 167: 'service',\n",
              " 168: 'makes',\n",
              " 169: 'review',\n",
              " 170: 'money',\n",
              " 171: 'did',\n",
              " 172: 'blend',\n",
              " 173: 'okay',\n",
              " 174: 'ginger',\n",
              " 175: 'syrup',\n",
              " 176: 'small',\n",
              " 177: 'smooth',\n",
              " 178: 'salty',\n",
              " 179: 'by',\n",
              " 180: 'decaf',\n",
              " 181: 'shipping',\n",
              " 182: 'milk',\n",
              " 183: 'use',\n",
              " 184: 'big',\n",
              " 185: 'kids',\n",
              " 186: 'don',\n",
              " 187: 'am',\n",
              " 188: 'refreshing',\n",
              " 189: 'again',\n",
              " 190: 'soup',\n",
              " 191: 'fast',\n",
              " 192: 'without',\n",
              " 193: 'convenient',\n",
              " 194: 'some',\n",
              " 195: 'chicken',\n",
              " 196: 'butter',\n",
              " 197: 'has',\n",
              " 198: 'bit',\n",
              " 199: 'chai',\n",
              " 200: 'we',\n",
              " 201: 'beware',\n",
              " 202: 'right',\n",
              " 203: 'nothing',\n",
              " 204: 'light',\n",
              " 205: 'item',\n",
              " 206: 'far',\n",
              " 207: 'found',\n",
              " 208: 'horrible',\n",
              " 209: 'even',\n",
              " 210: 'greenies',\n",
              " 211: 'vanilla',\n",
              " 212: 'cocoa',\n",
              " 213: 'cookie',\n",
              " 214: 'pack',\n",
              " 215: 'make',\n",
              " 216: 'terrible',\n",
              " 217: 'bitter',\n",
              " 218: 'roast',\n",
              " 219: 'honey',\n",
              " 220: 'juice',\n",
              " 221: 'jerky',\n",
              " 222: 'nuts',\n",
              " 223: 'enough',\n",
              " 224: 'absolutely',\n",
              " 225: 'could',\n",
              " 226: 'bold',\n",
              " 227: 'dry',\n",
              " 228: 'about',\n",
              " 229: 'black',\n",
              " 230: 'awful',\n",
              " 231: 'decent',\n",
              " 232: 'crackers',\n",
              " 233: 'cheese',\n",
              " 234: 'peanut',\n",
              " 235: 'other',\n",
              " 236: 'gum',\n",
              " 237: 'noodles',\n",
              " 238: 'work',\n",
              " 239: 'stale',\n",
              " 240: 'poor',\n",
              " 241: 'fruit',\n",
              " 242: 'yuck',\n",
              " 243: 'its',\n",
              " 244: 'soda',\n",
              " 245: 'most',\n",
              " 246: 'size',\n",
              " 247: 'another',\n",
              " 248: 'beef',\n",
              " 249: 'bag',\n",
              " 250: 'ingredients',\n",
              " 251: 'crunchy',\n",
              " 252: 'fun',\n",
              " 253: 'first',\n",
              " 254: 'flavorful',\n",
              " 255: 'now',\n",
              " 256: 'meal',\n",
              " 257: 'try',\n",
              " 258: 'still',\n",
              " 259: 'protein',\n",
              " 260: 'rich',\n",
              " 261: 'chews',\n",
              " 262: 'addictive',\n",
              " 263: 'white',\n",
              " 264: 'pricey',\n",
              " 265: 'flavored',\n",
              " 266: 'cans',\n",
              " 267: 'over',\n",
              " 268: 'never',\n",
              " 269: 'cannot',\n",
              " 270: 'simply',\n",
              " 271: 'flavors',\n",
              " 272: 'toy',\n",
              " 273: 'diet',\n",
              " 274: 'thing',\n",
              " 275: 'finally',\n",
              " 276: 'texture',\n",
              " 277: 'choice',\n",
              " 278: 'different',\n",
              " 279: 'must',\n",
              " 280: 'likes',\n",
              " 281: 'after',\n",
              " 282: 'keurig',\n",
              " 283: 'weak',\n",
              " 284: 'instant',\n",
              " 285: 'goodness',\n",
              " 286: 'tasted',\n",
              " 287: 'special',\n",
              " 288: 'day',\n",
              " 289: 'substitute',\n",
              " 290: 'granola',\n",
              " 291: 'order',\n",
              " 292: 'stars',\n",
              " 293: 'wrong',\n",
              " 294: 'off',\n",
              " 295: 'training',\n",
              " 296: 'whole',\n",
              " 297: 'cheaper',\n",
              " 298: 'fine',\n",
              " 299: 'fabulous',\n",
              " 300: 'less',\n",
              " 301: 'disappointing',\n",
              " 302: 'oatmeal',\n",
              " 303: 'beans',\n",
              " 304: 'oh',\n",
              " 305: 'french',\n",
              " 306: 'pumpkin',\n",
              " 307: 'brand',\n",
              " 308: 'overpriced',\n",
              " 309: 'variety',\n",
              " 310: 'used',\n",
              " 311: 'when',\n",
              " 312: 'worst',\n",
              " 313: 'got',\n",
              " 314: 'kind',\n",
              " 315: 'quite',\n",
              " 316: 'em',\n",
              " 317: 'were',\n",
              " 318: 'tried',\n",
              " 319: 'back',\n",
              " 320: 'puppy',\n",
              " 321: 'pop',\n",
              " 322: 'long',\n",
              " 323: 'market',\n",
              " 324: 'fat',\n",
              " 325: 'spice',\n",
              " 326: 'why',\n",
              " 327: 'box',\n",
              " 328: 'how',\n",
              " 329: 'seeds',\n",
              " 330: 'almost',\n",
              " 331: 'chip',\n",
              " 332: 'bland',\n",
              " 333: 'every',\n",
              " 334: 'full',\n",
              " 335: 'gf',\n",
              " 336: 'waste',\n",
              " 337: 'house',\n",
              " 338: 'store',\n",
              " 339: 'licorice',\n",
              " 340: 'powder',\n",
              " 341: 'red',\n",
              " 342: 'down',\n",
              " 343: 'iced',\n",
              " 344: 'around',\n",
              " 345: 'purchase',\n",
              " 346: 'pure',\n",
              " 347: 'picky',\n",
              " 348: 'seasoning',\n",
              " 349: 'yet',\n",
              " 350: 'calorie',\n",
              " 351: 'recommended',\n",
              " 352: 'always',\n",
              " 353: 'cherry',\n",
              " 354: 'lemon',\n",
              " 355: 'nut',\n",
              " 356: 'almonds',\n",
              " 357: 'wheat',\n",
              " 358: 'life',\n",
              " 359: 'who',\n",
              " 360: 'idea',\n",
              " 361: 'customer',\n",
              " 362: 'lovers',\n",
              " 363: 'home',\n",
              " 364: 'snacks',\n",
              " 365: 'pepper',\n",
              " 366: 'bears',\n",
              " 367: 'same',\n",
              " 368: 'mild',\n",
              " 369: 'espresso',\n",
              " 370: 'china',\n",
              " 371: 'dried',\n",
              " 372: 'smell',\n",
              " 373: 'calories',\n",
              " 374: 'regular',\n",
              " 375: 'son',\n",
              " 376: 'olive',\n",
              " 377: 'need',\n",
              " 378: 'corn',\n",
              " 379: 'heaven',\n",
              " 380: 'surprisingly',\n",
              " 381: 'here',\n",
              " 382: 'family',\n",
              " 383: 'lover',\n",
              " 384: 'liked',\n",
              " 385: 'delivery',\n",
              " 386: 'smells',\n",
              " 387: 'two',\n",
              " 388: 'world',\n",
              " 389: 'carb',\n",
              " 390: 'soft',\n",
              " 391: 'please',\n",
              " 392: 'potato',\n",
              " 393: 'canned',\n",
              " 394: 'pleased',\n",
              " 395: 'cheap',\n",
              " 396: 'grey',\n",
              " 397: 'where',\n",
              " 398: 'exactly',\n",
              " 399: 'own',\n",
              " 400: 'hit',\n",
              " 401: 'wish',\n",
              " 402: 'morning',\n",
              " 403: 'formula',\n",
              " 404: 'pork',\n",
              " 405: 'brown',\n",
              " 406: 'something',\n",
              " 407: 'sure',\n",
              " 408: 'filling',\n",
              " 409: 'think',\n",
              " 410: 'sour',\n",
              " 411: 'outstanding',\n",
              " 412: 'say',\n",
              " 413: 'bags',\n",
              " 414: 'eating',\n",
              " 415: 'lot',\n",
              " 416: 'dented',\n",
              " 417: 'chili',\n",
              " 418: 'cake',\n",
              " 419: 'maple',\n",
              " 420: 'satisfying',\n",
              " 421: 'didn',\n",
              " 422: 'starbucks',\n",
              " 423: 'many',\n",
              " 424: 'last',\n",
              " 425: 'delish',\n",
              " 426: 'health',\n",
              " 427: 'arrived',\n",
              " 428: 'orange',\n",
              " 429: 'original',\n",
              " 430: 'yes',\n",
              " 431: 'cinnamon',\n",
              " 432: 'crazy',\n",
              " 433: 'gross',\n",
              " 434: 'oz',\n",
              " 435: 'any',\n",
              " 436: 'should',\n",
              " 437: 'earl',\n",
              " 438: 'those',\n",
              " 439: 'highly',\n",
              " 440: 'average',\n",
              " 441: 'chewy',\n",
              " 442: 'want',\n",
              " 443: 'package',\n",
              " 444: 'simple',\n",
              " 445: 'aftertaste',\n",
              " 446: 'nasty',\n",
              " 447: 'misleading',\n",
              " 448: 'gummi',\n",
              " 449: 'miracle',\n",
              " 450: 'option',\n",
              " 451: 'crunch',\n",
              " 452: 'company',\n",
              " 453: 'change',\n",
              " 454: 'bought',\n",
              " 455: 'date',\n",
              " 456: 'products',\n",
              " 457: 'know',\n",
              " 458: 'apple',\n",
              " 459: 'disgusting',\n",
              " 460: 'fan',\n",
              " 461: 'baking',\n",
              " 462: 'broken',\n",
              " 463: 'cooking',\n",
              " 464: 'ice',\n",
              " 465: 'gourmet',\n",
              " 466: 'chew',\n",
              " 467: 'delight',\n",
              " 468: 'doesn',\n",
              " 469: 'lots',\n",
              " 470: 'nutritious',\n",
              " 471: 'raw',\n",
              " 472: 'weight',\n",
              " 473: 'mountain',\n",
              " 474: 'cream',\n",
              " 475: 'says',\n",
              " 476: 'things',\n",
              " 477: 'non',\n",
              " 478: 'fiber',\n",
              " 479: 'clean',\n",
              " 480: 'soy',\n",
              " 481: 'advertised',\n",
              " 482: 'terrific',\n",
              " 483: 'needs',\n",
              " 484: 'acid',\n",
              " 485: 'give',\n",
              " 486: 'mint',\n",
              " 487: 'artificial',\n",
              " 488: 'available',\n",
              " 489: 'earth',\n",
              " 490: 'hair',\n",
              " 491: 'warning',\n",
              " 492: 'kitty',\n",
              " 493: 'contains',\n",
              " 494: 'teeth',\n",
              " 495: 'popchips',\n",
              " 496: 'stomach',\n",
              " 497: 'cracker',\n",
              " 498: 'definitely',\n",
              " 499: 'blue',\n",
              " 500: 'plastic',\n",
              " 501: 'gummy',\n",
              " 502: 'everything',\n",
              " 503: 'husband',\n",
              " 504: 'ordered',\n",
              " 505: 'teas',\n",
              " 506: 'doggie',\n",
              " 507: 'looking',\n",
              " 508: 'their',\n",
              " 509: 'cold',\n",
              " 510: 'star',\n",
              " 511: 'mini',\n",
              " 512: 'actually',\n",
              " 513: 'addicted',\n",
              " 514: 'dental',\n",
              " 515: 'wild',\n",
              " 516: 'mustard',\n",
              " 517: 'surprise',\n",
              " 518: 'daughter',\n",
              " 519: 'cost',\n",
              " 520: 'been',\n",
              " 521: 'beautiful',\n",
              " 522: 'us',\n",
              " 523: 'flour',\n",
              " 524: 'salmon',\n",
              " 525: 'pleasant',\n",
              " 526: 'grain',\n",
              " 527: 'aroma',\n",
              " 528: 'brew',\n",
              " 529: 'banana',\n",
              " 530: 'thank',\n",
              " 531: 'lovely',\n",
              " 532: 'live',\n",
              " 533: 'thought',\n",
              " 534: 'large',\n",
              " 535: 'satisfied',\n",
              " 536: 'though',\n",
              " 537: 'noodle',\n",
              " 538: 'problems',\n",
              " 539: 'impressed',\n",
              " 540: 'greatest',\n",
              " 541: 'interesting',\n",
              " 542: 'priced',\n",
              " 543: 'top',\n",
              " 544: 'brownies',\n",
              " 545: 'year',\n",
              " 546: 'bite',\n",
              " 547: 'switch',\n",
              " 548: 'extra',\n",
              " 549: 'vegan',\n",
              " 550: 'meh',\n",
              " 551: 'newman',\n",
              " 552: 'delightful',\n",
              " 553: 'pie',\n",
              " 554: 'beverage',\n",
              " 555: 'allergies',\n",
              " 556: 'bbq',\n",
              " 557: 'maybe',\n",
              " 558: 'omg',\n",
              " 559: 'mmm',\n",
              " 560: 'pancakes',\n",
              " 561: 'away',\n",
              " 562: 'pet',\n",
              " 563: 'stevia',\n",
              " 564: 'save',\n",
              " 565: 'rip',\n",
              " 566: 'peanuts',\n",
              " 567: 'keep',\n",
              " 568: 'biscuits',\n",
              " 569: 'kid',\n",
              " 570: 'nutrition',\n",
              " 571: 'almond',\n",
              " 572: 'changed',\n",
              " 573: 'nom',\n",
              " 574: 'homemade',\n",
              " 575: 're',\n",
              " 576: 'read',\n",
              " 577: 'bran',\n",
              " 578: 'pizza',\n",
              " 579: 'looks',\n",
              " 580: 'goes',\n",
              " 581: 'dinner',\n",
              " 582: 'cute',\n",
              " 583: 'superb',\n",
              " 584: 'dressing',\n",
              " 585: 'keeps',\n",
              " 586: 'foods',\n",
              " 587: 'years',\n",
              " 588: 'italian',\n",
              " 589: 'thin',\n",
              " 590: 'ounce',\n",
              " 591: 'reviews',\n",
              " 592: 'versatile',\n",
              " 593: 'recipe',\n",
              " 594: 'healthier',\n",
              " 595: 'addicting',\n",
              " 596: 'plus',\n",
              " 597: 'true',\n",
              " 598: 'haribo',\n",
              " 599: 'sticks',\n",
              " 600: 'creamy',\n",
              " 601: 'hate',\n",
              " 602: 'truly',\n",
              " 603: 'wanted',\n",
              " 604: 'berry',\n",
              " 605: 'crack',\n",
              " 606: 'medium',\n",
              " 607: 'help',\n",
              " 608: 'close',\n",
              " 609: 'bay',\n",
              " 610: 'english',\n",
              " 611: 'add',\n",
              " 612: 'tree',\n",
              " 613: 'received',\n",
              " 614: 'crispy',\n",
              " 615: 'plain',\n",
              " 616: 'rinds',\n",
              " 617: 'kick',\n",
              " 618: 'replacement',\n",
              " 619: 'shampoo',\n",
              " 620: 'sodium',\n",
              " 621: 'strawberry',\n",
              " 622: 'half',\n",
              " 623: 'expiration',\n",
              " 624: 'packs',\n",
              " 625: 'cheesy',\n",
              " 626: 'fruity',\n",
              " 627: 'fish',\n",
              " 628: 'favorites',\n",
              " 629: 'pods',\n",
              " 630: 'vinegar',\n",
              " 631: 'worked',\n",
              " 632: 'meat',\n",
              " 633: 'chocolates',\n",
              " 634: 'curry',\n",
              " 635: 'lunch',\n",
              " 636: 'seems',\n",
              " 637: 'people',\n",
              " 638: 'san',\n",
              " 639: 'microwave',\n",
              " 640: 'unique',\n",
              " 641: 'weird',\n",
              " 642: 'lipton',\n",
              " 643: 'classic',\n",
              " 644: 'bottle',\n",
              " 645: 'rocks',\n",
              " 646: 'mixed',\n",
              " 647: 'then',\n",
              " 648: 'winner',\n",
              " 649: 'description',\n",
              " 650: 'else',\n",
              " 651: 'look',\n",
              " 652: 'sweetener',\n",
              " 653: 'bacon',\n",
              " 654: 'raspberry',\n",
              " 655: 'extremely',\n",
              " 656: 'mouth',\n",
              " 657: 'mom',\n",
              " 658: 'paws',\n",
              " 659: 'tart',\n",
              " 660: 'huge',\n",
              " 661: 'magic',\n",
              " 662: 'premium',\n",
              " 663: 'busy',\n",
              " 664: 'everyone',\n",
              " 665: 'staple',\n",
              " 666: 'sensitive',\n",
              " 667: 'wine',\n",
              " 668: 'buying',\n",
              " 669: 'care',\n",
              " 670: 'surprised',\n",
              " 671: 'salad',\n",
              " 672: 'disappointment',\n",
              " 673: 'roasted',\n",
              " 674: 'machine',\n",
              " 675: 'summer',\n",
              " 676: 'kit',\n",
              " 677: 'thanks',\n",
              " 678: 'sick',\n",
              " 679: 'gold',\n",
              " 680: 'hands',\n",
              " 681: 'glad',\n",
              " 682: 'source',\n",
              " 683: 'mango',\n",
              " 684: 'totally',\n",
              " 685: 'take',\n",
              " 686: 'name',\n",
              " 687: 'ingredient',\n",
              " 688: 'added',\n",
              " 689: 'guilt',\n",
              " 690: 'buyer',\n",
              " 691: 'start',\n",
              " 692: 'ramen',\n",
              " 693: 'making',\n",
              " 694: 'approved',\n",
              " 695: 'bean',\n",
              " 696: 'heat',\n",
              " 697: 'melted',\n",
              " 698: 'she',\n",
              " 699: 'may',\n",
              " 700: 'packaged',\n",
              " 701: 'enjoy',\n",
              " 702: 'strange',\n",
              " 703: 'gone',\n",
              " 704: 'mess',\n",
              " 705: 'rock',\n",
              " 706: 'sea',\n",
              " 707: 'loose',\n",
              " 708: 'plant',\n",
              " 709: 'smaller',\n",
              " 710: 'anything',\n",
              " 711: 'slightly',\n",
              " 712: 'extract',\n",
              " 713: 'damaged',\n",
              " 714: 'saver',\n",
              " 715: 'convenience',\n",
              " 716: 'style',\n",
              " 717: 'problem',\n",
              " 718: 'pb',\n",
              " 719: 'stores',\n",
              " 720: 'hazelnut',\n",
              " 721: 'jelly',\n",
              " 722: 'hour',\n",
              " 723: 'baked',\n",
              " 724: 'brownie',\n",
              " 725: 'darn',\n",
              " 726: 'experience',\n",
              " 727: 'dessert',\n",
              " 728: 'believe',\n",
              " 729: 'msg',\n",
              " 730: 'short',\n",
              " 731: 'wife',\n",
              " 732: 'drinks',\n",
              " 733: 'helps',\n",
              " 734: 'edible',\n",
              " 735: 'bones',\n",
              " 736: 'francisco',\n",
              " 737: 'before',\n",
              " 738: 'smart',\n",
              " 739: 'effective',\n",
              " 740: 'remember',\n",
              " 741: 'agave',\n",
              " 742: 'ones',\n",
              " 743: 'seller',\n",
              " 744: 'affordable',\n",
              " 745: 'kona',\n",
              " 746: 'picture',\n",
              " 747: 'addition',\n",
              " 748: 'pick',\n",
              " 749: 'watch',\n",
              " 750: 'everyday',\n",
              " 751: 'handy',\n",
              " 752: 'kitchen',\n",
              " 753: 'finicky',\n",
              " 754: 'cherries',\n",
              " 755: 'perfectly',\n",
              " 756: 'boxes',\n",
              " 757: 'feel',\n",
              " 758: 'grass',\n",
              " 759: 'absolute',\n",
              " 760: 'others',\n",
              " 761: 'peach',\n",
              " 762: 'balance',\n",
              " 763: 'needed',\n",
              " 764: 'zico',\n",
              " 765: 'dont',\n",
              " 766: 'allergy',\n",
              " 767: 'version',\n",
              " 768: 'toddler',\n",
              " 769: 'count',\n",
              " 770: 'rub',\n",
              " 771: 'beer',\n",
              " 772: 'leaf',\n",
              " 773: 'movie',\n",
              " 774: 'caramel',\n",
              " 775: 'paste',\n",
              " 776: 'prefer',\n",
              " 777: 'yumm',\n",
              " 778: 'cashews',\n",
              " 779: 'solid',\n",
              " 780: 'tomato',\n",
              " 781: 'dr',\n",
              " 782: 'instead',\n",
              " 783: 'shake',\n",
              " 784: 'gets',\n",
              " 785: 'caffeine',\n",
              " 786: 'taco',\n",
              " 787: 'second',\n",
              " 788: 'quickly',\n",
              " 789: 'nutty',\n",
              " 790: 'amazingly',\n",
              " 791: 'both',\n",
              " 792: 'bargain',\n",
              " 793: 'come',\n",
              " 794: 'tully',\n",
              " 795: 'pieces',\n",
              " 796: 'zero',\n",
              " 797: 'mmmm',\n",
              " 798: 'odd',\n",
              " 799: 'lime',\n",
              " 800: 'brands',\n",
              " 801: 'joe',\n",
              " 802: 'few',\n",
              " 803: 'days',\n",
              " 804: 'superior',\n",
              " 805: 'tough',\n",
              " 806: 'tasteless',\n",
              " 807: 'stash',\n",
              " 808: 'tummy',\n",
              " 809: 'eats',\n",
              " 810: 'gave',\n",
              " 811: 'three',\n",
              " 812: 'side',\n",
              " 813: 'pretzels',\n",
              " 814: 'gravy',\n",
              " 815: 'mediocre',\n",
              " 816: 'expired',\n",
              " 817: 'leaves',\n",
              " 818: 'open',\n",
              " 819: 'incredible',\n",
              " 820: 'described',\n",
              " 821: 'while',\n",
              " 822: 'friendly',\n",
              " 823: 'bulk',\n",
              " 824: 'mints',\n",
              " 825: 'boost',\n",
              " 826: 'per',\n",
              " 827: 'kashi',\n",
              " 828: 'crystal',\n",
              " 829: 'coco',\n",
              " 830: 'mmmmm',\n",
              " 831: 'watery',\n",
              " 832: 'messy',\n",
              " 833: 'pancake',\n",
              " 834: 'cal',\n",
              " 835: 'kitties',\n",
              " 836: 'vegetarian',\n",
              " 837: 'seed',\n",
              " 838: 'recommend',\n",
              " 839: 'com',\n",
              " 840: 'cook',\n",
              " 841: 'cool',\n",
              " 842: 'touch',\n",
              " 843: 'carbonated',\n",
              " 844: 'careful',\n",
              " 845: 'five',\n",
              " 846: 'online',\n",
              " 847: 'babies',\n",
              " 848: 'candies',\n",
              " 849: 'enjoyed',\n",
              " 850: 'eh',\n",
              " 851: 'batch',\n",
              " 852: 'tangy',\n",
              " 853: 'tuna',\n",
              " 854: 'raisins',\n",
              " 855: 'thai',\n",
              " 856: 'stop',\n",
              " 857: 'month',\n",
              " 858: 'pup',\n",
              " 859: 'quaker',\n",
              " 860: 'ground',\n",
              " 861: 'breath',\n",
              " 862: 'results',\n",
              " 863: 'usa',\n",
              " 864: 'muffins',\n",
              " 865: 'fix',\n",
              " 866: 'matcha',\n",
              " 867: 'senseo',\n",
              " 868: 'going',\n",
              " 869: 'using',\n",
              " 870: 'bisquick',\n",
              " 871: 'issues',\n",
              " 872: 'garlic',\n",
              " 873: 'lab',\n",
              " 874: 'basket',\n",
              " 875: 'liquid',\n",
              " 876: 'he',\n",
              " 877: 'tiny',\n",
              " 878: 'into',\n",
              " 879: 'hooked',\n",
              " 880: 'expectations',\n",
              " 881: 'her',\n",
              " 882: 'nature',\n",
              " 883: 'nectar',\n",
              " 884: 'herbal',\n",
              " 885: 'bone',\n",
              " 886: 'reasonable',\n",
              " 887: 'fair',\n",
              " 888: 'expect',\n",
              " 889: 'coffe',\n",
              " 890: 'fog',\n",
              " 891: 'robust',\n",
              " 892: 'color',\n",
              " 893: 'sooo',\n",
              " 894: 'country',\n",
              " 895: 'pictured',\n",
              " 896: 'broccoli',\n",
              " 897: 'eater',\n",
              " 898: 'friend',\n",
              " 899: 'dream',\n",
              " 900: 'prunes',\n",
              " 901: 'shipped',\n",
              " 902: 'steak',\n",
              " 903: 'difference',\n",
              " 904: 'theater',\n",
              " 905: 'getting',\n",
              " 906: 'childhood',\n",
              " 907: 'party',\n",
              " 908: 'heavenly',\n",
              " 909: 'berries',\n",
              " 910: 'job',\n",
              " 911: 'chef',\n",
              " 912: 'planet',\n",
              " 913: 'bonsai',\n",
              " 914: 'control',\n",
              " 915: 'fake',\n",
              " 916: 'stick',\n",
              " 917: 'yogurt',\n",
              " 918: 'bites',\n",
              " 919: 'advertising',\n",
              " 920: 'pecan',\n",
              " 921: 'wonderfully',\n",
              " 922: 'safe',\n",
              " 923: 'christmas',\n",
              " 924: 'pomegranate',\n",
              " 925: 'pudding',\n",
              " 926: 'such',\n",
              " 927: 'being',\n",
              " 928: 'stay',\n",
              " 929: 'crisp',\n",
              " 930: 'authentic',\n",
              " 931: 'local',\n",
              " 932: 'pamela',\n",
              " 933: 'beat',\n",
              " 934: 'liver',\n",
              " 935: 'daily',\n",
              " 936: 'might',\n",
              " 937: 'twinings',\n",
              " 938: 'hips',\n",
              " 939: 'pill',\n",
              " 940: 'amount',\n",
              " 941: 'rawhide',\n",
              " 942: 'longer',\n",
              " 943: 'thick',\n",
              " 944: 'pleasantly',\n",
              " 945: 'dairy',\n",
              " 946: 'drinking',\n",
              " 947: 'raisin',\n",
              " 948: 'sticky',\n",
              " 949: 'thumbs',\n",
              " 950: 'chewers',\n",
              " 951: 'pricing',\n",
              " 952: 'dish',\n",
              " 953: 'man',\n",
              " 954: 'balanced',\n",
              " 955: 'night',\n",
              " 956: 'enjoyable',\n",
              " 957: 'waffles',\n",
              " 958: 'gotta',\n",
              " 959: 'bring',\n",
              " 960: 'jam',\n",
              " 961: 'bpa',\n",
              " 962: 'cheez',\n",
              " 963: 'somewhat',\n",
              " 964: 'caribou',\n",
              " 965: 'jack',\n",
              " 966: 'grocery',\n",
              " 967: 'grade',\n",
              " 968: 'god',\n",
              " 969: 'pantry',\n",
              " 970: 'durable',\n",
              " 971: 'sorry',\n",
              " 972: 'sardines',\n",
              " 973: 'seriously',\n",
              " 974: 'standard',\n",
              " 975: 'puck',\n",
              " 976: 'miss',\n",
              " 977: 'hibiscus',\n",
              " 978: 'basic',\n",
              " 979: 'vita',\n",
              " 980: 'cuppa',\n",
              " 981: 'easier',\n",
              " 982: 'lamb',\n",
              " 983: 'donut',\n",
              " 984: 'truffle',\n",
              " 985: 'grains',\n",
              " 986: 'his',\n",
              " 987: 'anywhere',\n",
              " 988: 'bob',\n",
              " 989: 'yuk',\n",
              " 990: 'cafe',\n",
              " 991: 'pay',\n",
              " 992: 'wholesome',\n",
              " 993: 'powdered',\n",
              " 994: 'sesame',\n",
              " 995: 'kinda',\n",
              " 996: 'moldy',\n",
              " 997: 'mac',\n",
              " 998: 'cet',\n",
              " 999: 'probably',\n",
              " 1000: 'toffee',\n",
              " ...}"
            ]
          },
          "metadata": {
            "tags": []
          },
          "execution_count": 57
        }
      ]
    },
    {
      "cell_type": "code",
      "metadata": {
        "trusted": true,
        "id": "lnywPhqOJXdn"
      },
      "source": [
        "# Encode the input sequence to get the feature vector\n",
        "encoder_model = Model(inputs=encoder_inputs,outputs=[encoder_outputs, state_h, state_c])\n",
        "\n",
        "# Decoder setup\n",
        "# Below tensors will hold the states of the previous time step\n",
        "decoder_state_input_h = Input(shape=(latent_dim*2,))\n",
        "decoder_state_input_c = Input(shape=(latent_dim*2,))\n",
        "decoder_states_input=[decoder_state_input_h,decoder_state_input_c]\n",
        "decoder_hidden_state_input = Input(shape=(max_text_len,latent_dim*2))\n",
        "\n",
        "# Get the embeddings of the decoder sequence\n",
        "dec_emb2= dec_emb_layer(decoder_inputs) \n",
        "# To predict the next word in the sequence, set the initial states to the states from the previous time step\n",
        "decoder_outputs2, state_h2, state_c2 = decoder_lstm(dec_emb2, initial_state=decoder_states_input)\n",
        "\n",
        "#attention inference\n",
        "attn_out_inf, attn_states_inf = attn_layer([decoder_hidden_state_input, decoder_outputs2])\n",
        "decoder_inf_concat = Concatenate(axis=-1, name='concat')([decoder_outputs2, attn_out_inf])\n",
        "\n",
        "# A dense softmax layer to generate prob dist. over the target vocabulary\n",
        "decoder_outputs2 = decoder_dense(decoder_inf_concat) \n",
        "\n",
        "# Final decoder model\n",
        "decoder_model = Model(\n",
        "    [decoder_inputs] + [decoder_hidden_state_input,decoder_state_input_h, decoder_state_input_c],\n",
        "    [decoder_outputs2] + [state_h2, state_c2])"
      ],
      "execution_count": null,
      "outputs": []
    },
    {
      "cell_type": "code",
      "metadata": {
        "trusted": true,
        "id": "KvWVaVdDJXdq"
      },
      "source": [
        "from numpy import array\n",
        "def decode_sequence(input_seq):\n",
        "    # Encode the input as state vectors.\n",
        "    e_out, e_h, e_c = encoder_model.predict(input_seq)\n",
        "    \n",
        "    # Generate empty target sequence of length 1.\n",
        "    target_seq = np.zeros((1,1))\n",
        "    \n",
        "    # Populate the first word of target sequence with the start word.\n",
        "    target_seq[0, 0] = target_word_index['sostok']\n",
        "\n",
        "    stop_condition = False\n",
        "    decoded_sentence = ''\n",
        "    while not stop_condition:\n",
        "      \n",
        "        output_tokens, h, c = decoder_model.predict([target_seq] + [e_out, e_h, e_c])\n",
        "\n",
        "        # Sample a token\n",
        "        sampled_token_index = np.argmax(output_tokens[0, -1, :])\n",
        "        # data  = output_tokens\n",
        "        # data = array(data)\n",
        "        \n",
        "        # sampled_token = beam_decoder(data,3)\n",
        "        # print(sampled_token_index)\n",
        "        sampled_token = reverse_target_word_index[sampled_token_index]\n",
        "        \n",
        "        if(sampled_token!='eostok'):\n",
        "            decoded_sentence += ' '+sampled_token\n",
        "\n",
        "        # Exit condition: either hit max length or find stop word.\n",
        "        if (sampled_token == 'eostok'  or len(decoded_sentence.split()) >= (max_summary_len-1)):\n",
        "            stop_condition = True\n",
        "\n",
        "        # Update the target sequence (of length 1).\n",
        "        target_seq = np.zeros((1,1))\n",
        "        target_seq[0, 0] = sampled_token_index\n",
        "\n",
        "        # Update internal states\n",
        "        e_h, e_c = h, c\n",
        "\n",
        "    return decoded_sentence.replace('sostok','')"
      ],
      "execution_count": null,
      "outputs": []
    },
    {
      "cell_type": "code",
      "metadata": {
        "id": "5jZLnvMP5ZFo"
      },
      "source": [
        "from math import log\n",
        "def beam_decoder(data, k):\n",
        "\tsequences = [[list(), 0.0]]\n",
        "\t# walk over each step in sequence\n",
        "\tfor row in data:\n",
        "\t\tall_candidates = list()\n",
        "\t\tprint(len(sequences))\n",
        "\t\t# expand each current candidate\n",
        "\t\tfor i in range(len(sequences)):\n",
        "\t\t\tseq, score = sequences[i]\n",
        "\t\t\n",
        "\t\t\tfor j in range(len(row)):\n",
        "\t\t\t\tcandidate = [seq + [j], score - log(row[j])]\n",
        "\t\t\t\tall_candidates.append(candidate)\n",
        "\t\t# order all candidates by score\n",
        "\t\tordered = sorted(all_candidates, key=lambda tup:tup[1])\n",
        "\t\t# select k best\n",
        "\t\tsequences = ordered[:k]\n",
        "\treturn sequences"
      ],
      "execution_count": null,
      "outputs": []
    },
    {
      "cell_type": "code",
      "metadata": {
        "trusted": true,
        "id": "o5_WKj7lJXdu"
      },
      "source": [
        "def seq2summary(input_seq):\n",
        "    newString=''\n",
        "    for i in input_seq:\n",
        "        if((i!=0 and i!=target_word_index['sostok']) and i!=target_word_index['eostok']):\n",
        "            newString=newString+reverse_target_word_index[i]+' '\n",
        "    return newString\n",
        "\n",
        "def seq2text(input_seq):\n",
        "    newString=''\n",
        "    for i in input_seq:\n",
        "        if(i!=0):\n",
        "            newString=newString+reverse_source_word_index[i]+' '\n",
        "    return newString"
      ],
      "execution_count": null,
      "outputs": []
    },
    {
      "cell_type": "code",
      "metadata": {
        "trusted": true,
        "id": "gdDrGeSAJXd0",
        "colab": {
          "base_uri": "https://localhost:8080/",
          "height": 1000
        },
        "outputId": "8ae42fb1-c914-4afe-b62f-295642d79aec"
      },
      "source": [
        "import nltk\n",
        "OSummary = []\n",
        "PSummary = []\n",
        "for i in range(0,100):\n",
        "    print(\"Review:\",seq2text(x_tr[i]))\n",
        "    print(\"Original summary:\",seq2summary(y_tr[i]))\n",
        "    OSummary.append(seq2summary(y_tr[i]))\n",
        "    print(\"Predicted summary:\",decode_sequence(x_tr[i].reshape(1,max_text_len)))\n",
        "    PSummary.append(decode_sequence(x_tr[i].reshape(1,max_text_len)))\n",
        "#     BLEUscore = nltk.translate.bleu_score.sentence_bleu([seq2summary(y_tr[i])],decode_sequence(x_tr[i].reshape(1,max_text_len)))\n",
        "#     print(BLEUscore)\n",
        "    print(\"\\n\")"
      ],
      "execution_count": null,
      "outputs": [
        {
          "output_type": "stream",
          "text": [
            "Review: used get local grocery cat adores moved cross country mail order cat went hunger strike supply move ran acquired cats adore stuff two especially like soupy texture sometimes spoon kibble cats snarf primary food cats dessert served twice daily morning evening kibble however think stuff best thing ever prefer anything name way people food \n",
            "Original summary: the cats dessert \n",
            "Predicted summary:  my cats love it\n",
            "\n",
            "\n",
            "Review: love cereal tastes wonderful enjoy much sometimes crave eat day \n",
            "Original summary: love this cereal chocolate is delicious \n",
            "Predicted summary:  love this cereal\n",
            "\n",
            "\n",
            "Review: ramen opinion taste overly unique seafood flavor would recommend flavor typical chicken beef flavor tried one would really good \n",
            "Original summary: so good \n",
            "Predicted summary:  good but not great\n",
            "\n",
            "\n",
            "Review: dried berries exactly like dried berries breakfast cereals put yogurt regular corn flakes think good buy \n",
            "Original summary: great \n",
            "Predicted summary:  great\n",
            "\n",
            "\n",
            "Review: tried couple different hot chocolate cups far think like one best love around give kids hot chocolate curl weather gets cooler make cup chocolatey tastes watered like suggest set settings smaller cup size right creamy chocolatey warm delicious give try like cups hot chocolate great cups coming winter months one definitely going stay stocked throughout winter yum \n",
            "Original summary: to have around for the kids guests and winter \n",
            "Predicted summary:  hot chocolate hot chocolate\n",
            "\n",
            "\n",
            "Review: excellent treats training perfect size put pocket without worrying pocket smelling like dog treats leaving crumbs behind dog likes three flavors treats become harder inside bag month two would open one bag time price amazon considerable less pet store \n",
            "Original summary: zuke mini naturals \n",
            "Predicted summary:  great treats\n",
            "\n",
            "\n",
            "Review: expecting much product given generally like green mountain coffee surprise good tasting dark roast strong flavor nice aroma bitter watered also good pricing pack compared products think going purchase note drink coffee black tasting flavor exact \n",
            "Original summary: pretty good dark roast \n",
            "Predicted summary:  not bad not great\n",
            "\n",
            "\n",
            "Review: one easy use added mousse tastes good regular one \n",
            "Original summary: good and easy to use \n",
            "Predicted summary:  good stuff\n",
            "\n",
            "\n",
            "Review: homestyle salsa simply delicious prefer green red sauce found one really like used tacos burritos enchiladas even mixed sour cream used dip cannot understand cannot get hope amazon continues carry \n",
            "Original summary: delicious \n",
            "Predicted summary:  delicious\n",
            "\n",
            "\n",
            "Review: one favorite flavors green tea happy find amazon local walmart stopped carrying got nice peach skin essence flavor green tea get nice strong flavor leave quite awhile tea bags also individually packaged foil lined packages probably keep tea fresher longer nice enjoyable green tea little honey \n",
            "Original summary: great tasting well priced green tea \n",
            "Predicted summary:  green tea\n",
            "\n",
            "\n",
            "Review: first must admit normally best pets kind person tend towards middle road products pets cheapest stuff also seek expensive thanks amazon vine program received bag test free return writing review judging product page one read ingredients list tempted put pot water make stew family dinner organic barley lamb goodies sounds good controlled try taste gave one dog absolutely loved loves eat anything matter personal choice premium treats bit step far comes pet food realize saying probably earn helpful votes live want best products dog dog likes means try think much fuel burned ship dog treats new zealand north america \n",
            "Original summary: organic non corn based treats over the top \n",
            "Predicted summary:  my dog loves it\n",
            "\n",
            "\n",
            "Review: shake bake classic staple around since idea behind product mimic fried foods without frying simply take shake bake put plastic bag add meat case product pork literally shake bag coat pork bake pork cooked crispy juicy fried product still wonderful years regards review utilized pork prepared tasted great nice crisp seasoned taste without powering somebody wanted doctor seasoning could done add extra spices shaking addition reason cook would limited pork chicken fish certainly could used would taste magnificent healthy alternative frying food really leaves little room improvement would highly suggest product novice cook seasoned chef \n",
            "Original summary: after all these years it still tastes wonderful \n",
            "Predicted summary:  pork shake\n",
            "\n",
            "\n",
            "Review: constant best nougat tried several one purchased cheaper get pay sweet soft airy reminiscent eating marshmallows almond flavor intense tasted artificial disappointing buy product \n",
            "Original summary: disappointing very soft and too sweet \n",
            "Predicted summary:  best tasting soft licorice\n",
            "\n",
            "\n",
            "Review: lara bars great raw unprocessed kosher vegan made ingrediants good eat foods purest form eat without guilt without worrying calories bars favorite \n",
            "Original summary: awesome \n",
            "Predicted summary:  delicious\n",
            "\n",
            "\n",
            "Review: recently student class brought liquorice share took one bite stunned good unlike reviewer mine clumped together actually like pictured bag liquorice soft known would say different type liquorice normal red vine twizzler try brand soft chewy lots flavor since bought several bags continue share product friends family also find marshalls target far tried strawberry flavor next mango \n",
            "Original summary: mmmmm good \n",
            "Predicted summary:  great flavor\n",
            "\n",
            "\n",
            "Review: usually caffeine guy switch decaf wife pregnant definitely best decaf full flavored smooth aromatic best \n",
            "Original summary: community is the best \n",
            "Predicted summary:  my favorite\n",
            "\n",
            "\n",
            "Review: received order time late getting review drank coffee already love favor coffee \n",
            "Original summary: italian roast cup packs for keurig brewers pack of \n",
            "Predicted summary:  good coffee\n",
            "\n",
            "\n",
            "Review: thought getting pouches easy nutritious ordered different pouch recipes boy rough day usually look forward getting amazon packages let major let way overpriced confusing order order unless prepared pay pouch \n",
            "Original summary: way overpriced \n",
            "Predicted summary:  not for me\n",
            "\n",
            "\n",
            "Review: arrived quickly eager try put less cup paper plate microwaved high min several puffing many needed time added min finally took puffed correctly good however many still hard new microwave perhaps wattage high enough heated lard fryer tossed cooked ones hot fat puffed edible put uncooked chips fryer finally pork skins hoping hot puffed crispy delicious used spider keep oil puffed way would order use fryer \n",
            "Original summary: deep saves these pork rinds \n",
            "Predicted summary:  not bad\n",
            "\n",
            "\n",
            "Review: great treat expensive last minutes dog pound \n",
            "Original summary: nice treats \n",
            "Predicted summary:  great treats\n",
            "\n",
            "\n",
            "Review: spice buy smaller quantities good much better price \n",
            "Original summary: good buy \n",
            "Predicted summary:  good buy\n",
            "\n",
            "\n",
            "Review: great deal much cheaper pet store dog loves helps breath smell better used terrible gotten better eating wish lasted longer chew one minutes \n",
            "Original summary: great \n",
            "Predicted summary:  great product\n",
            "\n",
            "\n",
            "Review: never used tahini hummus good always something missing found tahini ordered used result amazing one spoon hummus prepared one bag favorite ready \n",
            "Original summary: good as \n",
            "Predicted summary:  the best\n",
            "\n",
            "\n",
            "Review: stick nylabone favorite got rex told wife nuts getting love guess try dino one also funny one spot one tail regular shaped bones make one end look like went wood end looks like opened \n",
            "Original summary: the new favorite \n",
            "Predicted summary:  not for large dogs\n",
            "\n",
            "\n",
            "Review: trying new roast store loving thrilled offered free sample cups try office machine store brew mellow taste high caffeine hit coffee aficionado cannot tell cocoa toasted nutty flavors tout say looking simple blend give morning afternoon kick need without leaving acid stomach burn try coffee yes expensive compared brewing coffee store bought beans coffee point brewing fresh cup comfort home without get fuzzy slippers cases brushing teeth treat luxury stop complaining \n",
            "Original summary: caffeine kick without the stomach burn \n",
            "Predicted summary:  illy issimo coffee drink\n",
            "\n",
            "\n",
            "Review: know kids love must admit actually taste good remember kid loved big hit kids \n",
            "Original summary: kids love these \n",
            "Predicted summary:  baby loves it\n",
            "\n",
            "\n",
            "Review: cherries delicious needed particular cocktail making perfect added right touch however use expedited shipping products shipped directly amazon waste money way try syrup ice cream wow \n",
            "Original summary: yummy \n",
            "Predicted summary:  delicious but\n",
            "\n",
            "\n",
            "Review: purchased item celebrate birth grandson opted real cigars might tasted better cigars hard hurt teeth chew mention gum cigars much sweet \n",
            "Original summary: real might have tasted better \n",
            "Predicted summary:  not as good as the mints\n",
            "\n",
            "\n",
            "Review: like coffee bean direct coffees cannot stand taste one one else house likes either wish could bought smaller package rather bag cost recommend product anyone everybody taste people may like \n",
            "Original summary: never will purchase again \n",
            "Predicted summary:  good coffee\n",
            "\n",
            "\n",
            "Review: bars great even particularly fond cranberries overly sweet provide good solid start day favorite breakfast bar right like cranberries love \n",
            "Original summary: wonderful breakfast bar \n",
            "Predicted summary:  delicious\n",
            "\n",
            "\n",
            "Review: toy worked well dog try buy interesting safe toys give work tough withstood large bernese mountain dog puppy chewing neck throwing around room took days figure show use seemed uninterested left crate came home later empty since pro rope last long took rope use larger treats still challenge last thing tried baby carrots loved took good minutes get \n",
            "Original summary: good food toy for the \n",
            "Predicted summary:  not durable enough toy\n",
            "\n",
            "\n",
            "Review: one dog loved dog would stay interested long enough figure lift plastic lids said price think good deal \n",
            "Original summary: fun for you and your dog \n",
            "Predicted summary:  dog loves it\n",
            "\n",
            "\n",
            "Review: going serve feline wet cat food think cat paws male shorthair absolutely loves fancy feast seafood seller prompt complete purchase button hardly clicked order arrived door thank definitely order seller \n",
            "Original summary: great service from vendor great product \n",
            "Predicted summary:  my cats love this food\n",
            "\n",
            "\n",
            "Review: hairball medicine cats eat hartz salmon flavor turn noses malt \n",
            "Original summary: cats like it \n",
            "Predicted summary:  cats love it\n",
            "\n",
            "\n",
            "Review: vet recommended chews standard poodle bought first bag amazon price much better paid vet office dog loves chews never upset stomach teeth look much whiter really help tartar buildup vet recommendation cut half still work great last twice long \n",
            "Original summary: oral hygiene dog chews \n",
            "Predicted summary:  great chews\n",
            "\n",
            "\n",
            "Review: high quality hoping still worked well product description thorough received quickly \n",
            "Original summary: okay \n",
            "Predicted summary:  not sure if it is from to\n",
            "\n",
            "\n",
            "Review: twinings come winner variety pack highly recommended flavors pack best best disappointed purchase comes tea twinings best \n",
            "Original summary: twinings wonderfully delicious tea \n",
            "Predicted summary:  the best earl grey tea ever\n",
            "\n",
            "\n",
            "Review: put smoothie yogurt frozen organic berries raw honey sometimes banana actually like taste greens smoothies hint berry flavor gives added punch \n",
            "Original summary: great in smoothies \n",
            "Predicted summary:  great for the\n",
            "\n",
            "\n",
            "Review: looking bold cup try coffee people black tiger french roast bold closest thing cup starbucks get cup fine like green mountain mcdonalds dunkin doughnuts coffee classic slight nutty sweet taste overly fond okay evening cup mood something lighter \n",
            "Original summary: bold for green mountain but not bold \n",
            "Predicted summary:  bold but not bitter\n",
            "\n",
            "\n",
            "Review: cookies really tasty definitely reordering ordered package small bags able snack carry places unlikely anything gluten free glad ordered product one signed program price pretty reasonable little bag cookies helps portion control whole box would probably plow right flavorful taste like cinnamony snickerdoodles weird aftertaste many foods even considered crushing cinnamon thins make crust cheesecake tried yet cookies crispy issue take note \n",
            "Original summary: just like \n",
            "Predicted summary:  delicious\n",
            "\n",
            "\n",
            "Review: really enjoyed every starbucks via variety tried italian colombian roasts caramel iced coffees especially however hoping mild blend since starbucks little strong times really excited try breakfast blend via labeled mild sadly anything still strong also bitter leaves awful sour aftertaste cannot bring drink another cup even means waste money horrible \n",
            "Original summary: worst cup of coffee have ever had \n",
            "Predicted summary:  bitter\n",
            "\n",
            "\n",
            "Review: introduced product several years ago good like fact use yogurt apple sauce water etc make brownies \n",
            "Original summary: love these brownies \n",
            "Predicted summary:  great product\n",
            "\n",
            "\n",
            "Review: mix nuts perfect right amount salt great flavor auto delivered never without \n",
            "Original summary: excellent quality and taste \n",
            "Predicted summary:  great peanuts\n",
            "\n",
            "\n",
            "Review: owned coffee shop years roasted coffee used loose tea hot iced tea used irish breakfast tea tea hot tea customer really know liked black tea brewed iced tea sweet unsweet iced tea popular soda product much quit carrying soda products used metropolitan tea products exclusively substitute good tea \n",
            "Original summary: my favorite tea hands down hot or iced \n",
            "Predicted summary:  great tasting iced tea\n",
            "\n",
            "\n",
            "Review: take bite recall oven tart satisfying boot \n",
            "Original summary: cherry pie in bar \n",
            "Predicted summary:  yummy\n",
            "\n",
            "\n",
            "Review: switching child spit lot less still spits formula life saver recommend \n",
            "Original summary: really works \n",
            "Predicted summary:  great for plants\n",
            "\n",
            "\n",
            "Review: purchased pumps ounce bottles torani syrup ordered work advertised fit perfectly bottles provide exact amount syrup need course testing required obtain amount required taste \n",
            "Original summary: syrup pump \n",
            "Predicted summary:  syrup\n",
            "\n",
            "\n",
            "Review: best breadsticks ever light healthy tasty going order next days thanks \n",
            "Original summary: vita traditional \n",
            "Predicted summary:  the best\n",
            "\n",
            "\n",
            "Review: husband diet tried every baking product existence less satisfying along came pamela life changed forever fact love fine lol pamela bread mix makes best pizza crust ever light crispy chewy crusty delicious fragrance scream thank pamela amazon great prices ease ordering \n",
            "Original summary: best pizza crust ever \n",
            "Predicted summary:  pizza\n",
            "\n",
            "\n",
            "Review: great alternative fettuccine gluten problems sauce big helper taste boil long clump overall happy \n",
            "Original summary: great alternative \n",
            "Predicted summary:  surprisingly good\n",
            "\n",
            "\n",
            "Review: excellent mildly fiery addition anything sprinkle traditional japanese fare udon okonomiyaki treats hamburgers salmon steaks gives wee kick anything \n",
            "Original summary: delicious \n",
            "Predicted summary:  excellent\n",
            "\n",
            "\n",
            "Review: like flavor ginger however much small pieces would like better pieces larger \n",
            "Original summary: ginger pieces too small \n",
            "Predicted summary:  ginger\n",
            "\n",
            "\n",
            "Review: love tastier gerber better baby daughter eats bag every four days buy six pack subscribe save loves strawberry flavor like play feed momma good \n",
            "Original summary: buy these \n",
            "Predicted summary:  love this stuff\n",
            "\n",
            "\n",
            "Review: stuff great order anymore wife developed allergy made sad great hot chocolate \n",
            "Original summary: great cocoa \n",
            "Predicted summary:  hot cocoa\n",
            "\n",
            "\n",
            "Review: highly recommend product love taste coca cola product perfect little ones sour touch \n",
            "Original summary: excellent product \n",
            "Predicted summary:  excellent product\n",
            "\n",
            "\n",
            "Review: really enjoy coffee used variety cups one best \n",
            "Original summary: great coffee \n",
            "Predicted summary:  best coffee\n",
            "\n",
            "\n",
            "Review: cannot believe actually like better ruffles traditional cheddar bold flavorful taste actually tiny bit spicy addicting yum bad hard find though \n",
            "Original summary: sooooo yummy \n",
            "Predicted summary:  spicy and delicious\n",
            "\n",
            "\n",
            "Review: super tastey would definitely recommend reason giving stars wish bigger \n",
            "Original summary: yum \n",
            "Predicted summary:  love this stuff\n",
            "\n",
            "\n",
            "Review: great coffee want smooth flavored cup add small amount milk coffee flavoring enough \n",
            "Original summary: tasty nice aroma smooth taste \n",
            "Predicted summary:  great coffee\n",
            "\n",
            "\n",
            "Review: literally last night tasted decadent drink every sip could believe good felt impressed subscribed amazon monthly delivery case subscription stuff love dark chocolate coconut milk keeping healthy gotta try \n",
            "Original summary: this is for real \n",
            "Predicted summary:  best drink ever\n",
            "\n",
            "\n",
            "Review: drinking mocafe chai years always finding discount retailer longer carry decided would mocafe see could purchase directly pleased see amazon com carrying appreciated free shipping saved considerable amount allowed buy favorite yummy morning drink great beverage coffee drinkers non coffee drinkers like \n",
            "Original summary: yummy \n",
            "Predicted summary:  chai\n",
            "\n",
            "\n",
            "Review: starbucks caramel brulee latte favorite coffee ever expecting hoped could doctor actually weak adding anything made weaker still whole box continue try unless miracle happens wont buy \n",
            "Original summary: way too weak \n",
            "Predicted summary:  wolfgang puck sumatra caribou\n",
            "\n",
            "\n",
            "Review: dogswell happy hips sweet potato chews bought amazon stale bought local stores supposed pliable chewy although bags expiration dates code bag opened contained stale chews broke like crackers could hear dog chomping like bone buy bend put toys bones spend lot time trying get treat could feed like snack crackers disappointed continue buy good product amazon \n",
            "Original summary: treats were stale \n",
            "Predicted summary:  stale\n",
            "\n",
            "\n",
            "Review: picked grocery store day try boy super salty couple chug glass water pepper taste fine really need cut amount salt used \n",
            "Original summary: much too salty \n",
            "Predicted summary:  salty\n",
            "\n",
            "\n",
            "Review: good fresh ground best cup kona definitely treat though may grind make cup future like kona would spend money lots blends work service shipping acceptable \n",
            "Original summary: great kona \n",
            "Predicted summary:  kona kona\n",
            "\n",
            "\n",
            "Review: know sold girl scout cannot sell online still pleased purchase love cookies could get selling melted little makes sense since chocolate cookies mailed summer would buy \n",
            "Original summary: pretty pleased \n",
            "Predicted summary:  love this cookie\n",
            "\n",
            "\n",
            "Review: healthy organic raisins certified oregon agency tasty moistness fine matter preference raisins vegetable oil added make moist thankfully get support charities purchase much better buying unhealthy candy bars like \n",
            "Original summary: healthy tasty and support too \n",
            "Predicted summary:  tasty and healthy\n",
            "\n",
            "\n",
            "Review: french roast fan bought brand cup high expectations considering name attached disappointed hearty aroma full bodied flavor leaves bitter aftertaste lover robust roasts would recommend trying coffee people kona blend island style extra bold cups keurig brewers instead smooth blend none bitterness delivers kick likely looking \n",
            "Original summary: strong yet bitter brew \n",
            "Predicted summary:  bold french roast\n",
            "\n",
            "\n",
            "Review: lot cookies price good compared local grocery store packages good shape cookies fresh order january expiration date april bad would preferred later expiration date problems exactly chips ahoy would buy store \n",
            "Original summary: arrived fresh and in good shape \n",
            "Predicted summary:  stale cookies\n",
            "\n",
            "\n",
            "Review: using fromm surf turf rotation last several months first itchy scratchy bichon food allergies environmental allergies gets better worse depending season coat nice skin stool good next sensitive tummy portuguese water dog cannot grain surf turf perfect digests well tried several foods cannot handle foods grain even easy digest rice formulas even little chihuahua cookie great beautiful soft full coat nice teeth breath stool overall health feed overall diet honest kitchen food happily recommended see feeding anything else pleased customer service well \n",
            "Original summary: great food \n",
            "Predicted summary:  excellent\n",
            "\n",
            "\n",
            "Review: usually eat cereal breakfast days week happy opportunity try new kellogg crunchy nut cereal unfortunately really float boat far sweet discernable nut flavor mean could see little flecks assume nuts stuck real nutty flavor processed overwhelming sensation sweet good way cereal stay crunchy milk sort mild honey corn flavor guess kellogg trying find something compete honey nut cheerios answer think stick special red berries frosted northern gold raspberry blueberry granola \n",
            "Original summary: where are the nuts \n",
            "Predicted summary:  not as good as the other flavors\n",
            "\n",
            "\n",
            "Review: besides great taste product quality appearance tea chest exceeded expectations wife pleased gift get lot compliments friends family every time take tea chest refilled box imported domestic brands tea fit perfectly box would like find way replace fabric cover change logo without damaging box \n",
            "Original summary: the box exceeded expectations \n",
            "Predicted summary:  great product\n",
            "\n",
            "\n",
            "Review: earth best makes best organic baby food ever first time mom product recommended several friends like taste fresh high quality lot even smell fresh son like fruit combinations much vegetable variety favorites continue using brand long possible little bit pricier brands think worth little precious one sweet potato variety tastes real fresh \n",
            "Original summary: best baby food out there \n",
            "Predicted summary:  baby favorite\n",
            "\n",
            "\n",
            "Review: excited see sipping chocolate shelf today compared ingredients last year looks like downgraded ingredients terribly last year cocoa powder cane sugar chocolate liquor cocoa butter year sugar cocoa processed alkali natural flavor salt mess good thing \n",
            "Original summary: the ingredients this year \n",
            "Predicted summary:  tastes like peanut butter\n",
            "\n",
            "\n",
            "Review: thing dog might like close greenie dental chews need order \n",
            "Original summary: taste good and helps with her hips \n",
            "Predicted summary:  dog\n",
            "\n",
            "\n",
            "Review: little lbs yorkie mix loves tiny bites sit pull little steak bits throw loves jump chase also seems pretty happy harder kibble bits although chase must less appealing normally finicky eater really likes food also digestive issues lbs sweetheart dog loves picky eater wrong food makes picking park nightmare allowed try anyway digestive issues also seems think chewy steak bits super treats definitely repurchase food price amazon point cheaper local grocery store \n",
            "Original summary: my dogs love the little bits of steak \n",
            "Predicted summary:  my puppy loves it\n",
            "\n",
            "\n",
            "Review: able find outside midwest glad found kraft sells somethings amazon \n",
            "Original summary: exactly what ordered \n",
            "Predicted summary:  love this stuff\n",
            "\n",
            "\n",
            "Review: enjoyed packaged oatmeal thought trying noodle soup sadly probably worst purchase made amazon soup taste noodles taste like paper seasoning good wish could return remaining cups think amazon take back food items waste \n",
            "Original summary: has no taste very dissapointed in this purchase \n",
            "Predicted summary:  very disappointed\n",
            "\n",
            "\n",
            "Review: husband prefers bread others tried ordering bulk saves money grocery store purchases relatively easy make nice review compares pamela gluten free regular bread according husband seem fair \n",
            "Original summary: better than most \n",
            "Predicted summary:  great bread\n",
            "\n",
            "\n",
            "Review: like really strong ginger flavor likely enjoy looking beverage ginger lemon flavor look elsewhere advertised ginger lemon drink mostly ginger notice lemon flavor honestly could finish really disappointing like ginger lemon hoping drink nice blend two \n",
            "Original summary: lots of ginger almost no lemon \n",
            "Predicted summary:  strong ginger flavor\n",
            "\n",
            "\n",
            "Review: mostly bought tea assortment chocolate mint flavor disappointing fake chocolate taste flavors tried coconut mango white peach white peach good coconut mango okay hope flavors better otherwise would say pack waste shame normally enjoy stash teas \n",
            "Original summary: tea is so so \n",
            "Predicted summary:  not so much\n",
            "\n",
            "\n",
            "Review: purchased pepperidge farm cookies family member sick hospital cookies expiration date stale embarrassing disappointing say least tells food products good buy amazon \n",
            "Original summary: stale cookies \n",
            "Predicted summary:  stale cookies\n",
            "\n",
            "\n",
            "Review: palatable crf food market plus require prescription cat enjoyed better low catfood fancy feast junky feeding recommend buying block levels regular food crf pet eat addition tor \n",
            "Original summary: diet \n",
            "Predicted summary:  great food\n",
            "\n",
            "\n",
            "Review: box nerds least week really bad terms calories cal whole box take eat always good thing watching calories taste yummy terms treats top ten sure \n",
            "Original summary: who does not love \n",
            "Predicted summary:  delicious\n",
            "\n",
            "\n",
            "Review: good stuff get chance exercise much would like lately took special notice diet stuff leaves feeling energized day ahead guilty eating something tastes good \n",
            "Original summary: eating some right now \n",
            "Predicted summary:  good stuff\n",
            "\n",
            "\n",
            "Review: like salted cashews begin discovered good sprinkling pepper makes even better taste great fruity sweetness cashew brought pepper nuts plenty salt enough paper leave tiniest burn tongue peppery flavor enhances taste cashew heat right intensity ultra immature palette cannot anything spicy may want give miss like little bite bite gobble goodies serve beer alongside sandwich plate tossed top salad add little crunch terrific flavor liked cocoa dusted almonds emerald recently introduced subtle unusual delicate cashews hand bold salt pepper pack lot flavor every nut taste intense one handful satisfying good news like watch calories \n",
            "Original summary: peppery little bite \n",
            "Predicted summary:  tasty and healthy\n",
            "\n",
            "\n",
            "Review: husband using different type popcorn popper looking purchasing last time quite expensive started looking around something new search came across popcorn thought give try got amount popcorn half price huge bonus received try right away thoroughly impressed even better previous brand fabulous product \n",
            "Original summary: best popcorn yet \n",
            "Predicted summary:  great popcorn\n",
            "\n",
            "\n",
            "Review: amazon older picture product online package pictured different types ordered got different got overpriced \n",
            "Original summary: that amazon had online was not the product got \n",
            "Predicted summary:  not as advertised\n",
            "\n",
            "\n",
            "Review: cutter insect repellent picaridin safer less strong odor deet products retail stores summer area country amazon place could find faced dense mosquito population pour legs knees allowing run socks spraying often give full bugs way finding bare spot deet products available everywhere may last longer read warnings risk long term heavy dose deet \n",
            "Original summary: child safe \n",
            "Predicted summary:  not for sensitive skin\n",
            "\n",
            "\n",
            "Review: received gift company enclosed receipt box know much sender spent hunt see plus saw receipt realized paid less worth candy candies still found local stores gum hard rock taffy took fillings really poorly done passing info person sent loved idea gift really bad quality \n",
            "Original summary: looks bigger than actual size \n",
            "Predicted summary:  not as pictured\n",
            "\n",
            "\n",
            "Review: variety pack contains great sampling timothy products enjoyable \n",
            "Original summary: terrific variety pack \n",
            "Predicted summary:  great variety\n",
            "\n",
            "\n",
            "Review: addicted fruit bars best diet really like eating fresh fruit bars changed get servings fruit feel like eating candy added sugar really fruit also recommend vegan friends \n",
            "Original summary: cannot believe this is healthy food \n",
            "Predicted summary:  kashi bars\n",
            "\n",
            "\n",
            "Review: love grill alert first lasted three years replacement probe approximately months works great little risky hard tell probe defective actually device research online convinced probably probe worked good \n",
            "Original summary: replacement for grill alert \n",
            "Predicted summary:  worked well\n",
            "\n",
            "\n",
            "Review: love coffee smooth taste lovely kona blend best freeze dried instant would purchase \n",
            "Original summary: kona at its best \n",
            "Predicted summary:  kona coffee beans\n",
            "\n",
            "\n",
            "Review: love jamaican crazy coffee smooth rich hint vanilla caramel whole bean coffee grinder totally worth \n",
            "Original summary: wonderful coffee \n",
            "Predicted summary:  delicious\n",
            "\n",
            "\n",
            "Review: excellent dark roast coffee compares expensive brands cannot beat price bit coffee snob side happy found coffee love affordable \n",
            "Original summary: great coffee great price \n",
            "Predicted summary:  great coffee\n",
            "\n",
            "\n",
            "Review: received greenies immediately gave dogs chewed right away loved lily hides eats later nice size good price dogs enjoy greenies \n",
            "Original summary: lily fun chews \n",
            "Predicted summary:  greenies\n",
            "\n",
            "\n",
            "Review: tea nice mild flavor hot tea yet tried iced tea tried brand kind tea satisfied enough one \n",
            "Original summary: tea has nice mild flavor \n",
            "Predicted summary:  green tea\n",
            "\n",
            "\n",
            "Review: used drink twinings india spice chai gold box daily great pleasure much better tazo supermarket brands found amazon could get world market happily made trip often sold still worth trying twinings decided change recipe think attempt taste like tazo took subtle masala chai flavors dumped ridiculous amount cardamom literally enough make tongue little numb kills background flavors positive thing say still super cheap convenient amazon subscribe care subtleties flavor overload cardamom eventually seems kill taste buds becomes less time good less horrible wonderful satisfying tea experience gets job done expense joy \n",
            "Original summary: way too much cardamom \n",
            "Predicted summary:  the best chai ever\n",
            "\n",
            "\n",
            "Review: came upon product kind accident online love taste coconuts really starting get pretty regular running regiment going heat summer fact much exercise hydration important factor particularly interested potassium content coconut water important avoiding cramps especially running heat drink third carton run hot chug rest done love flavor much better drink cold think good advertised tried one flavor acai pomegranate putrid shied away everything original cannot wrong pure coconut water \n",
            "Original summary: great for \n",
            "Predicted summary:  tastes good but is all the way\n",
            "\n",
            "\n"
          ],
          "name": "stdout"
        }
      ]
    },
    {
      "cell_type": "code",
      "metadata": {
        "id": "1CExuLU5OhZi",
        "colab": {
          "base_uri": "https://localhost:8080/",
          "height": 106
        },
        "outputId": "4e41c093-43d0-4459-c95b-d71073ad0b63"
      },
      "source": [
        "! pip install rouge\n",
        "from rouge import Rouge\n",
        "score = Rouge()"
      ],
      "execution_count": null,
      "outputs": [
        {
          "output_type": "stream",
          "text": [
            "Collecting rouge\n",
            "  Downloading https://files.pythonhosted.org/packages/43/cc/e18e33be20971ff73a056ebdb023476b5a545e744e3fc22acd8c758f1e0d/rouge-1.0.0-py3-none-any.whl\n",
            "Requirement already satisfied: six in /usr/local/lib/python3.6/dist-packages (from rouge) (1.15.0)\n",
            "Installing collected packages: rouge\n",
            "Successfully installed rouge-1.0.0\n"
          ],
          "name": "stdout"
        }
      ]
    },
    {
      "cell_type": "code",
      "metadata": {
        "id": "LeDQw67XOoTN",
        "colab": {
          "base_uri": "https://localhost:8080/",
          "height": 1000
        },
        "outputId": "9b8847d9-2507-4262-ff4f-42b184d39b63"
      },
      "source": [
        "while ' ' in PSummary:\n",
        "    PSummary.remove(' ')\n",
        "    \n",
        "PSummary"
      ],
      "execution_count": null,
      "outputs": [
        {
          "output_type": "execute_result",
          "data": {
            "text/plain": [
              "[' my cats love it',\n",
              " ' love this cereal',\n",
              " ' good but not great',\n",
              " ' great',\n",
              " ' hot chocolate hot chocolate',\n",
              " ' great treats',\n",
              " ' not bad not great',\n",
              " ' good stuff',\n",
              " ' delicious',\n",
              " ' green tea',\n",
              " ' my dog loves it',\n",
              " ' pork shake',\n",
              " ' best tasting soft licorice',\n",
              " ' delicious',\n",
              " ' great flavor',\n",
              " ' my favorite',\n",
              " ' good coffee',\n",
              " ' not for me',\n",
              " ' not bad',\n",
              " ' great treats',\n",
              " ' good buy',\n",
              " ' great product',\n",
              " ' the best',\n",
              " ' not for large dogs',\n",
              " ' illy issimo coffee drink',\n",
              " ' baby loves it',\n",
              " ' delicious but',\n",
              " ' not as good as the mints',\n",
              " ' good coffee',\n",
              " ' delicious',\n",
              " ' not durable enough toy',\n",
              " ' dog loves it',\n",
              " ' my cats love this food',\n",
              " ' cats love it',\n",
              " ' great chews',\n",
              " ' not sure if it is from to',\n",
              " ' the best earl grey tea ever',\n",
              " ' great for the',\n",
              " ' bold but not bitter',\n",
              " ' delicious',\n",
              " ' bitter',\n",
              " ' great product',\n",
              " ' great peanuts',\n",
              " ' great tasting iced tea',\n",
              " ' yummy',\n",
              " ' great for plants',\n",
              " ' syrup',\n",
              " ' the best',\n",
              " ' pizza',\n",
              " ' surprisingly good',\n",
              " ' excellent',\n",
              " ' ginger',\n",
              " ' love this stuff',\n",
              " ' hot cocoa',\n",
              " ' excellent product',\n",
              " ' best coffee',\n",
              " ' spicy and delicious',\n",
              " ' love this stuff',\n",
              " ' great coffee',\n",
              " ' best drink ever',\n",
              " ' chai',\n",
              " ' wolfgang puck sumatra caribou',\n",
              " ' stale',\n",
              " ' salty',\n",
              " ' kona kona',\n",
              " ' love this cookie',\n",
              " ' tasty and healthy',\n",
              " ' bold french roast',\n",
              " ' stale cookies',\n",
              " ' excellent',\n",
              " ' not as good as the other flavors',\n",
              " ' great product',\n",
              " ' baby favorite',\n",
              " ' tastes like peanut butter',\n",
              " ' dog',\n",
              " ' my puppy loves it',\n",
              " ' love this stuff',\n",
              " ' very disappointed',\n",
              " ' great bread',\n",
              " ' strong ginger flavor',\n",
              " ' not so much',\n",
              " ' stale cookies',\n",
              " ' great food',\n",
              " ' delicious',\n",
              " ' good stuff',\n",
              " ' tasty and healthy',\n",
              " ' great popcorn',\n",
              " ' not as advertised',\n",
              " ' not for sensitive skin',\n",
              " ' not as pictured',\n",
              " ' great variety',\n",
              " ' kashi bars',\n",
              " ' worked well',\n",
              " ' kona coffee beans',\n",
              " ' delicious',\n",
              " ' great coffee',\n",
              " ' greenies',\n",
              " ' green tea',\n",
              " ' the best chai ever',\n",
              " ' tastes good but is all the way']"
            ]
          },
          "metadata": {
            "tags": []
          },
          "execution_count": 65
        }
      ]
    },
    {
      "cell_type": "code",
      "metadata": {
        "id": "o-JQJ42_FTCN",
        "colab": {
          "base_uri": "https://localhost:8080/",
          "height": 52
        },
        "outputId": "025b484d-d74a-4198-930b-2b2b9ed0e9ce"
      },
      "source": [
        "print(len(OSummary))\n",
        "print(len(PSummary))\n"
      ],
      "execution_count": null,
      "outputs": [
        {
          "output_type": "stream",
          "text": [
            "100\n",
            "100\n"
          ],
          "name": "stdout"
        }
      ]
    },
    {
      "cell_type": "code",
      "metadata": {
        "id": "fmj2Eu2LOqgv",
        "colab": {
          "base_uri": "https://localhost:8080/",
          "height": 1000
        },
        "outputId": "c6133fd8-9f54-42c2-e188-d499fa7a6b8d"
      },
      "source": [
        "while '' in OSummary:\n",
        "    OSummary.remove('')\n",
        "\n",
        "OSummary"
      ],
      "execution_count": null,
      "outputs": [
        {
          "output_type": "execute_result",
          "data": {
            "text/plain": [
              "['the cats dessert ',\n",
              " 'love this cereal chocolate is delicious ',\n",
              " 'so good ',\n",
              " 'great ',\n",
              " 'to have around for the kids guests and winter ',\n",
              " 'zuke mini naturals ',\n",
              " 'pretty good dark roast ',\n",
              " 'good and easy to use ',\n",
              " 'delicious ',\n",
              " 'great tasting well priced green tea ',\n",
              " 'organic non corn based treats over the top ',\n",
              " 'after all these years it still tastes wonderful ',\n",
              " 'disappointing very soft and too sweet ',\n",
              " 'awesome ',\n",
              " 'mmmmm good ',\n",
              " 'community is the best ',\n",
              " 'italian roast cup packs for keurig brewers pack of ',\n",
              " 'way overpriced ',\n",
              " 'deep saves these pork rinds ',\n",
              " 'nice treats ',\n",
              " 'good buy ',\n",
              " 'great ',\n",
              " 'good as ',\n",
              " 'the new favorite ',\n",
              " 'caffeine kick without the stomach burn ',\n",
              " 'kids love these ',\n",
              " 'yummy ',\n",
              " 'real might have tasted better ',\n",
              " 'never will purchase again ',\n",
              " 'wonderful breakfast bar ',\n",
              " 'good food toy for the ',\n",
              " 'fun for you and your dog ',\n",
              " 'great service from vendor great product ',\n",
              " 'cats like it ',\n",
              " 'oral hygiene dog chews ',\n",
              " 'okay ',\n",
              " 'twinings wonderfully delicious tea ',\n",
              " 'great in smoothies ',\n",
              " 'bold for green mountain but not bold ',\n",
              " 'just like ',\n",
              " 'worst cup of coffee have ever had ',\n",
              " 'love these brownies ',\n",
              " 'excellent quality and taste ',\n",
              " 'my favorite tea hands down hot or iced ',\n",
              " 'cherry pie in bar ',\n",
              " 'really works ',\n",
              " 'syrup pump ',\n",
              " 'vita traditional ',\n",
              " 'best pizza crust ever ',\n",
              " 'great alternative ',\n",
              " 'delicious ',\n",
              " 'ginger pieces too small ',\n",
              " 'buy these ',\n",
              " 'great cocoa ',\n",
              " 'excellent product ',\n",
              " 'great coffee ',\n",
              " 'sooooo yummy ',\n",
              " 'yum ',\n",
              " 'tasty nice aroma smooth taste ',\n",
              " 'this is for real ',\n",
              " 'yummy ',\n",
              " 'way too weak ',\n",
              " 'treats were stale ',\n",
              " 'much too salty ',\n",
              " 'great kona ',\n",
              " 'pretty pleased ',\n",
              " 'healthy tasty and support too ',\n",
              " 'strong yet bitter brew ',\n",
              " 'arrived fresh and in good shape ',\n",
              " 'great food ',\n",
              " 'where are the nuts ',\n",
              " 'the box exceeded expectations ',\n",
              " 'best baby food out there ',\n",
              " 'the ingredients this year ',\n",
              " 'taste good and helps with her hips ',\n",
              " 'my dogs love the little bits of steak ',\n",
              " 'exactly what ordered ',\n",
              " 'has no taste very dissapointed in this purchase ',\n",
              " 'better than most ',\n",
              " 'lots of ginger almost no lemon ',\n",
              " 'tea is so so ',\n",
              " 'stale cookies ',\n",
              " 'diet ',\n",
              " 'who does not love ',\n",
              " 'eating some right now ',\n",
              " 'peppery little bite ',\n",
              " 'best popcorn yet ',\n",
              " 'that amazon had online was not the product got ',\n",
              " 'child safe ',\n",
              " 'looks bigger than actual size ',\n",
              " 'terrific variety pack ',\n",
              " 'cannot believe this is healthy food ',\n",
              " 'replacement for grill alert ',\n",
              " 'kona at its best ',\n",
              " 'wonderful coffee ',\n",
              " 'great coffee great price ',\n",
              " 'lily fun chews ',\n",
              " 'tea has nice mild flavor ',\n",
              " 'way too much cardamom ',\n",
              " 'great for ']"
            ]
          },
          "metadata": {
            "tags": []
          },
          "execution_count": 67
        }
      ]
    },
    {
      "cell_type": "code",
      "metadata": {
        "id": "4JCGgcOOOvD3",
        "colab": {
          "base_uri": "https://localhost:8080/",
          "height": 177
        },
        "outputId": "e51717d0-3a40-4bbc-b236-1d6fe129ab42"
      },
      "source": [
        "[score.get_scores(OSummary,PSummary,avg = True)]"
      ],
      "execution_count": null,
      "outputs": [
        {
          "output_type": "execute_result",
          "data": {
            "text/plain": [
              "[{'rouge-1': {'f': 0.19558224919159925,\n",
              "   'p': 0.17689682539682536,\n",
              "   'r': 0.2547619047619047},\n",
              "  'rouge-2': {'f': 0.049603174258191614,\n",
              "   'p': 0.0435,\n",
              "   'r': 0.06833333333333334},\n",
              "  'rouge-l': {'f': 0.19561904572593738,\n",
              "   'p': 0.1768611111111111,\n",
              "   'r': 0.25416666666666665}}]"
            ]
          },
          "metadata": {
            "tags": []
          },
          "execution_count": 68
        }
      ]
    },
    {
      "cell_type": "code",
      "metadata": {
        "id": "N438ujGEOx-6",
        "colab": {
          "base_uri": "https://localhost:8080/",
          "height": 35
        },
        "outputId": "f1fe9d4a-a45e-4542-9302-20ccc2c67c96"
      },
      "source": [
        "avg=[]\n",
        "a=0\n",
        "for i in range(0,99):\n",
        "    BLEUscore = nltk.translate.bleu_score.sentence_bleu([OSummary[i]],PSummary[i])\n",
        "    avg.append(BLEUscore)\n",
        "\n",
        "for i in avg:\n",
        "    a=a+i\n",
        "\n",
        "\n",
        "print(a/99 *100)"
      ],
      "execution_count": null,
      "outputs": [
        {
          "output_type": "stream",
          "text": [
            "35.13953321487919\n"
          ],
          "name": "stdout"
        }
      ]
    },
    {
      "cell_type": "code",
      "metadata": {
        "id": "6mrA6SA3FWp8"
      },
      "source": [
        "# from sklearn.metrics.pairwise import cosine_similarity\n",
        "# from sklearn.feature_extraction.text import TfidfVectorizer\n",
        "\n",
        "# tfidf_vectorizer = TfidfVectorizer()\n",
        "\n",
        "# sentence = (\"\"\"My little Chihuahua and Jack Russell mix just loves these! She \n",
        "# gobbles them up! They are a perfect\n",
        "# size for her small mouth. According\n",
        "# to her, they are very tasty.\"\"\",\"\")\n",
        "# model = (\"My Dog Loves Them!\",\"\")\n",
        "# summary = (\"Chihuahua mix perfect\",\"\")\n",
        "\n",
        "# tfidf_matrix_sentence = tfidf_vectorizer.fit_transform(sentence) \n",
        "# tfidf_matrix_model = tfidf_vectorizer.transform(model) \n",
        "# tfidf_matrix_summary = tfidf_vectorizer.transform(summary) \n",
        "\n",
        "\n",
        "# cosine = cosine_similarity(tfidf_matrix_sentence, tfidf_matrix_model)\n",
        "# print(cosine)\n",
        "\n",
        "# cosine = cosine_similarity(tfidf_matrix_sentence, tfidf_matrix_summary)\n",
        "# print(cosine)"
      ],
      "execution_count": null,
      "outputs": []
    }
  ]
}